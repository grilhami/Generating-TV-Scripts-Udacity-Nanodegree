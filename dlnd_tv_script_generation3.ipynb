{
 "cells": [
  {
   "cell_type": "markdown",
   "metadata": {
    "deletable": true,
    "editable": true
   },
   "source": [
    "# TV Script Generation\n",
    "In this project, you'll generate your own [Simpsons](https://en.wikipedia.org/wiki/The_Simpsons) TV scripts using RNNs.  You'll be using part of the [Simpsons dataset](https://www.kaggle.com/wcukierski/the-simpsons-by-the-data) of scripts from 27 seasons.  The Neural Network you'll build will generate a new TV script for a scene at [Moe's Tavern](https://simpsonswiki.com/wiki/Moe's_Tavern).\n",
    "## Get the Data\n",
    "The data is already provided for you.  You'll be using a subset of the original dataset.  It consists of only the scenes in Moe's Tavern.  This doesn't include other versions of the tavern, like \"Moe's Cavern\", \"Flaming Moe's\", \"Uncle Moe's Family Feed-Bag\", etc.."
   ]
  },
  {
   "cell_type": "code",
   "execution_count": 120,
   "metadata": {
    "collapsed": false,
    "deletable": true,
    "editable": true
   },
   "outputs": [],
   "source": [
    "\"\"\"\n",
    "DON'T MODIFY ANYTHING IN THIS CELL\n",
    "\"\"\"\n",
    "import helper\n",
    "\n",
    "data_dir = './data/simpsons/moes_tavern_lines.txt'\n",
    "text = helper.load_data(data_dir)\n",
    "# Ignore notice, since we don't use it for analysing the data\n",
    "text = text[81:]"
   ]
  },
  {
   "cell_type": "code",
   "execution_count": 121,
   "metadata": {
    "collapsed": false,
    "deletable": true,
    "editable": true
   },
   "outputs": [
    {
     "name": "stdout",
     "output_type": "stream",
     "text": [
      "This is -> text1 = text[:1000]\n",
      "Moe_Szyslak: (INTO PHONE) Moe's Tavern. Where the elite meet to drink.\n",
      "Bart_Simpson: Eh, yeah, hello, is Mike there? Last name, Rotch.\n",
      "Moe_Szyslak: (INTO PHONE) Hold on, I'll check. (TO BARFLIES) Mike Rotch. Mike Rotch. Hey, has anybody seen Mike Rotch, lately?\n",
      "Moe_Szyslak: (INTO PHONE) Listen you little puke. One of these days I'm gonna catch you, and I'm gonna carve my name on your back with an ice pick.\n",
      "Moe_Szyslak: What's the matter Homer? You're not your normal effervescent self.\n",
      "Homer_Simp\n",
      "====================================================================================================\n",
      "This is -> text1.split()\n",
      "['Moe_Szyslak:', '(INTO', 'PHONE)', \"Moe's\", 'Tavern.', 'Where', 'the', 'elite', 'meet', 'to', 'drink.', 'Bart_Simpson:', 'Eh,', 'yeah,', 'hello,', 'is', 'Mike', 'there?', 'Last', 'name,', 'Rotch.', 'Moe_Szyslak:', '(INTO', 'PHONE)', 'Hold', 'on,', \"I'll\", 'check.', '(TO', 'BARFLIES)', 'Mike', 'Rotch.', 'Mike', 'Rotch.', 'Hey,', 'has', 'anybody', 'seen', 'Mike', 'Rotch,', 'lately?', 'Moe_Szyslak:', '(INTO', 'PHONE)', 'Listen', 'you', 'little', 'puke.', 'One', 'of', 'these', 'days', \"I'm\", 'gonna', 'catch', 'you,', 'and', \"I'm\", 'gonna', 'carve', 'my', 'name', 'on', 'your', 'back', 'with', 'an', 'ice', 'pick.', 'Moe_Szyslak:', \"What's\", 'the', 'matter', 'Homer?', \"You're\", 'not', 'your', 'normal', 'effervescent', 'self.', 'Homer_Simp']\n",
      "====================================================================================================\n",
      "This is -> di = {word: None for word in text1.split()}\n",
      "{'Tavern.': None, 'anybody': None, 'on,': None, 'lately?': None, 'check.': None, 'has': None, 'drink.': None, \"I'm\": None, 'on': None, 'little': None, 'my': None, 'Homer_Simp': None, 'Where': None, 'catch': None, 'is': None, '(TO': None, 'Hold': None, 'seen': None, '(INTO': None, \"I'll\": None, 'Listen': None, 'PHONE)': None, 'elite': None, \"What's\": None, 'Moe_Szyslak:': None, 'effervescent': None, 'your': None, 'these': None, 'BARFLIES)': None, 'gonna': None, 'pick.': None, 'Eh,': None, 'you': None, 'ice': None, 'carve': None, 'name': None, 'Mike': None, 'there?': None, 'Hey,': None, 'Last': None, \"You're\": None, 'normal': None, 'puke.': None, 'name,': None, 'matter': None, 'days': None, \"Moe's\": None, 'back': None, 'Bart_Simpson:': None, 'Homer?': None, 'One': None, 'to': None, 'the': None, 'of': None, 'yeah,': None, 'with': None, 'Rotch,': None, 'an': None, 'Rotch.': None, 'not': None, 'and': None, 'you,': None, 'meet': None, 'self.': None, 'hello,': None}\n",
      "Total of words is 65\n",
      "====================================================================================================\n",
      "This is -> sce_2 = text1.split('\n",
      "\n",
      "')\n",
      "[\"Moe_Szyslak: (INTO PHONE) Moe's Tavern. Where the elite meet to drink.\\nBart_Simpson: Eh, yeah, hello, is Mike there? Last name, Rotch.\\nMoe_Szyslak: (INTO PHONE) Hold on, I'll check. (TO BARFLIES) Mike Rotch. Mike Rotch. Hey, has anybody seen Mike Rotch, lately?\\nMoe_Szyslak: (INTO PHONE) Listen you little puke. One of these days I'm gonna catch you, and I'm gonna carve my name on your back with an ice pick.\\nMoe_Szyslak: What's the matter Homer? You're not your normal effervescent self.\\nHomer_Simp\"]\n",
      "====================================================================================================\n",
      "\n",
      "This is ->\n",
      "for s in sce_2:\n",
      "    print (s.split('\n",
      "'))\n",
      "\n",
      "[\"Moe_Szyslak: (INTO PHONE) Moe's Tavern. Where the elite meet to drink.\", 'Bart_Simpson: Eh, yeah, hello, is Mike there? Last name, Rotch.', \"Moe_Szyslak: (INTO PHONE) Hold on, I'll check. (TO BARFLIES) Mike Rotch. Mike Rotch. Hey, has anybody seen Mike Rotch, lately?\", \"Moe_Szyslak: (INTO PHONE) Listen you little puke. One of these days I'm gonna catch you, and I'm gonna carve my name on your back with an ice pick.\", \"Moe_Szyslak: What's the matter Homer? You're not your normal effervescent self.\", 'Homer_Simp']\n",
      "====================================================================================================\n",
      "This is -> [s.count('\n",
      "') for s in sce_2]\n",
      "[5]\n",
      " This is for \n",
      "x = {a for s in sce_2 for a in s.split('\n",
      "')}\n",
      "\n",
      "{\"Moe_Szyslak: What's the matter Homer? You're not your normal effervescent self.\", \"Moe_Szyslak: (INTO PHONE) Hold on, I'll check. (TO BARFLIES) Mike Rotch. Mike Rotch. Hey, has anybody seen Mike Rotch, lately?\", \"Moe_Szyslak: (INTO PHONE) Listen you little puke. One of these days I'm gonna catch you, and I'm gonna carve my name on your back with an ice pick.\", \"Moe_Szyslak: (INTO PHONE) Moe's Tavern. Where the elite meet to drink.\", 'Homer_Simp', 'Bart_Simpson: Eh, yeah, hello, is Mike there? Last name, Rotch.'}\n"
     ]
    }
   ],
   "source": [
    "# Don't mind me here\n",
    "# Just playing around with the dataset\n",
    "text1 = text[:500]\n",
    "print(\"This is -> text1 = text[:1000]\")\n",
    "print(text1)\n",
    "print(\"=\"*100)\n",
    "print(\"This is -> text1.split()\")\n",
    "print(text1.split())\n",
    "di = {word: None for word in text1.split()}\n",
    "print(\"=\"*100)\n",
    "print(\"This is -> di = {word: None for word in text1.split()}\")\n",
    "print(di)\n",
    "print(\"Total of words is {}\".format(len(di)))\n",
    "sce_2 = text1.split('\\n\\n')\n",
    "print(\"=\"*100)\n",
    "print(\"This is -> sce_2 = text1.split('\\n\\n')\")\n",
    "print(sce_2)\n",
    "print(\"=\"*100)\n",
    "print(\"\"\"\n",
    "This is ->\n",
    "for s in sce_2:\n",
    "    print (s.split('\\n'))\n",
    "\"\"\") \n",
    "for s in sce_2:\n",
    "    print (s.split('\\n'))\n",
    "se = [s.count('\\n') for s in sce_2]\n",
    "print(\"=\"*100)\n",
    "print(\"This is -> [s.count('\\n') for s in sce_2]\")\n",
    "print(se)\n",
    "x = {a for s in sce_2 for a in s.split('\\n')}\n",
    "print(\"\"\" This is for \n",
    "x = {a for s in sce_2 for a in s.split('\\n')}\n",
    "\"\"\")\n",
    "print(x)"
   ]
  },
  {
   "cell_type": "markdown",
   "metadata": {
    "deletable": true,
    "editable": true
   },
   "source": [
    "## Explore the Data\n",
    "Play around with `view_sentence_range` to view different parts of the data."
   ]
  },
  {
   "cell_type": "code",
   "execution_count": 122,
   "metadata": {
    "collapsed": false,
    "deletable": true,
    "editable": true
   },
   "outputs": [
    {
     "name": "stdout",
     "output_type": "stream",
     "text": [
      "Dataset Stats\n",
      "Roughly the number of unique words: 11492\n",
      "Number of scenes: 262\n",
      "Average number of sentences in each scene: 15.248091603053435\n",
      "Number of lines: 4257\n",
      "[\"Moe_Szyslak: (INTO PHONE) Moe's Tavern. Where the elite meet to drink.\", 'Bart_Simpson: Eh, yeah, hello, is Mike there? Last name, Rotch.', \"Moe_Szyslak: (INTO PHONE) Hold on, I'll check. (TO BARFLIES) Mike Rotch. Mike Rotch. Hey, has anybody seen Mike Rotch, lately?\", \"Moe_Szyslak: (INTO PHONE) Listen you little puke. One of these days I'm gonna catch you, and I'm gonna carve my name on your back with an ice pick.\", \"Moe_Szyslak: What's the matter Homer? You're not your normal effervescent self.\", 'Homer_Simpson: I got my problems, Moe. Give me another one.', 'Moe_Szyslak: Homer, hey, you should not drink to forget your problems.', 'Barney_Gumble: Yeah, you should only drink to enhance your social skills.', '', \"Moe_Szyslak: Ah, isn't that nice. Now, there is a politician who cares.\"]\n",
      "Average number of words in each line: 11.50434578341555\n",
      "\n",
      "The sentences 0 to 10:\n",
      "Moe_Szyslak: (INTO PHONE) Moe's Tavern. Where the elite meet to drink.\n",
      "Bart_Simpson: Eh, yeah, hello, is Mike there? Last name, Rotch.\n",
      "Moe_Szyslak: (INTO PHONE) Hold on, I'll check. (TO BARFLIES) Mike Rotch. Mike Rotch. Hey, has anybody seen Mike Rotch, lately?\n",
      "Moe_Szyslak: (INTO PHONE) Listen you little puke. One of these days I'm gonna catch you, and I'm gonna carve my name on your back with an ice pick.\n",
      "Moe_Szyslak: What's the matter Homer? You're not your normal effervescent self.\n",
      "Homer_Simpson: I got my problems, Moe. Give me another one.\n",
      "Moe_Szyslak: Homer, hey, you should not drink to forget your problems.\n",
      "Barney_Gumble: Yeah, you should only drink to enhance your social skills.\n",
      "\n",
      "\n"
     ]
    }
   ],
   "source": [
    "view_sentence_range = (0, 10)\n",
    "\n",
    "\"\"\"\n",
    "DON'T MODIFY ANYTHING IN THIS CELL\n",
    "\"\"\"\n",
    "import numpy as np\n",
    "\n",
    "print('Dataset Stats')\n",
    "print('Roughly the number of unique words: {}'.format(len({word: None for word in text.split()})))\n",
    "scenes = text.split('\\n\\n')\n",
    "print('Number of scenes: {}'.format(len(scenes)))\n",
    "sentence_count_scene = [scene.count('\\n') for scene in scenes]\n",
    "print('Average number of sentences in each scene: {}'.format(np.average(sentence_count_scene)))\n",
    "\n",
    "sentences = [sentence for scene in scenes for sentence in scene.split('\\n')]\n",
    "print('Number of lines: {}'.format(len(sentences)))\n",
    "print(sentences[:10])\n",
    "word_count_sentence = [len(sentence.split()) for sentence in sentences]\n",
    "print('Average number of words in each line: {}'.format(np.average(word_count_sentence)))\n",
    "\n",
    "print()\n",
    "print('The sentences {} to {}:'.format(*view_sentence_range))\n",
    "print('\\n'.join(text.split('\\n')[view_sentence_range[0]:view_sentence_range[1]]))"
   ]
  },
  {
   "cell_type": "code",
   "execution_count": 123,
   "metadata": {
    "collapsed": false,
    "deletable": true,
    "editable": true
   },
   "outputs": [
    {
     "name": "stdout",
     "output_type": "stream",
     "text": [
      "{'_', 'n', 'O', 'T', 'L', 'p', 'c', '?', 'S', '\\n', 'l', '.', ',', 'o', 'N', 'P', 'M', 'e', 'I', \"'\", 'r', 'W', 'h', 'F', ':', 'd', 'g', 'i', 'z', 'Y', 'a', 'B', 'w', 'y', 'A', 'R', '(', 'f', 'u', 'E', ' ', 's', ')', 't', 'H', 'k', 'v', 'm', 'b'}\n",
      "\n",
      "\n",
      "\n",
      "{0: '_', 1: 'n', 2: 'O', 3: 'T', 4: 'L', 5: 'p', 6: 'c', 7: '?', 8: 'S', 9: '\\n', 10: 'l', 11: '.', 12: ',', 13: 'o', 14: 'N', 15: 'P', 16: 'M', 17: 'e', 18: 'I', 19: \"'\", 20: 'r', 21: 'W', 22: 'h', 23: 'F', 24: ':', 25: 'd', 26: 'g', 27: 'i', 28: 'z', 29: 'Y', 30: 'a', 31: 'B', 32: 'w', 33: 'y', 34: 'A', 35: 'R', 36: '(', 37: 'f', 38: 'u', 39: 'E', 40: ' ', 41: 's', 42: ')', 43: 't', 44: 'H', 45: 'k', 46: 'v', 47: 'm', 48: 'b'}\n",
      "\n",
      "\n",
      "\n",
      "{'_': 0, 'n': 1, 'O': 2, 'T': 3, 'L': 4, 'p': 5, 'c': 6, '?': 7, 'S': 8, '\\n': 9, 'l': 10, '.': 11, 'M': 16, ',': 12, 'o': 13, 'W': 21, 'e': 17, 'I': 18, 'F': 23, 'h': 22, 'P': 15, ':': 24, 'd': 25, 'g': 26, 'i': 27, 'B': 31, 'z': 28, 'r': 20, 'Y': 29, 'a': 30, 'w': 32, 'y': 33, 'R': 35, '(': 36, 'f': 37, 'u': 38, 'E': 39, ' ': 40, 's': 41, ')': 42, 't': 43, 'H': 44, 'k': 45, \"'\": 19, 'm': 47, 'v': 46, 'A': 34, 'N': 14, 'b': 48}\n",
      "\n",
      "\n",
      "\n",
      "{0: 'M', 1: 'o', 2: 'e', 3: '_', 4: 'S', 5: 'z', 6: 'y', 7: 's', 8: 'l', 9: 'a', 10: 'k', 11: ':', 12: ' ', 13: '(', 14: 'I', 15: 'N', 16: 'T', 17: 'O', 18: ' ', 19: 'P', 20: 'H', 21: 'O', 22: 'N', 23: 'E', 24: ')', 25: ' ', 26: 'M', 27: 'o', 28: 'e', 29: \"'\", 30: 's', 31: ' ', 32: 'T', 33: 'a', 34: 'v', 35: 'e', 36: 'r', 37: 'n', 38: '.', 39: ' ', 40: 'W', 41: 'h', 42: 'e', 43: 'r', 44: 'e', 45: ' ', 46: 't', 47: 'h', 48: 'e', 49: ' ', 50: 'e', 51: 'l', 52: 'i', 53: 't', 54: 'e', 55: ' ', 56: 'm', 57: 'e', 58: 'e', 59: 't', 60: ' ', 61: 't', 62: 'o', 63: ' ', 64: 'd', 65: 'r', 66: 'i', 67: 'n', 68: 'k', 69: '.', 70: '\\n', 71: 'B', 72: 'a', 73: 'r', 74: 't', 75: '_', 76: 'S', 77: 'i', 78: 'm', 79: 'p', 80: 's', 81: 'o', 82: 'n', 83: ':', 84: ' ', 85: 'E', 86: 'h', 87: ',', 88: ' ', 89: 'y', 90: 'e', 91: 'a', 92: 'h', 93: ',', 94: ' ', 95: 'h', 96: 'e', 97: 'l', 98: 'l', 99: 'o', 100: ',', 101: ' ', 102: 'i', 103: 's', 104: ' ', 105: 'M', 106: 'i', 107: 'k', 108: 'e', 109: ' ', 110: 't', 111: 'h', 112: 'e', 113: 'r', 114: 'e', 115: '?', 116: ' ', 117: 'L', 118: 'a', 119: 's', 120: 't', 121: ' ', 122: 'n', 123: 'a', 124: 'm', 125: 'e', 126: ',', 127: ' ', 128: 'R', 129: 'o', 130: 't', 131: 'c', 132: 'h', 133: '.', 134: '\\n', 135: 'M', 136: 'o', 137: 'e', 138: '_', 139: 'S', 140: 'z', 141: 'y', 142: 's', 143: 'l', 144: 'a', 145: 'k', 146: ':', 147: ' ', 148: '(', 149: 'I', 150: 'N', 151: 'T', 152: 'O', 153: ' ', 154: 'P', 155: 'H', 156: 'O', 157: 'N', 158: 'E', 159: ')', 160: ' ', 161: 'H', 162: 'o', 163: 'l', 164: 'd', 165: ' ', 166: 'o', 167: 'n', 168: ',', 169: ' ', 170: 'I', 171: \"'\", 172: 'l', 173: 'l', 174: ' ', 175: 'c', 176: 'h', 177: 'e', 178: 'c', 179: 'k', 180: '.', 181: ' ', 182: '(', 183: 'T', 184: 'O', 185: ' ', 186: 'B', 187: 'A', 188: 'R', 189: 'F', 190: 'L', 191: 'I', 192: 'E', 193: 'S', 194: ')', 195: ' ', 196: 'M', 197: 'i', 198: 'k', 199: 'e', 200: ' ', 201: 'R', 202: 'o', 203: 't', 204: 'c', 205: 'h', 206: '.', 207: ' ', 208: 'M', 209: 'i', 210: 'k', 211: 'e', 212: ' ', 213: 'R', 214: 'o', 215: 't', 216: 'c', 217: 'h', 218: '.', 219: ' ', 220: 'H', 221: 'e', 222: 'y', 223: ',', 224: ' ', 225: 'h', 226: 'a', 227: 's', 228: ' ', 229: 'a', 230: 'n', 231: 'y', 232: 'b', 233: 'o', 234: 'd', 235: 'y', 236: ' ', 237: 's', 238: 'e', 239: 'e', 240: 'n', 241: ' ', 242: 'M', 243: 'i', 244: 'k', 245: 'e', 246: ' ', 247: 'R', 248: 'o', 249: 't', 250: 'c', 251: 'h', 252: ',', 253: ' ', 254: 'l', 255: 'a', 256: 't', 257: 'e', 258: 'l', 259: 'y', 260: '?', 261: '\\n', 262: 'M', 263: 'o', 264: 'e', 265: '_', 266: 'S', 267: 'z', 268: 'y', 269: 's', 270: 'l', 271: 'a', 272: 'k', 273: ':', 274: ' ', 275: '(', 276: 'I', 277: 'N', 278: 'T', 279: 'O', 280: ' ', 281: 'P', 282: 'H', 283: 'O', 284: 'N', 285: 'E', 286: ')', 287: ' ', 288: 'L', 289: 'i', 290: 's', 291: 't', 292: 'e', 293: 'n', 294: ' ', 295: 'y', 296: 'o', 297: 'u', 298: ' ', 299: 'l', 300: 'i', 301: 't', 302: 't', 303: 'l', 304: 'e', 305: ' ', 306: 'p', 307: 'u', 308: 'k', 309: 'e', 310: '.', 311: ' ', 312: 'O', 313: 'n', 314: 'e', 315: ' ', 316: 'o', 317: 'f', 318: ' ', 319: 't', 320: 'h', 321: 'e', 322: 's', 323: 'e', 324: ' ', 325: 'd', 326: 'a', 327: 'y', 328: 's', 329: ' ', 330: 'I', 331: \"'\", 332: 'm', 333: ' ', 334: 'g', 335: 'o', 336: 'n', 337: 'n', 338: 'a', 339: ' ', 340: 'c', 341: 'a', 342: 't', 343: 'c', 344: 'h', 345: ' ', 346: 'y', 347: 'o', 348: 'u', 349: ',', 350: ' ', 351: 'a', 352: 'n', 353: 'd', 354: ' ', 355: 'I', 356: \"'\", 357: 'm', 358: ' ', 359: 'g', 360: 'o', 361: 'n', 362: 'n', 363: 'a', 364: ' ', 365: 'c', 366: 'a', 367: 'r', 368: 'v', 369: 'e', 370: ' ', 371: 'm', 372: 'y', 373: ' ', 374: 'n', 375: 'a', 376: 'm', 377: 'e', 378: ' ', 379: 'o', 380: 'n', 381: ' ', 382: 'y', 383: 'o', 384: 'u', 385: 'r', 386: ' ', 387: 'b', 388: 'a', 389: 'c', 390: 'k', 391: ' ', 392: 'w', 393: 'i', 394: 't', 395: 'h', 396: ' ', 397: 'a', 398: 'n', 399: ' ', 400: 'i', 401: 'c', 402: 'e', 403: ' ', 404: 'p', 405: 'i', 406: 'c', 407: 'k', 408: '.', 409: '\\n', 410: 'M', 411: 'o', 412: 'e', 413: '_', 414: 'S', 415: 'z', 416: 'y', 417: 's', 418: 'l', 419: 'a', 420: 'k', 421: ':', 422: ' ', 423: 'W', 424: 'h', 425: 'a', 426: 't', 427: \"'\", 428: 's', 429: ' ', 430: 't', 431: 'h', 432: 'e', 433: ' ', 434: 'm', 435: 'a', 436: 't', 437: 't', 438: 'e', 439: 'r', 440: ' ', 441: 'H', 442: 'o', 443: 'm', 444: 'e', 445: 'r', 446: '?', 447: ' ', 448: 'Y', 449: 'o', 450: 'u', 451: \"'\", 452: 'r', 453: 'e', 454: ' ', 455: 'n', 456: 'o', 457: 't', 458: ' ', 459: 'y', 460: 'o', 461: 'u', 462: 'r', 463: ' ', 464: 'n', 465: 'o', 466: 'r', 467: 'm', 468: 'a', 469: 'l', 470: ' ', 471: 'e', 472: 'f', 473: 'f', 474: 'e', 475: 'r', 476: 'v', 477: 'e', 478: 's', 479: 'c', 480: 'e', 481: 'n', 482: 't', 483: ' ', 484: 's', 485: 'e', 486: 'l', 487: 'f', 488: '.', 489: '\\n', 490: 'H', 491: 'o', 492: 'm', 493: 'e', 494: 'r', 495: '_', 496: 'S', 497: 'i', 498: 'm', 499: 'p'}\n"
     ]
    }
   ],
   "source": [
    "print(set(text[:500]))\n",
    "print('\\n\\n')\n",
    "print({a: i for a, i in enumerate(set(text[:500]))})\n",
    "print('\\n\\n')\n",
    "print({a: i for i, a in enumerate(set(text[:500]))})\n",
    "print('\\n\\n')\n",
    "print(dict(enumerate(text[:500])))"
   ]
  },
  {
   "cell_type": "markdown",
   "metadata": {
    "deletable": true,
    "editable": true
   },
   "source": [
    "## Implement Preprocessing Functions\n",
    "The first thing to do to any dataset is preprocessing.  Implement the following preprocessing functions below:\n",
    "- Lookup Table\n",
    "- Tokenize Punctuation\n",
    "\n",
    "### Lookup Table\n",
    "To create a word embedding, you first need to transform the words to ids.  In this function, create two dictionaries:\n",
    "- Dictionary to go from the words to an id, we'll call `vocab_to_int`\n",
    "- Dictionary to go from the id to word, we'll call `int_to_vocab`\n",
    "\n",
    "Return these dictionaries in the following tuple `(vocab_to_int, int_to_vocab)`"
   ]
  },
  {
   "cell_type": "code",
   "execution_count": 124,
   "metadata": {
    "collapsed": false,
    "deletable": true,
    "editable": true
   },
   "outputs": [
    {
     "name": "stdout",
     "output_type": "stream",
     "text": [
      "Tests Passed\n"
     ]
    }
   ],
   "source": [
    "import numpy as np\n",
    "import problem_unittests as tests\n",
    "\n",
    "def create_lookup_tables(text):\n",
    "    \"\"\"\n",
    "    Create lookup tables for vocabulary\n",
    "    :param text: The text of tv scripts split into words\n",
    "    :return: A tuple of dicts (vocab_to_int, int_to_vocab)\n",
    "    \"\"\"\n",
    "    # TODO: Implement Function\n",
    "    vocab = set(text)\n",
    "    vocab_to_int = {a: i for i, a in enumerate(vocab)}\n",
    "    int_to_vocab = dict(enumerate(vocab))\n",
    "    return (vocab_to_int, int_to_vocab)\n",
    "\n",
    "\n",
    "\"\"\"\n",
    "DON'T MODIFY ANYTHING IN THIS CELL THAT IS BELOW THIS LINE\n",
    "\"\"\"\n",
    "tests.test_create_lookup_tables(create_lookup_tables)"
   ]
  },
  {
   "cell_type": "markdown",
   "metadata": {
    "deletable": true,
    "editable": true
   },
   "source": [
    "### Tokenize Punctuation\n",
    "We'll be splitting the script into a word array using spaces as delimiters.  However, punctuations like periods and exclamation marks make it hard for the neural network to distinguish between the word \"bye\" and \"bye!\".\n",
    "\n",
    "Implement the function `token_lookup` to return a dict that will be used to tokenize symbols like \"!\" into \"||Exclamation_Mark||\".  Create a dictionary for the following symbols where the symbol is the key and value is the token:\n",
    "- Period ( . )\n",
    "- Comma ( , )\n",
    "- Quotation Mark ( \" )\n",
    "- Semicolon ( ; )\n",
    "- Exclamation mark ( ! )\n",
    "- Question mark ( ? )\n",
    "- Left Parentheses ( ( )\n",
    "- Right Parentheses ( ) )\n",
    "- Dash ( -- )\n",
    "- Return ( \\n )\n",
    "\n",
    "This dictionary will be used to token the symbols and add the delimiter (space) around it.  This separates the symbols as it's own word, making it easier for the neural network to predict on the next word. Make sure you don't use a token that could be confused as a word. Instead of using the token \"dash\", try using something like \"||dash||\"."
   ]
  },
  {
   "cell_type": "code",
   "execution_count": 125,
   "metadata": {
    "collapsed": false,
    "deletable": true,
    "editable": true
   },
   "outputs": [
    {
     "name": "stdout",
     "output_type": "stream",
     "text": [
      "Tests Passed\n"
     ]
    }
   ],
   "source": [
    "def token_lookup():\n",
    "    \"\"\"\n",
    "    Generate a dict to turn punctuation into a token.\n",
    "    :return: Tokenize dictionary where the key is the punctuation and the value is the token\n",
    "    \"\"\"\n",
    "    # TODO: Implement Function\n",
    "    values = ['||Period||', '||Comma||', '||Quotation_Mark||', '||Semicolon||', \n",
    "              '||Exclamation_mark||', '||Question_mark||', '||Left_Parentheses||', \n",
    "              '||Right_Parentheses', '||Dash||', '||Return||']\n",
    "    keys = ['.', ',', '\"', ';', '!', '?', '(', ')', '--', '\\n']\n",
    "    return dict(zip(keys, values))\n",
    "\n",
    "\"\"\"\n",
    "DON'T MODIFY ANYTHING IN THIS CELL THAT IS BELOW THIS LINE\n",
    "\"\"\"\n",
    "tests.test_tokenize(token_lookup)"
   ]
  },
  {
   "cell_type": "markdown",
   "metadata": {
    "deletable": true,
    "editable": true
   },
   "source": [
    "## Preprocess all the data and save it\n",
    "Running the code cell below will preprocess all the data and save it to file."
   ]
  },
  {
   "cell_type": "code",
   "execution_count": 126,
   "metadata": {
    "collapsed": false,
    "deletable": true,
    "editable": true
   },
   "outputs": [],
   "source": [
    "\"\"\"\n",
    "DON'T MODIFY ANYTHING IN THIS CELL\n",
    "\"\"\"\n",
    "# Preprocess Training, Validation, and Testing Data\n",
    "helper.preprocess_and_save_data(data_dir, token_lookup, create_lookup_tables)"
   ]
  },
  {
   "cell_type": "markdown",
   "metadata": {
    "deletable": true,
    "editable": true
   },
   "source": [
    "# Check Point\n",
    "This is your first checkpoint. If you ever decide to come back to this notebook or have to restart the notebook, you can start from here. The preprocessed data has been saved to disk."
   ]
  },
  {
   "cell_type": "code",
   "execution_count": 127,
   "metadata": {
    "collapsed": false,
    "deletable": true,
    "editable": true
   },
   "outputs": [],
   "source": [
    "\"\"\"\n",
    "DON'T MODIFY ANYTHING IN THIS CELL\n",
    "\"\"\"\n",
    "import helper\n",
    "import numpy as np\n",
    "import problem_unittests as tests\n",
    "\n",
    "int_text, vocab_to_int, int_to_vocab, token_dict = helper.load_preprocess()"
   ]
  },
  {
   "cell_type": "code",
   "execution_count": 128,
   "metadata": {
    "collapsed": false,
    "deletable": true,
    "editable": true
   },
   "outputs": [
    {
     "name": "stdout",
     "output_type": "stream",
     "text": [
      "[2624, 859, 4423, 3021, 2253, 5637, 5256, 3340, 1393, 2305, 6013, 4365, 3678, 5802, 3340, 6127, 5452, 6607, 5371, 839, 5371, 3382, 5371, 2384, 2800, 2376, 4097, 6164, 3205, 5371, 6631, 3340, 6127, 2624, 859, 4423, 3021, 2253, 2405, 6252, 5371, 125, 5351, 3340, 859, 3678, 5162, 2253, 2800, 6631, 3340, 2800, 6631, 3340, 2121, 5371, 4038, 6227, 1380, 2800, 6631, 5371, 4964, 4097, 6127, 2624, 859, 4423, 3021, 2253, 2774, 2317, 4255, 1154, 3340, 560, 5063, 5965, 3012, 2072, 3132, 5091, 2317, 5371, 6427, 2072, 3132, 5447, 1514, 3205, 6252, 4737, 4923, 2497, 518, 4234, 2513, 3340, 6127, 2624, 3575, 2305, 984, 2585, 4097, 572, 4987, 4737, 4306, 1734, 4976, 3340, 6127, 4578, 6484, 1297, 1514, 6104, 5371, 4494, 3340, 3838, 5722, 1390, 560, 3340, 6127, 2624, 2585, 5371, 2121, 5371, 2317, 2794, 4987, 5802, 3678, 3258, 4737, 6104, 3340, 6127, 4312, 839, 5371, 2317, 2794, 591, 5802, 3678, 5594, 4737, 1302, 59, 3340, 6127, 6127, 6127, 2624, 3882, 5371, 4451, 6640, 1232, 3340, 827, 5371, 2376, 2384, 4303, 2351, 683, 6558, 3340, 6127, 4312, 332, 6484, 2184, 4402, 5371, 1359, 2878, 5520, 6238, 3340, 859, 6649, 2253, 6127, 6127, 6127, 4312, 2121, 2585, 5371, 656, 4737, 763, 6552, 2921, 4097, 6127, 4578, 5429, 3340, 5387, 3004, 12, 2376, 5757, 1602, 3340, 1758, 4842, 4303, 4110, 5701, 332, 5387, 2400, 5378, 2305, 1980, 3340, 859, 5405, 2253, 6127, 2624, 859, 1562, 2497, 343, 2253, 3475, 4053, 4114, 3891, 862, 3039, 5387, 4946, 4097, 6127, 4578, 698, 5371, 3529, 5145, 5371, 4494, 3340, 3340, 3340, 6127, 3450, 859, 4596, 6484, 286, 3340, 6127, 6127, 6127, 2624, 6328, 6370, 4401, 2384, 2305, 2975, 3340, 6127, 4312, 6237, 5757, 5472, 3340, 6484, 6703, 4842, 2947, 4303, 2311, 2981, 3340, 6127, 4312, 4567, 2305, 1952, 3480, 5823, 1799, 2317, 5476, 6737, 6067, 2712, 5371, 6776, 8, 5371, 2317, 3130, 4035, 4252, 5384, 1679, 5520, 5722, 3891, 6127, 6431, 6484, 4963, 5371, 3251, 3340, 6570, 3340, 6338, 332, 4618, 5458, 5722, 5371, 2072, 3599, 1514, 2337, 5520, 2305, 3619, 428, 3340, 6484, 1803, 66, 169, 2878, 131, 3678, 4328, 6238, 3508, 5520, 4303, 1602, 3678, 4003, 862, 2500, 6238, 2761, 3340, 6127, 4312, 3802, 5371, 6237, 2401, 3340, 6484, 4983, 3678, 4328, 1514, 2337, 3678, 4303, 1553, 5063, 6408, 1677, 3340, 859, 6649, 2253, 6127, 2624, 822, 2317, 1749, 3340, 560, 4428, 5371, 560, 2239, 1637, 3340, 6127, 6431, 698, 5371, 5458, 5722, 5371, 6484, 4842, 2305, 2239, 1637, 3340, 6127, 2624, 3802, 3340, 6127, 2624, 3575, 2305, 984, 5371, 2585, 4097, 2305, 535, 2498, 5063, 5047, 2732, 4922, 2539, 4252, 3108, 4029, 3480, 3340, 6127, 6431, 1653, 3004, 4303, 4255, 6184, 3340, 859, 319, 2253, 5387, 4038, 3678, 3838, 4303, 3355, 1293, 6252, 5998, 5211, 3678, 1882, 5474, 4252, 4303, 5671, 3340, 5998, 6127, 4578, 859, 6029, 2253, 862, 6245, 6484, 3132, 3950, 4097, 862, 6245, 6484, 3132, 3950, 4097, 6127, 4312, 2121, 5371, 6484, 5383, 3678, 3838, 4303, 3355, 3216, 3340, 6484, 6173, 4290, 6184, 5371, 4567, 6484, 4983, 4303, 4255, 1007]\n",
      "\n",
      "\n",
      "{'unfresh': 0, 'mission': 1, 'foibles': 3415, 'coms': 3416, 'wantcha': 3417, 'ura': 3414, 'philip': 5621, \"'evening\": 1156, 'bums': 2, 'pursue': 3, 'musketeers': 1158, 'steam': 3418, 'diminish': 3419, 'reward': 4, 'ecru': 3420, 'post-suicide': 5, 'ralph_wiggum:': 3421, 'dae': 3422, 'hall': 6, 'kills': 3423, 'whale': 7, 'ape-like': 3424, 'farewell': 3425, 'paintings': 3426, 'people': 8, 'shoes': 9, 'meal': 3428, 'goldarnit': 10, \"fendin'\": 3429, 'many': 3430, 'tongue': 3431, 'glamour': 11, 'regretful': 3433, 'reed': 3434, 'sits': 12, 'pipe': 13, 'man_at_bar:': 5623, 'tow': 14, 'make:': 15, 'occasion': 16, 'thirty-thousand': 17, 'something:': 3436, 'lookalike:': 3437, 'mull': 2966, 'late': 18, 'answer': 19, 'exchange': 20, 'butts': 21, 'anti-lock': 22, 'old-time': 3440, 'attach': 3441, 'greetings': 3442, 'sixty-nine': 3443, 'powered': 3444, 'healthier': 23, 'sperm': 1703, 'specials': 3445, 'pass': 3446, 'science': 1144, 'flowers': 2848, 'heliotrope': 3447, 'wide': 3448, 'clapping': 3449, 'mumbling': 25, 'homer_': 3450, \"tv's\": 3451, 'mouths': 3452, 'silence': 3453, 'mill': 26, \"'er\": 2849, 'man_with_crazy_beard:': 28, 'ahh': 3454, 'horrible': 29, 'belches': 3457, 'pian-ee': 30, 'coach:': 1639, 'circus': 31, 'tummies': 32, \"can't-believe-how-bald-he-is\": 33, 'enveloped': 34, 'accurate': 3460, 'excuses': 3462, 'amnesia': 35, 'barflies:': 36, 'throats': 3463, 'toy': 37, 'ruuuule': 3464, 'convenient': 38, 'oww': 3465, 'ultimate': 3467, \"grandmother's\": 3468, 'hmm': 3469, 'testing': 1247, 'newspaper': 39, 'chicken': 1166, 'cleaning': 40, 'competing': 41, 'unsourced': 45, 'hammer': 43, 'fistiana': 44, 'ding-a-ding-ding-a-ding-ding': 46, 'pigtown': 47, 'stillwater:': 3470, 'lipo': 3471, 'phrase': 48, 'trees': 49, 'teen': 50, 'leonard': 4518, 'attack': 3343, 'chuckle': 3473, 'come': 51, 'dangerous': 3474, 'crummy': 3475, 'saving': 3476, 'lifts': 3477, 'lonely': 3478, 'business': 6514, 'temporarily': 3998, 'virtual': 3479, 'photographer': 52, 'served': 53, 'smugglers': 2851, 'time': 3480, 'courts': 3481, 'syndicate': 54, 'narrator:': 56, 'moolah-stealing': 1163, 'benjamin': 57, 'feels': 58, 'skills': 59, 'strokkur': 3483, 'mostrar': 3484, \"tap-pullin'\": 60, 'word': 61, 'unhook': 1170, \"s'okay\": 62, 'piece': 3486, 'older': 3487, 'law': 63, 'bastard': 64, 'golden': 65, 'lenny_leonard:': 3489, 'mom': 4522, 'pasta': 1709, 'it': 66, 'sternly': 68, 'displeased': 69, 'needed': 70, \"drinkin'\": 71, 'corpses': 3490, 'german': 72, 'weight': 76, 'wang': 74, 'sotto': 75, 'cans': 3493, 'pyramid': 77, 'patrons:': 3495, 'jigger': 78, 'following': 3496, \"should've\": 3497, 'blimp': 3498, 'badge': 1171, 'weekly': 80, 'raccoons': 2856, 'quimby': 3500, 'philosophic': 3501, 'declared': 3502, 'poker': 3503, 'whoever': 3504, 'drunkening': 3505, 'negative': 3506, 'monday': 3507, 'dignified': 83, 'wazoo': 602, 'around': 3508, 'tiger': 3509, 'intention': 3510, 'home': 3511, 'group': 1531, 'sound': 5638, 'krusty': 3513, 'coupon': 85, 'principal': 3514, 'diving': 86, \"ragin'\": 3515, 'fist': 88, 'disappeared': 89, 'tabooger': 91, 'foodie': 92, 'grim': 93, 'citizens': 94, \"startin'\": 3518, 'morlocks': 95, 'oblongata': 3519, 'lookalikes': 96, \"rasputin's\": 3520, 'babies': 3521, 'getup': 4233, 'pub': 97, 'presidential': 3523, 'steamed': 98, 'bulked': 3524, 'disgracefully': 1714, 'collapse': 3525, 'incredible': 3526, 'lewis': 3527, 'gloop': 3528, 'special': 4002, 'well': 3529, 'especially': 100, 'mmm-hmm': 3530, 'pudgy': 3531, 'tv_husband:': 3532, \"smokin'\": 3748, 'trolls': 101, 'fabulous': 102, 'favorite': 103, 'princess': 3533, 'fondly': 104, 'continuum': 3534, 'carl_carlson:': 3535, 'endorsed': 106, \"liftin'\": 107, 'polygon': 108, 'stained-glass': 109, 'poet': 111, 'world-class': 112, \"number's\": 113, 'rush': 114, 'swatch': 116, 'tapping': 117, 'marge': 3540, 'sex': 3541, 'pets': 3439, 'suru': 3542, 'young_homer:': 119, 'stolen': 3543, \"comin'\": 121, 'worldly': 122, 'priceless': 123, 'cletus_spuckler:': 3545, \"neat's-foot\": 124, 'simpson': 3546, 'yard': 3547, '1973': 126, 'help': 3549, 'progress': 127, 'ron_howard:': 4692, 'buzziness': 3552, 'direction': 3553, 'multi-national': 3554, 'housing': 128, 'gulliver_dark:': 3555, 'macho': 129, 'britannia': 130, 'troll': 3556, 'neat': 131, 'trucks': 3557, 'door': 2870, 'clenched': 3558, 'duffman:': 3559, 'lost': 132, 'behind': 4690, 'marvin': 3561, 'in-in-in': 133, 'pretend': 134, 'medical': 3563, 'ron': 3564, 'carmichael': 614, 'tons': 6206, 'ahhhh': 135, 'sponge:': 3565, 'susie-q': 136, 'lodge': 137, 'working': 3566, 'th-th-th-the': 139, 'windshield': 140, 'mckinley': 24, 'speaking': 3568, 'delete': 141, 'disgusted': 3569, 'candy': 142, 'maya:': 3571, 'have': 4842, 'done': 2701, 'shakes': 144, 'lobster-based': 3572, 'glass': 145, 'thing:': 146, 'demo': 147, \"what's\": 3575, 'friend:': 3576, 'c': 4008, 'undermine': 3577, \"payin'\": 148, 'alcoholic': 149, '&': 3579, 'girl': 3580, 'laid': 616, 'monroe': 150, 'focus': 152, 'yuh-huh': 3581, 'freaky': 153, 'cases': 3582, 'choices:': 5649, 'honored': 1180, \"larry's\": 3583, 'angrily': 3395, 'entirely': 1723, 'panicked': 3584, \"today's\": 3585, 'spilled': 3586, 'shifty': 3587, 'knuckle-dragging': 617, 'acronyms': 2167, 'stevie': 3588, 'aww': 6212, 'radiation': 155, 'journey': 3589, 'virility': 3590, 'harv:': 156, 'reconsidering': 2313, 'football': 3591, 'newsletter': 157, 'rock': 3592, 'y': 2876, 'clothespins:': 3593, 'slow': 3594, 'stamp': 3595, 'hibbert': 161, 'road': 163, 'sealed': 164, 'julep': 165, 'bagged': 3598, 'measure': 1729, 'boggs': 166, 'profiling': 3599, 'hoo': 27, 'light': 3600, 'change': 167, 'drop-off': 168, 'moe-heads': 3601, 'declare': 3602, 'would': 169, 'contented': 2881, 'spitting': 3455, 'hungry': 170, 'iran': 171, 'fell': 4016, 'haws': 3605, 'skunk': 3606, 'wasting': 623, 'cause': 3607, 'unkempt': 948, 'fleabag': 3608, 'hans:': 172, 'cheese': 3611, 'whatchamacallit': 3610, 'astonishment': 175, 'manboobs': 3612, 'furry': 176, 'sneaky': 177, 'horrors': 3458, 'perch': 178, 'scornfully': 3613, 'shot': 179, 'kinderhook': 180, 'assume': 3615, 'rice': 181, 'nauseous': 182, 'played': 183, 'weary': 184, 'christopher': 3618, 'enjoy': 185, \"o'problem\": 186, 'discussing': 188, 'school': 3619, 'stab': 189, 'ayyy': 3621, \"wife's\": 1732, 'grenky': 190, 'bedridden': 191, \"hell's\": 192, 'plug': 193, 'seriously': 3623, 'you': 2317, 'parenting': 3624, 'waylon_smithers:': 3625, 'neighborhood': 194, 'sunk': 3626, 'run': 195, 'debonair': 196, 'fdic': 197, 'excitement': 198, 'smile:': 199, 'disappear': 628, 'environment': 3628, 'two-drink': 3629, 't-shirt': 3630, 'therapy': 200, 'chum': 3459, 'smurfs': 3631, 'rapidly': 3632, 'sir': 3633, 'plums': 201, 'rem': 718, 'sports': 202, 'wipes': 204, '100': 3634, 'cheesecake': 3636, 'off': 3637, 'loves': 205, 'treehouse': 3638, 'open': 2989, 'comforting': 5093, 'experience': 206, 'holding': 3639, 'kindly': 207, \"bart's\": 2886, 'slap': 3640, 'seats': 5657, \"show's\": 208, 'mistakes': 3643, 'alfalfa': 5096, 'mater': 3645, 'mug': 3646, 'mole': 3647, 'doooown': 3648, 'etc': 210, 'happen': 3649, 'present': 3650, 'hate': 1738, 'madonna': 3652, 'hundreds': 3653, 'vance': 629, 'kool': 211, 'scornful': 212, 'pajamas': 214, 'gag': 3654, 'burns': 3655, 'lurks': 215, 'self-centered': 2321, 'ralph': 3656, 'cushions': 3657, 'answers': 216, 'bank': 217, 'sugar-me-do': 3658, 'steaming': 4548, 'annoyed': 3363, 'wooden': 5662, \"floatin'\": 3354, 'jukebox_record:': 218, 'patriotic': 5876, 'gals': 3660, 'associate': 3466, \"kiddin'\": 219, 'resigned': 3661, 'baseball': 220, 'failure': 221, 'grandiose': 2889, 'philosophical': 1741, 'chub': 3664, 'massage': 222, 'tender': 223, 'suit': 3666, 'elizabeth': 3667, 'kako:': 3668, 'bleeding': 3669, 'rag': 224, 'scully': 225, 'cleaned': 3671, 'cleveland': 3672, 'understood:': 3673, 'sucked': 227, 'play/': 3675, 'frankly': 228, 'vehicle': 6230, 'form': 229, 'position': 230, 'to': 3678, 'forehead': 231, 'photos': 3024, 'cut': 232, 'sweaty': 3681, 'tank': 3685, \"betsy'll\": 3683, 'fury': 233, 'walther_hotenhoffer:': 3686, 'yew': 3687, 'killed': 3688, 'stretch': 3689, 'carolina': 234, \"santa's\": 235, 'jump': 236, 'ees': 3692, 'obese': 237, 'dating': 238, 'youuu': 42, 'liar': 3694, 'clown': 240, 'could': 3695, \"takin'\": 3696, 'again': 4551, 'probably': 3697, 'neon': 4553, \"foolin'\": 242, \"lady's\": 243, 'exhaust': 244, 'klown': 1746, 'hated': 246, 'endorsement': 3699, 'fourteen:': 1195, 'inserts': 248, 'arrived': 3700, 'liser': 250, 'santeria': 251, 'highball': 252, 'sport': 3702, 'harder': 253, \"homer's_brain:\": 4557, 'shores': 254, 'story': 255, 'bridge': 1196, 'scruffy_blogger:': 3704, 'stamps': 3705, '50-60': 5103, 'judge_snyder:': 256, 'chumbawamba': 258, 'creates': 3706, 'ivana': 2331, 'thirty-three': 2892, 'meaningful': 3707, 'forbids': 259, 'daniel': 5674, 'therapist': 260, 'name:': 261, 'forgiven': 262, 'skin': 263, 'taps': 1286, 'backbone': 2896, 'lear': 264, 'we-we-we': 3709, 'businessman_#2:': 265, 'snap': 4031, 'men:': 3712, 'gargoyles': 266, 'tactful': 3715, 'went': 267, 'dreary': 3716, 'perfect': 3717, 'movies': 3718, 'cents': 3719, 'albeit': 3720, 'brassiest': 268, 'degradation': 3721, 'after': 3722, 'easygoing': 269, 'deny': 1202, 'traffic': 3723, 'bar_rag:': 3724, 'rev': 270, 'seven': 1750, 'belong': 3725, 'blood-thirsty': 3726, 'surgery': 3727, 'handsome': 271, 'power': 272, 'shooting': 3728, 'literary': 273, 'paints': 274, \"what'll\": 3729, 'put': 3730, 'perking': 3731, 'mail': 275, 'edge': 276, 'steampunk': 277, 'manuel': 3733, 'wearing': 279, 'insulted': 281, 'sacrifice': 282, 'his': 3735, 'completely': 284, 'device': 285, 'dunno': 286, 'goal': 3736, 'average': 288, 'edison': 289, \"tinklin'\": 290, 'knife': 3739, 'renovations': 292, 'barkeeps': 3741, 'clears': 293, 'springfield': 3742, 'hot': 3743, 'u2:': 294, 'california': 4565, 'one-hour': 295, 'moved': 296, 'hyahh': 297, 'agree': 298, 'loyal': 4153, 'eminence': 3745, 'robot': 299, 'pre-recorded': 300, 'best': 301, 're:': 303, 'chew': 304, 'selma': 306, 'something': 3747, 'whispered': 1754, 'urge': 3749, 'tree': 3750, 'short_man:': 5116, 'mother': 4045, \"seein'\": 308, 'ehhh': 3752, 'nineteen': 3753, 'violin': 3754, \"dyin'\": 3755, 'tired': 3756, 'throat': 2902, 'flashing': 3758, 'uneasy': 3759, 'depressing': 309, \"something's\": 3760, 'additional-seating-capacity': 3761, \"costume's\": 310, 'grampa': 311, 'jubilation': 3763, 'canyoner-oooo': 3764, 'problem': 3765, 'lowers': 313, 'low-life': 1756, 'fire': 314, 'experienced': 4372, 'rip': 55, 'harvey': 315, 'mitts': 316, 'outlive': 317, 'bowling': 318, 'proudly': 319, 'inspired': 320, 'churchy': 3767, 'intoxicated': 3768, 'boned': 3769, 'slot': 4050, 'painting': 3770, 'guest': 321, 'masks': 3771, 'sober': 322, 'horses': 1761, 'sponge': 323, 'wonderful': 324, 'celebrities': 3772, \"yesterday's\": 325, 'conversations': 326, 'tonic': 3773, 'kids': 3774, 'kissingher': 3775, 'th': 1209, 'election': 3776, 'ehhhhhhhh': 327, 'fevered': 328, 'decency': 3778, 'moe-ron': 3779, 'stooges': 3780, 'feed': 329, 'mamma': 3781, 'scary': 330, 'package': 3782, 'found': 2347, 'radio': 331, 'entrance': 3783, 'if': 332, 'pages': 333, 'buffalo': 334, 'dealt': 5684, 'wigs': 4572, 'rolling': 335, 'blown': 3784, 'grand': 3785, \"kearney's_dad:\": 336, 'museum': 337, 'early': 338, 'tall': 339, 'specialists': 340, 'drunkenly': 341, 'delays': 3787, 'continued': 342, 'corkscrew': 343, 'jägermeister': 344, 'blooded': 345, 'dimly': 346, 'dinner': 347, 'scarf': 2910, 'strangles': 3485, 'eventually': 348, 'connor': 3789, 'comic': 3790, 'finally': 349, 'defensive': 350, 'lying': 351, 'promise': 3791, \"readin'\": 3792, 'rancid': 352, 'seething': 353, 'cuz': 354, 'considering:': 3794, \"somethin':\": 3795, 'backward': 3796, 'support': 355, 'cooker': 356, \"won't\": 357, 'everyone': 3799, '14': 358, 'coma': 359, 'excited': 3801, 'amount': 360, 'bad': 361, 'fast-food': 3488, 'oh': 3802, 'fighting': 362, 'steely-eyed': 363, 'womb': 3803, 'produce': 3804, 'picnic': 364, 'yello': 365, 'tire': 3805, 'side': 3806, 'above': 3807, 'factor': 3808, 'instrument': 366, 'odd': 367, 'swallowed': 368, 'alter': 370, 'ominous': 3812, 'allowed': 371, 'sistine': 3813, 'helps': 3814, 'glowers': 67, 'roomy': 6728, 'spender': 2312, 'homeland': 373, 'cupid': 3815, 'naval': 374, \"renee's\": 375, 'forgot': 3816, 'grimly': 2914, 'absentmindedly': 3817, 'dentist': 377, 'neighboreeno': 379, 'lift': 3819, 'sloe': 3820, 'scum': 3821, 'shock': 380, 'this:': 3822, 'yea': 3823, 'aerospace': 381, 'way:': 3824, 'today': 382, 'alky': 384, 'headhunters': 3825, 'smoke': 3826, 'hide': 386, 'four-drink': 3828, 'elmer': 3829, 'd': 387, 'drift': 388, 'still': 3830, 'sometimes': 2916, 'victorious': 389, 'finished': 4583, \"smackin'\": 390, 'binoculars': 391, 'number': 3831, 'tell': 392, 'tommy': 3491, 'wistful': 393, 'sequel': 73, 'justify': 394, 'rumaki': 3833, 'pouring': 3834, 'pilsner-pusher': 3351, 'kegs': 3835, 'junkyard': 396, 'astronaut': 3836, 'lemme': 1663, \"bringin'\": 397, 'cries': 398, 'instantly': 2392, 'pile': 3837, 'inspector': 399, 'stay-puft': 400, 'give': 3838, 'cup': 401, 'cooler': 3839, 'pussycat': 402, 'tenuous': 403, 'thousand': 404, 'quadruple-sec': 405, 'socialize': 2728, 'flanders:': 406, 'emphasis': 3494, 'roller': 3842, 'while': 407, 'triple-sec': 1215, 'city': 3843, 'cheryl': 3844, 'deli': 3845, \"england's\": 3846, 'reporter': 3847, 'ground': 408, 'made': 409, '250': 3848, 'cheers': 410, 'presidents': 411, 'naively': 412, 'understood': 3849, 'watashi': 79, 'film': 3850, 'called': 3851, 'explanation': 1627, 'composer': 4061, 'transfer': 3852, 'getting': 3853, 'befriend': 654, 'holds': 413, 'warmth': 414, 'average-looking': 1217, 'resist': 3855, 'senators': 415, 'assumed': 416, 'tastes': 417, 'married': 3499, 'gotcha': 418, 'saying': 3858, 'stagehand:': 419, 'unless': 420, 'strong': 421, 'badges': 422, 'innocence': 3862, 'worst': 423, 'adjourned': 424, 'tremendous': 425, 'increasingly': 3863, 'white_rabbit:': 3864, 'ling': 426, 'sitting': 5692, 'idiots': 3866, 'dollars': 3867, 'robin': 427, 'paper': 428, 'beating': 429, 'snatch': 1772, 'wangs': 6070, 'beep': 3870, 'agh': 3871, 'train': 2922, 'arguing': 430, 'grunt': 3873, 'anyway': 3874, \"men's\": 2865, 'trash': 431, 'declan_desmond:': 4910, 'evasive': 3875, 'scam': 432, 'aggravazes': 434, \"cashin'\": 3877, 'chipper': 2923, 'middle': 3878, \"how'd\": 3879, 'traitor': 3881, 'shack': 3738, 'signal': 435, 'ah': 3882, 'crab': 436, '6': 437, 'quality': 3883, 'killing': 3884, 'cheering': 439, 'warranty': 3885, 'castle': 440, 'send': 441, 'wha': 81, 'date': 442, 'bartenders': 443, 'drawing': 444, 'finale': 3886, \"it'd\": 445, 'ing': 3887, 'camera': 446, 'state': 3888, 'wonder': 3889, 'amends': 447, 'warning': 449, 'abandon': 451, 'walking': 3890, 'sampler': 452, '||exclamation_mark||': 3891, 'ready': 2925, 'irs': 453, 'rolled': 3892, 'harvard': 4592, 'insurance': 82, 'germany': 3893, 'winner': 455, 'results': 2926, 'advertise': 3895, 'nasa': 457, 'icelandic': 3897, 'zeal': 3898, 'tearfully': 458, 'tab': 3899, 'unfair': 459, 'themselves': 6322, 'hearing': 3900, 'chubby': 3901, 'burning': 3902, 'sooner': 460, 'owned': 461, 'media': 3904, 'indifference': 663, 'jukebox': 3905, 'knees': 3906, 'mild': 463, 'estranged': 1739, 'husband': 464, 'apology': 465, 'charter': 466, \"don'tcha\": 467, 'judge': 468, 'popped': 469, 'alva': 1227, 'typing': 1777, 'laughing': 2357, 'option': 471, 'theatrical': 3909, 'wisconsin': 472, 'pants': 475, 'audience': 474, 'sesame': 90, 'hilton': 3911, 'highest': 1778, 'sobbing': 476, 'peeping': 478, 'guilt': 3913, 'offshoot': 1780, 'aggravated': 3914, 'dark': 3915, 'bring': 479, 'augustus': 480, 'stored': 3917, 'noggin': 481, 'stomach': 482, 'excavating': 483, 'bartholomé:': 3918, 'birthplace': 3919, 'hooked': 484, 'passed': 485, 'whaddaya': 486, 'pickle': 3920, 'advice': 1783, 'betcha': 487, 'quarterback': 488, 'burps': 3921, 'died': 489, 'occupancy': 490, 'janette': 491, 'scientists': 493, 'slobs': 494, 'foil': 495, 'barkeep': 496, 'myself': 3923, 'fix': 3924, 'set': 497, 'hollowed-out': 5704, 'sisters': 498, 'greystash': 3925, 'nonsense': 5703, 'five-fifteen': 499, 'braun:': 501, 'over-pronouncing': 5705, 'rabbits': 502, 'spoken': 3926, 'dingy': 503, 'mostly': 84, 'alibi': 504, 'gil_gunderson:': 3927, 'monkeyshines': 505, 'accelerating': 506, 'passenger': 3929, 'broncos': 507, 'charges': 508, 'lifetime': 3931, 'riding': 509, 'bets': 3932, 'temper': 6084, 'ton': 510, 'red': 511, 'fellas': 5706, 'a-lug': 512, 'level': 6275, 'grandé': 513, 'backgammon': 5707, 'yellow-belly': 517, 'gone': 515, 'guiltily': 516, 'an': 518, 'shoulders': 519, 'shrugs': 3936, \"tree's\": 3938, 'bumblebee_man:': 3937, 'because': 520, 'george': 1660, 'kramer': 3939, \"brady's\": 523, 'boozer': 3940, 'crowds': 524, 'tolerable': 525, \"pressure's\": 526, \"what'd\": 3942, 'bucket': 528, 'sausage': 3943, 'leathery': 529, 'jeter': 3945, 'curse': 530, 'snide': 531, 'kickoff': 6140, 'squeals': 1790, 'takeaway': 532, 'item': 3946, 'loud': 2579, 'heavyweight': 533, 'eco-fraud': 534, 'thoughts': 3947, 'sustain': 3948, 'damned': 6718, 'do': 3950, 'teenage_homer:': 2935, \"depressin'\": 535, \"what're\": 3365, 'twin': 536, 'securities': 2370, 'neither': 537, 'sugar': 3955, 'rap': 87, 'anti-crime': 538, 'reading': 3957, 'dry': 3959, 'dropped': 3960, 'food': 539, 'united': 3962, 'gentles': 540, 'photo': 541, 'nachos': 543, 'heck': 544, 'stacey': 545, 'bulldozing': 546, 'persia': 3964, 'moon': 548, 'homunculus': 3965, 'punk': 3966, 'producers': 549, 'grienke': 550, 'items': 551, 'tonight': 3516, 'loss': 552, 'dislike': 553, 'hike': 1797, \"beggin'\": 4074, 'toasting': 4604, 'mob': 554, 'lied': 555, 'jerry': 3968, 'allowance': 557, 'banned': 558, 'miracle': 3969, 'idiot': 559, 'vincent': 1798, 'rueful': 3286, 'one': 560, 'winston': 3970, 'patrons': 1473, 'amanda': 3971, 'appalled': 3973, 'spellbinding': 4378, 'everywhere': 3974, 'mary': 3975, 'milks': 562, \"i'm-so-stupid\": 564, 'cologne': 565, 'airport': 566, 'crowd': 3976, 'ugly': 3978, 'grey': 567, 'temples': 3980, 'militia': 3981, 'understand': 3930, 'arm': 569, 'sat-is-fac-tion': 570, 'other_book_club_member:': 571, \"you're\": 572, 'grandkids': 3982, 'celebration': 574, 'guinea': 576, 'anarchy': 577, 'singers:': 578, 'landfill': 3522, 'beverage': 579, 'cummerbund': 580, 'suspect': 581, 'strains': 582, 'pageant': 583, 'center': 5163, 'awake': 584, 'ninth': 585, 'tense': 586, 'porn': 3983, 'fat-free': 3984, 'coward': 4076, 'arimasen': 4607, \"'s\": 2360, 'human': 3985, 'doy': 587, 'cheapskates': 588, 'edna-lover-one-seventy-two': 3986, 'nelson_muntz:': 589, 'refreshing': 590, 'only': 591, 'hooky': 592, 'characteristic': 3987, 'haikus': 3988, 'knuckles': 3989, 'salary': 3990, 'guts': 3992, 'sizes': 593, 'wage': 4485, 'saved': 4610, 'the_edge:': 595, 'choices': 3993, 'counter': 3994, 'boxcar': 3995, \"c'mon\": 597, 'author': 2946, 'return': 3996, 'celebrate': 598, 'prank': 3997, 'college': 599, 'longest': 6577, 'stationery': 3999, 'x': 4000, 'admirer': 600, 'americans': 99, 'genuinely': 4001, 'invented': 601, 'increased': 603, 'ails': 4612, 'hustle': 604, 'krusty_the_clown:': 1242, 'exception:': 605, 'blows': 606, \"fishin'\": 607, 'bridges': 608, 'duel': 6747, 'race': 4004, 'absolutely': 5717, 'artie': 609, 'chuck': 610, 'noooooooooo': 4005, 'sixty-five': 611, 'issues': 6292, 'loan': 612, 'hers': 613, 'meeting': 4006, 'supports': 4007, 'caught': 4009, 'stories': 4010, 'dessert': 615, 'humiliation': 4011, 'hundred': 4012, 'faced': 618, 'crack': 4013, 'hooch': 4084, 'glummy': 619, 'unbelievable': 620, 'buyer': 4014, 'awfully': 4015, 'recipe': 621, 'eleven': 4017, 'disappointed': 624, '3': 625, 'amazing': 626, 'pipes': 4018, 'intriguing': 675, \"there's\": 627, 'windowshade': 4019, 'energy': 4020, 'rats': 4021, 'handshake': 4022, 'sing': 4023, 'touch': 630, 'salvation': 4024, 'understanding': 631, 'richard:': 632, 'shaggy': 4025, 'legs:': 633, 'horribilis': 4026, 'avalanche': 4027, 'hexa-': 4028, 'closing': 4029, 'bites': 4030, 'stinger': 635, 'andalay': 4837, 'tape': 4032, 'filthy': 678, 'agency': 4034, 'spit': 4035, \"rustlin'\": 4036, 'cute': 4037, 'has': 4038, 'utensils': 4039, 'dumptruck': 4040, 'expert': 2953, 'cerebral': 680, 'peter': 4041, \"'cause\": 4042, 'apulina': 4044, 'sight-unseen': 6301, 'gamble': 4046, 'trashed': 4047, 'delightfully': 4048, 'die-hard': 636, 'moe-clone': 637, 'certificate': 4049, 'polish': 6303, 'make': 638, 'loser': 639, 'intimacy': 4051, 'me': 5722, 'banks': 4052, 'seas': 5723, 'right-handed': 4053, 'schorr': 641, 'repeated': 4054, 'strictly': 642, 'exchanged': 4055, 'lead': 5181, 'sexual': 643, 'juke': 644, 'oopsie': 645, 'lists': 646, 'dirt': 4057, 'replaced': 647, \"bashir's\": 4869, '1979': 648, 'wounds': 1255, 'yelp': 649, 'started': 105, 'filed': 4058, 'carpet': 110, 'wok': 650, 'exact': 651, 'ned_flanders:': 652, \"where'd\": 4059, 'sips': 653, 'stares': 4087, 'milhouse_van_houten:': 655, \"how's\": 656, 'thanksgiving': 657, \"tryin'\": 1122, 'landlord': 658, 'cars': 659, 'clearly': 4063, 'little_hibbert_girl:': 660, 'promotion': 4064, 'thesaurus': 661, 'cruiser': 662, 'fictional': 686, 'holiday': 4065, 'times': 4066, 'burglary': 4067, 'ziffcorp': 3537, 'yammering': 4068, 'stunned': 4069, 'shape': 4070, 'cozies': 4624, 'goo': 664, \"spaghetti-o's\": 2960, 'weeks': 665, 'counterfeit': 115, 'sympathy': 4090, 'firmly': 1807, 'beatings': 4071, 'haircuts': 4072, 'nemo': 666, 'dictator': 1809, 'honey': 4073, 'riveting': 4075, 'raising': 667, 'square': 1031, 'schmoe': 668, 'wipe': 3539, 'shows': 2393, 'papa': 669, 'gunter:': 1810, 'shoot': 670, 'second': 4077, 'suspiciously': 4078, 'depository': 4079, 'shorter': 4080, 'trustworthy': 4081, 'bear': 671, 'general': 4082, 'truck': 2965, 'prolonged': 672, 'billiard': 4083, 'rebuilt': 673, 'thinking': 674, 'everything': 118, 'tornado': 676, 'midge': 4085, 'bachelorette': 677, 'tv_wife:': 679, 'joey_kramer:': 4086, \"i-i'm\": 3744, 'graveyard': 681, 'mahatma': 682, 'who': 683, 'executive': 684, 'flying': 685, 'toms': 4088, 'loved': 1815, 'tale': 687, 'supreme': 688, 'renee:': 4089, 'r': 4091, 'fumigated': 2397, 'blew': 689, 'starlets': 690, 'utility': 3544, 'corporation': 4092, 'ripped': 2970, 'society': 4093, 'program': 4094, \"'im\": 5197, 'fighter': 5595, 'runs': 691, 'pit': 4095, 'blinds': 692, 'vanities': 4096, 'liquor': 4100, 'enemy': 4099, 'woooooo': 693, 'sturdy': 4632, 'phasing': 694, 'remember': 4101, 'decided': 4103, 'k-zug': 696, 'impending': 4104, 'tokens': 4105, 'nuts': 4106, 'cotton': 697, 'brunswick': 4107, 'uh': 698, 'gruff': 4109, 'gibson': 699, \"enjoyin'\": 1263, \"bar's\": 700, 'wrap': 278, 'penmanship': 1730, 'options': 701, 'fondest': 702, 'maude': 4112, 'punkin': 4113, 'telling': 703, 'twins': 704, 'emergency': 4115, 'buttocks': 4116, 'watered-down': 705, \"tv'll\": 706, 'exhale': 707, 'color': 708, 'homeless': 710, \"makin'\": 4098, 'methinks': 4118, 'initially': 4119, 'champs': 4120, 'beady': 712, 'pennies': 3703, 'tickets': 713, 'beer-jerks': 714, \"i'll\": 125, 'disaster': 4121, 'grave': 715, 'plant': 716, 'fortress': 4122, 'aging': 3482, 'addiction': 4123, 'fans': 3551, 'occurrence': 4124, 'firing': 695, 'learned': 4125, 'brightening': 1819, 'astrid': 719, 'barber': 4102, 'unison': 4126, 'planted': 721, 'shaking': 2976, 'generous': 4127, 'dan': 5174, 'full-bodied': 722, 'banquet': 4128, 'director:': 723, 'star': 4129, 'rip-off': 4130, 'theory': 1821, \"swishifyin'\": 724, 'half': 2977, 'tv': 4131, 'lucius:': 725, 'friday': 726, 'chapter': 727, 'copy': 4132, 'fumes': 728, 'inches': 729, 'maxed': 731, 'loboto-moth': 3609, 'already': 732, 'launch': 4133, 'noose': 733, 'anniversary': 734, 'though:': 4134, 'darts': 735, 'chipped': 736, 'ashamed': 737, 'macgregor': 738, 'flew': 739, 'creme': 1823, 'suicide': 4136, 'ferry': 740, 'behavior': 4137, 'manager': 4245, 'clubs': 4108, 'crowned': 742, 'offended': 5207, 'go-near-': 744, 'payments': 4138, 'fit': 4139, 'tight': 745, 'restaurant': 747, 'saget': 4140, 'pretentious_rat_lover:': 4141, 'hiding': 749, 'artie_ziff:': 750, 'rings': 1271, 'feeling': 751, 'match': 3189, 'impeach': 752, 'majority': 4371, \"eatin'\": 4143, 'creeps': 753, 'hounds': 754, 'vestigial': 755, 'eager': 756, 'hairs': 3560, 'championship': 757, 'aims': 4145, 'acquaintance': 4146, 'smug': 4147, 'betrayed': 4148, \"weren't\": 4149, 'child': 2412, 'statue': 758, 'onto': 4150, 'quarter': 4151, 'ordered': 759, 'chair': 885, 's-a-u-r-c-e': 762, \"neighbor's\": 763, 'top': 4154, 'diamond': 765, 'magazine': 4155, 'billion': 2647, 'beer:': 1826, 'archaeologist': 4156, 'adeleine': 766, 'kang:': 767, 'microbrew': 3818, 'inspection': 768, 'civilization': 769, 'guzzles': 4292, 'hunka': 4158, 'darkest': 4159, 'er': 770, 'monster': 771, 'fontaine': 3139, 'full': 4160, 'expect': 3562, 'hearse': 772, \"department's\": 4162, 'located': 1273, 'hemoglobin': 773, 'moan': 774, 'adequate': 775, \"'topes\": 4163, 'typed': 4167, 'prize': 4165, 'smile': 4166, 'chic': 2979, 'alien': 4168, 'cuff': 4644, 'wedding': 4169, 'hole': 776, 'emporium': 4170, 'calendars': 3043, 'all': 5757, 'total': 777, 'jeez': 4171, 'victim': 4172, \"getting'\": 4173, 'smiled': 4175, 'inanely': 4111, 'tried': 779, 'she': 4176, 'hems': 4178, 'cure': 4179, 'beloved': 2416, 'nick': 780, 'polenta': 781, 'dime': 782, 'shove': 783, 'luckiest': 784, 'bushes': 4180, 'may': 785, 'sticker': 4181, 'queer': 787, \"robbin'\": 4182, 'enjoys': 4183, 'starving': 788, 'thanks': 789, 'versus': 4184, 'mortgage': 4185, 'presentable': 791, 'obsessive-compulsive': 4186, 'starla:': 792, 'brow': 794, 'chance': 4188, 'delivery': 795, 'corkscrews': 4114, 'pour': 796, 'important': 138, 'spirit': 4189, 'bit': 4190, 'remembering': 6332, 'mini-dumpsters': 4192, 'proof': 797, 'yards': 1280, 'snorts': 798, 'starting': 3567, 'homesick': 4193, \"duelin'\": 799, 'jane': 800, 'living': 6335, 'optimistic': 4194, 'pad': 801, '||return||': 6127, 'kinda': 802, 'correct': 803, 'urinal': 4196, 'housewife': 4197, 'family': 804, 'saucy': 2983, 'inclination': 805, 'dipping': 4198, 'drank': 4199, 'madison': 4200, 'hop': 806, 'plastered': 4117, 'encouraged': 4203, 'release': 4204, 'belts': 810, \"round's\": 4205, 'wooooo': 811, 'linda_ronstadt:': 4206, 'polite': 1834, 'using': 4207, 'prints': 2465, 'gee': 4208, 'meteor': 3570, 'flashbacks': 4210, 'health_inspector:': 813, 'nein': 4211, 'ass': 814, 'burp': 4213, 'polls': 815, 'coughs': 4214, 'stir': 4215, 'ingrates': 4216, \"wasn't\": 4217, 'popular': 709, 'talked': 818, 'overstressed': 711, 'pointless': 1285, \"leavin'\": 4218, 'inquiries': 821, 'here': 822, 'isotopes': 823, 'pills': 824, 'choose': 825, 'chapel': 826, 'involved': 4219, 'deer': 1836, 'now': 827, 'someplace': 828, 'texas': 2974, 'bloodiest': 4220, 'brewed': 4221, 'chug-a-lug': 829, 'ambrose': 830, 'department': 4222, 'grammys': 4223, 'korea': 4224, 'atari': 831, 'sneeze': 1406, 'sticking': 4225, 'whatever': 4226, 'jobs': 5750, 'parked': 4227, '-ry': 832, \"lefty's\": 143, 'sneak': 2988, 'public': 4228, 'pen': 1057, 'adopted': 833, 'blowfish': 4229, 'driving': 834, 'para': 835, 'vomit': 5226, 'excellent': 4230, 'making': 837, 'plus': 6343, 'she-pu': 4231, 'offa': 838, 'yeah': 839, 'italian': 840, 'hemorrhage-amundo': 4232, 'admiring': 3574, 'stadium': 842, 'tubman': 843, 'jockey': 844, 'branding': 845, 'brooklyn': 1841, 'ram': 846, 'punches': 847, 'ice': 4234, 'coherent': 4235, 'biggest': 4236, 'hold': 2405, 'bash': 3406, 'might': 848, \"beer's\": 4238, 'tidy': 4239, 'aiden': 4241, 'lots': 4242, 'fringe': 849, 'devils:': 4243, 'cueball': 4244, 'lady': 851, 'answering': 4731, 'unlucky': 4247, 'book_club_member:': 4248, 'artist': 4249, 'happened': 2425, 'tourist': 854, 'closet': 855, 'lotta': 856, 'attractive_woman_#1:': 4250, 'evening': 857, \"poundin'\": 3578, 'full-time': 858, 'tanking': 1842, 'oh-ho': 4251, '||left_parentheses||': 859, 'explain': 861, 'infiltrate': 3651, 'in': 4252, 'what': 862, 'facebook': 4253, 'channel': 4254, 'little': 4255, 'dress': 864, 'duffman': 4256, 'large': 865, 'disdainful': 4258, 'regulations': 5754, 'sail': 2905, 'mulder': 866, 'gimmicks': 867, 'nobel': 868, 'young_marge:': 869, 'menacing': 870, 'eighty-seven': 4259, \"they'll\": 4260, 'getaway': 4261, 'they': 4262, 'party': 871, 'frankenstein': 872, 'bon-bons': 3438, 'doof': 4264, 'david': 1296, 'thunder': 873, 'botanical': 4265, 'reading:': 4266, 'young': 875, \"somebody's\": 4267, 'contemplated': 876, 'rash': 5756, 'transylvania': 4268, 'lawyer': 151, 'knock': 4269, 'ninety-seven': 877, 'worse': 878, 'enlightened': 4270, 'lucius': 4271, 'bible': 879, 'eww': 4272, 'way': 880, 'catching': 720, 'hafta': 881, 'scream': 6351, 'blinded': 882, 'uniforms': 5765, 'published': 884, 'yap': 4865, 'rationalizing': 886, 'learn': 4273, 'peach': 4274, 'reaching': 887, \"i'd'a\": 888, 'handed': 4276, 'shred': 891, 'floated': 2045, 'norway': 4278, \"lenny's\": 892, 'cookies': 6352, 'handle': 4279, 'sharing': 4981, \"hole'\": 893, 'celebrity': 4280, \"sayin'\": 894, 'dictating': 895, 'hot-rod': 896, 'synthesize': 4282, 'grumbling': 898, 'i/you': 1300, 'wh': 4283, 'breakdown': 899, 'calls': 900, 'juice': 2435, 'africanized': 4284, 'nooo': 2994, \"smokin'_joe_frazier:\": 901, 'bathtub': 4285, 'notably': 5760, 'teach': 902, 'splendid': 903, 'combine': 904, 'churchill': 1551, 'chug': 4286, '530': 4287, 'poison': 907, 'sunday': 4289, 'tune': 908, 'pretty': 4290, 'mocking': 910, 'congratulations': 4291, 'student': 912, 'ceremony': 913, 'worthless': 4293, \"somethin's\": 914, 'fake': 5764, 'lard': 4295, 'bunion': 4472, 'took': 4296, 'ideas': 915, 'social': 1302, 'friendly': 916, 'customers-slash-only': 4297, 'lone': 4807, 'nitwit': 4298, 'why': 918, 'write': 919, 'model': 6357, 'mt': 5766, 'huggenkiss': 920, 'talk': 2810, 'smiling': 921, 'freeze': 922, 'logos': 923, 'wieners': 924, 'videotaped': 2997, 'sen': 925, 'serve': 4299, 'propose': 926, 'dirty': 4300, 'hobo': 927, 'falcons': 4301, 'accounta': 929, 'koji': 4302, 'selling': 4304, 'hi': 226, 'spread': 4305, 'treat': 2464, 'normal': 4306, 'hunter': 932, 'supposed': 933, 'unlike': 934, 'countryman': 935, 'emotional': 4307, 'confident': 936, 'pirate': 937, 'frustrated': 938, 'cloudy': 1308, 'text': 4308, 'gore': 5768, 'point': 939, 'necklace': 4680, 'pig': 940, 'multiple': 3090, 'milhouse': 4309, 'managed': 4310, 'jar': 941, 'partly': 942, 'including': 943, 'impress': 944, 'error': 2442, 'gal': 3573, 'reality': 4311, 'barney_gumble:': 4312, 'ignorant': 4313, 'western': 4314, 'start': 946, 'hope': 730, 'taxi': 949, 'mindless': 4317, 'giant': 2668, 'hurt': 4318, 'gags': 5059, 'failed': 4319, 'workers': 950, 'sink': 4320, 'paparazzo': 4321, 'slapped': 4322, 'xanders': 4323, 'grinch': 953, 'disposal': 954, 'paying': 4324, 'toward': 158, \"you've\": 4325, 'pride': 4326, 'reviews': 955, 'dispenser': 4327, 'follow': 4328, 'protesters': 956, 'traditions': 957, 'accepting': 4329, 'dying': 958, 'eyeball': 959, 'donation': 4330, 'squeal': 960, 'team': 961, 'brave': 4331, 'confidentially': 3239, 'aerosmith': 4332, 'puzzle': 4333, 'singer': 159, 'youth': 4334, 'peabody': 4335, 'lungs': 963, 'least': 964, 'men': 965, 'beef': 4336, 'self-made': 966, 'mine': 4337, 'daughter': 967, 'donut': 4338, 'heaving': 4339, 'pink': 162, \"must've\": 2446, 'brains': 968, 'half-day': 4340, 'old_jewish_man:': 2087, 'spite': 4341, 'compete': 969, \"'\": 2448, 'intervention': 970, 'panicky': 971, 'label': 4343, 'unrelated': 4344, 'cyrano': 4345, 'heart': 973, 'exciting': 4346, \"fallin'\": 4347, 'trust': 974, 'afford': 4348, 'chateau': 4850, 'missing': 975, 'yells': 4350, 'poor': 4351, 'lord': 976, 'opportunity': 977, 'fresh': 978, 'gift:': 981, 'haplessly': 980, 'eggshell': 4352, 'shaker': 983, 'ollie': 4353, 'matter': 984, 'butt': 985, 'luxury': 986, 'doreen': 988, 'pepto-bismol': 989, 'scientific': 4356, 'fragile': 4357, 'exasperated': 4358, 'meatpies': 990, 'dame': 991, 'ball-sized': 2451, 'wham': 2452, 'oof': 992, 'junebug': 4361, 'statistician': 5245, 'man:': 993, 'reminded': 4363, 'motel': 994, 'bugs': 4364, 'meet': 4365, 'pugilist': 4135, 'fraud': 4366, 'stupidest': 3597, 'breathtaking': 4367, 'mabel': 4368, 'scotch': 4369, 'brings': 996, 'padre': 997, 'mccall': 998, 'fence': 999, 'satisfaction': 1000, 'slugger': 4370, 'olive': 1001, 'hammock': 1003, 'singing/pushing': 4373, 'barney-guarding': 1004, 'elaborate': 4375, 'purse': 1005, 'gus': 741, 'soir': 1006, 'neighbors': 4377, 'trick': 1007, 'tinkle': 1008, 'routine': 1009, 'easter': 1010, 'more': 5031, 'nos': 3007, \"narratin'\": 4379, \"she's\": 4380, 'waitress': 1013, 'jacques:': 4381, \"coaster's\": 1014, 'sixty': 4382, 'frink': 1015, \"he'd\": 1758, 'complaining': 4383, 'crying': 1016, 'awe': 4384, 'fl': 4385, 'column': 4386, 'admit': 4387, \"marge's\": 4388, 'letter': 1017, 'snotty': 4389, 'determined': 4390, 'church': 4391, 'doubt': 1018, 'moonshine': 1318, 'bauer': 1019, 'flailing': 3894, 'seymour_skinner:': 5786, 'taught': 4393, 'under': 1020, 'begin': 1021, 'thrilled': 1022, 'hiya': 1023, 'mcstagger': 1024, 'overflowing': 4395, \"starla's\": 4396, 'taunting': 1025, 'wears': 4397, \"'bout\": 4398, \"dog's\": 4399, 'dennis': 4400, 'tow-talitarian': 3603, 'this': 4401, 'vote': 4402, 'ratted': 1028, 'pernt': 1029, 'achem': 4404, 'hollye': 1030, 'raises': 1032, 'tony': 1033, 'psst': 4406, 'internet': 1034, 'pretends': 1036, 'retain': 1037, 'golf': 1038, 'respect': 746, \"shootin'\": 1320, 'out': 4407, 'midnight': 3604, 'wienerschnitzel': 4409, 'fine': 1040, 'innocuous': 1041, 'ate': 1042, 'zinged': 4411, 'quick': 4412, 'hardy': 1044, 'chuckling': 4414, 'twelve-step': 120, 'haiti': 1045, 'family-owned': 6372, 'wore': 1046, 'oils': 748, 'sanctuary': 4415, 'all-american': 1047, 'conversion': 4416, 'separator': 3674, \"here's\": 1049, 'recorded': 1050, '/': 4417, 'part': 1719, 'super-tough': 1051, 'studio': 3014, 'thinks': 1052, 'casting': 2458, 'annie': 1053, 'clearing': 4420, 'brief': 1054, 'buddy': 1055, 'fortune': 4421, 'compromise:': 4422, 'into': 4423, 'night': 1056, 'avec': 4426, 'william': 1058, 'stranger:': 4427, 'beer': 4428, 'souvenir': 1059, 'expression': 6294, 'dazed': 1060, \"raggin'\": 1323, 'applesauce': 1061, 'schizophrenia': 4430, 'pointedly': 5672, 'smelly': 1063, 'knocked': 1064, 'focused': 1065, 'teacup': 4432, 'losing': 4433, 'extinguishers': 4434, 'unsafe': 173, 'system': 1067, 'managing': 1070, 'store-bought': 1069, 'look': 174, 'accident': 1467, 'forty-two': 1073, 'charge': 4436, 'gin-slingers': 2619, 'standing': 4437, 'drunks': 1075, \"mecca's\": 4438, 'booking': 4439, 'suits': 4440, 'muscle': 1076, 'pressure': 1077, '3rd_voice:': 1078, 'wells': 4441, 'rivalry': 1081, 'roz': 1082, \"stinkin'\": 4442, 'thorn': 1083, 'beast': 1084, 'covering': 4443, 'bury': 4444, 'wheel': 4445, 'forty-five': 4446, 'snake-handler': 4447, 'manjula': 1086, 'lemonade': 874, 'big': 1326, 'roof': 4448, 'sheriff': 1087, 'perverse': 4449, 'blessing': 1088, 'digging': 3019, 'result': 4450, \"isn't\": 4451, 'gave': 1089, 'fault': 1090, 'likes': 1091, 'beings': 5885, \"handwriting's\": 3614, 'precious': 4452, \"children's\": 5587, 'crime': 1092, 'reached': 3323, 'chin': 5303, 'closed': 1093, 'jack_larson:': 1094, 'modern': 1095, 'admitting': 4453, 'american': 3020, 'rascals': 1097, 'espn': 4455, 'wealthy': 4456, 'nards': 4457, 'unsanitary': 4458, 'poem': 5258, 'act': 1099, 'king': 4460, 'sidelines': 1100, 'crotch': 1101, 'apu': 1102, 'office': 1103, 'melodramatic': 1104, 'all:': 433, 'radical': 2467, 'comfortable': 1106, 'lend': 4461, \"g'ahead\": 4686, 'shells': 4462, 'reckless': 4463, 'forgets': 4464, 'heave-ho': 5259, 'entire': 1108, 'nose': 4465, 'drink': 5802, 'frog': 1109, 'troy_mcclure:': 3617, 'agent_johnson:': 2469, 'winces': 1110, 'winnings': 1111, '50%': 1112, 'record': 1113, 'box': 1114, 'carnival': 4466, 'police': 2471, 'attached': 1117, 'victory': 187, 'practice': 1118, 'heads': 972, 'buffet': 4468, 'rented': 4470, 'snaps': 4471, 'racially-diverse': 1120, 'takes': 4473, 'gesture': 4152, 'rector': 4474, 'orphan': 3620, 'jolly': 4476, 'gas': 4477, 'potato': 1875, 'pope': 2941, 'bathed': 761, 'eddie': 1123, 'moon-bounce': 1124, \"i'unno\": 1125, 'waist': 4478, 'anything': 4479, 'quarry': 1126, 'lime': 4481, 'no': 4691, \"professor's\": 1127, 'tomato': 4482, 'weather': 5080, 'irrelevant': 4483, 'killjoy': 4484, 'groans': 1129, 'proposing': 1130, 'jams': 5807, 'combination': 3665, 'waltz': 4486, 'bouquet': 4487, 'prepared': 1131, 'craphole': 1132, 'manage': 4488, 'intense': 1133, 'flanders': 4489, 'bronco': 1135, 'boozehound': 1137, 'attracted': 4490, 'slobbo': 1138, 'scene': 4695, '1895': 4491, 'swamp': 1140, 'premise': 2478, 'twenty-two': 4492, 'thawing': 4493, 'moe': 4494, 'wear': 4698, 'mrs': 1141, 'jay_leno:': 1142, 'mafia': 3622, 'rest': 4495, 'falling': 1143, 'dads': 4497, 'root': 4498, 'charming': 764, 'same': 1146, 'drollery': 1147, 'spelling': 4056, \"linin'\": 1148, 'saga': 1149, 'sadder': 4503, 'co-sign': 5268, 'napkins': 4504, 'hollywood': 2482, 'known': 4505, 'afloat': 1151, 'intrigued': 1153, 'puke': 1154, 'horror': 4507, 'drains': 4509, 'hockey-fight': 4510, 'blaze': 1155, 'mushy': 4511, 'whenever': 1880, 'rat': 4512, 'whirlybird': 4513, 'face-macer': 4514, 'gun': 1157, 'window': 1159, \"showin'\": 4515, 'tsk': 1161, 'bottomless': 4157, 'thousands': 3028, 'nervously': 5812, 'guess': 4516, 'song': 1162, 'founded': 4517, \"someone's\": 1164, 'whistles': 1165, \"livin'\": 3031, 'david_byrne:': 1167, 'st': 6469, 'alley': 1168, \"other's\": 4519, 'keep': 1882, 'backing': 1169, 'joy': 4520, 'puzzled': 4521, 'upon': 4523, 'scent': 1172, 'shame': 1173, 'fourth': 1175, 'wins': 4524, 'ugh': 6154, 'crushed': 6403, 'semi-imported': 1883, 'know': 4525, 'partner': 1176, 'about': 4526, 'cowboys': 4527, 'saw': 2324, 'sweetheart': 4528, 'friction': 4529, 'veteran': 2488, 'poking': 4530, \"'ceptin'\": 4531, 'scout': 4532, 'twenty-nine': 1177, 'page': 4533, 'and-and': 1178, 'salad': 5275, 'outlook': 4161, 'farthest': 1179, \"we'll\": 4534, 'load': 1181, 'stays': 717, \"toot's\": 1182, 'afraid': 4536, 'mmm': 1183, 'holidays': 4537, 'rummy': 4538, 'pond': 4539, \"spiffin'\": 4540, 'aquafresh': 4541, 'lessons': 4542, 'pictured': 4543, 'heather': 812, 'cheat': 4544, 'sensible': 1184, 'edgy': 4545, 'rupert_murdoch:': 1185, 'worth': 3034, 'vacuum': 1186, 'face': 4546, 'covers': 4547, 'fool': 1187, 'bumpy-like': 1188, 'enemies': 4708, 'stumble': 3327, 'engine': 1189, 'lottery': 1190, 'inside': 4550, 'grocery': 3035, 'dexterous': 1191, 'operation': 4552, 'thoughtfully': 1194, 'contractors': 4554, 'cheaper': 4555, 'mate': 4556, 'outta': 4558, 'finest': 1197, \"thing's\": 1198, 'slaves': 4559, 'dressing': 1199, 'streetcorner': 4560, \"cheerin'\": 1201, 'sec_agent_#2:': 4561, 'finishing': 2646, 'extract': 4562, 'born': 4164, 'ronstadt': 1204, 'tuborg': 4563, 'procedure': 4564, 'complete': 4566, 'so': 4567, 'stonewall': 1205, 'imagine': 1206, \"she'll\": 1207, 'tail': 4568, 'harv': 4569, 'runt': 2493, 'mel': 1208, 'bartending': 4570, 'fork': 4571, 'commanding': 3038, 'rules': 3635, 'sleeping': 4575, 'smelling': 4573, 'ashtray': 4574, 'immiggants': 1210, 'sucking': 4576, 'correcting': 4577, 'homer_simpson:': 4578, 'flatly': 1211, 'thrust': 4579, 'düff': 4580, \"fryer's\": 4581, 'decide:': 1212, 'my-y-y-y-y-y': 1350, 'totally': 4582, 'sagacity': 1708, 'spamming': 1701, \"mcstagger's\": 1213, 'thirty': 1214, 'mm-hmm': 4584, 'situation': 4585, 'sports_announcer:': 1216, 'eightball': 4586, 'up': 4587, \"president's\": 4588, 'app': 1218, 'sledge-hammer': 1219, 'hiring': 4589, 'simultaneous': 1220, 'clock': 1221, 'christmas': 3910, 'every': 6730, 'lib': 1222, 'busiest': 1223, 'odor': 4590, 'quickly': 1224, \"mtv's\": 4591, 'things': 1225, 'jobless': 4593, 'gentle': 4594, 'mickey': 1226, 'pantsless': 4595, \"cont'd:\": 4596, 'aah': 4597, 'scare': 1228, 'liven': 1229, 'commission': 1230, 'upbeat': 1231, 'nice': 1232, 'severe': 1233, 'dawning': 3714, 'swe-ee-ee-ee-eet': 2217, 'room': 1234, 'hug': 4598, 'smart': 4599, 'woman:': 4600, 'awful': 3641, 'kahlua': 4601, 'affection': 4602, 'blocked': 4603, 'crap': 1235, 'dash': 1236, 'storms': 4605, 'lindsay_naegle:': 3642, 'completing': 2572, 'awkwardly': 1237, 'heh-heh': 4606, 'slightly': 3644, 'higher': 1322, 'loudly': 209, 'happily:': 4608, 'ride': 1238, 'walked': 4609, 'piling': 778, 'absolut': 1239, 'perplexed': 2858, 'forget-me-shot': 4611, 'oooh': 1240, 'said:': 4614, 'sigh': 4613, 'thirteen': 1243, 'caused': 1244, \"havin'\": 1245, 'mortal': 1246, 'lisa': 4615, 'honor': 1248, 'moe-near-now': 1249, 'burn': 1250, 'maman': 1251, \"washin'\": 4616, 'oooo': 4617, \"you'll\": 4618, 'exquisite': 4619, 'finger': 4620, 'legoland': 1252, 'keeping': 1253, 'mac-who': 4177, 'stupid': 1256, 'coined': 1258, 'van': 4622, 'caveman': 4623, 'inning': 4625, 'brace': 4626, 'ribbon': 4627, 'priority': 1259, 'guy': 4628, 'fruit': 1260, 'sunglasses': 4629, 'asks': 1261, 'totalitarians': 4630, \"talkin'\": 4631, 'highway': 1262, 'bill': 6068, 'chick': 4633, 'thrown': 4634, 'chosen': 3512, 'wait': 1264, 'appearance-altering': 1265, 'painless': 4635, 'dishonor': 6017, 'hangout': 4636, 'bill_james:': 1266, 'safely': 4637, 'blow': 1267, 'call': 1268, 'relaxed': 1269, 'hunger': 4638, 'lap': 4639, 'cauliflower': 1270, 'diets': 1900, 'beautiful': 1646, 'trenchant': 4640, 'mic': 1272, 'insulin': 4641, 'nickel': 4642, 'feminist': 4718, 'beach': 1274, 'thnord': 4643, 'trail': 1275, 'comment': 4645, 'chain': 1276, 'prices': 3958, 'kermit': 2618, 'terrace': 2394, 'glad': 1279, 'montrer': 4646, 'new_health_inspector:': 1281, 'cocktail': 786, 'nature': 4647, 'cola': 1282, 'glum': 1284, 'murdered': 1634, 'message': 4648, 'wing': 1287, 'compels': 4649, 'putty': 1288, 'ragtime': 213, 'strap': 3050, 'ringing': 1289, 'kl5-4796': 1290, 'beached': 1291, 'plum': 4651, 'series': 4652, 'fireworks': 4653, 'quimby_#2:': 1292, 'tatum': 4654, 'tomorrow': 1293, 'chauffeur': 1295, \"cat's\": 4655, 'fund': 4656, 'got': 1297, 'eternity': 1298, 'derisive': 2508, 'canoodling': 4657, 'corporate': 1299, 'smallest': 4658, 'plain': 1301, 'rough': 1904, 'unfamiliar': 4659, 'wings': 2793, 'november': 1012, 'abercrombie': 4660, 'mmmmm': 4661, 'monkey': 1304, 'isle': 1303, 'repeating': 1305, 'adult_bart:': 1306, \"aristotle's\": 1309, 'space-time': 4663, 'man_with_tree_hat:': 4664, 'whispers': 4665, 'bubbles': 1310, 'spotting': 1905, 'thorough': 4666, 'glen:': 4667, 'oak': 1311, 'voice': 1312, 'scrubbing': 1313, 'pas': 4669, 'helpful': 1907, 'swear': 4670, 'cigarette': 1314, \"kids'\": 1315, 'placing': 790, 'represents': 3052, 'month': 4671, 'created': 1316, 'john': 4672, 'ripcord': 1317, 'ruled': 4673, \"wait'll\": 1908, 'eats': 4674, 'gary:': 4675, 'settled': 1319, 'country': 4676, 'jackson': 4677, 'whole': 793, 'happiness': 1321, 'mouse': 5841, 'secret': 4679, 'jig': 1910, 'acting': 2511, 'wishing': 4187, 'sobriety': 4681, 'hops': 1324, 'chinese': 1325, 'feel': 4682, 'arrest': 1368, 'düffenbraus': 1327, 'cockroach': 3659, 'ivanna': 1329, 'protesting': 1331, 'eaten': 4683, 'bell': 1332, 'yourselves': 4684, \"'em\": 1333, 'delightful': 4685, 'nigel_bakerbutcher:': 4687, 'muscles': 4688, \"lisa's\": 1334, 'jokes': 1335, 'whatchacallit': 4689, 'military': 2514, 'dump': 1336, 'preparation': 4693, 'coat': 1337, 'angel': 1338, 'rumor': 4694, 'brilliant': 1339, 'listening': 4697, 'writing': 1340, 'mess': 4699, 'appreciate': 4700, 'park': 4701, 'fixes': 3057, 'belly': 4702, 'mexican_duffman:': 4703, 'sub-monkeys': 4704, 'art': 5843, 'jumping': 4705, 'teenage_bart:': 1341, 'academy': 4706, 'lucinda': 1342, 'selection': 4707, 'drapes': 1343, 'beefs': 1344, 'savvy': 1346, 'yes': 2518, \"yieldin'\": 1160, 'oddest': 1347, 'childless': 3662, 'issuing': 4709, 'here-here-here': 4549, 'superior': 4191, 'rom': 4710, 'process': 4711, 'step': 1349, 'brick': 1802, 'majesty': 4712, 'demand': 1351, 'lurleen': 1352, 'selfish': 1353, 'automobiles': 1354, 'coyly': 3663, 'infestation': 2218, 'shopping': 4724, 'dregs': 4713, 'brine': 1356, 'romantic': 4714, 'pocket': 1357, 'pridesters:': 2461, 'symphonies': 1358, \"it'll\": 1359, \"listenin'\": 1360, 'due': 3698, 'three': 1361, \"'now\": 1362, 'paste': 1363, 'explaining': 1364, 'carll': 4717, 'newly-published': 4719, 'invite': 4720, 'judges': 1365, \"spyin'\": 1366, 'male_singers:': 1367, \"singin'\": 4721, 'pure': 1369, 'tar-paper': 1370, 'disturbing': 1371, \"fine-lookin'\": 4722, 'small_boy:': 1372, 'grammar': 4723, 'club': 1373, 'magnanimous': 1277, 'and/or': 1374, 'stengel': 1375, 'annus': 4726, 'music': 4725, 'ridiculous': 4727, 'nascar': 4728, 'gallon': 1376, 'stores': 1378, '_timothy_lovejoy:': 4195, 'glove': 4729, 'cab': 4730, 'whoops': 1379, 'seen': 1380, 'pleasant': 3670, 'packets': 1381, 'louse': 4734, 'bowl': 1382, 'fire_inspector:': 1383, 'abcs': 4735, 'banquo': 4736, 'your': 4737, 'eggs': 4738, 'ruined': 4739, 'complicated': 1386, 'poetry': 4741, 'worldview': 4742, 'mommy': 3435, 'reasonable': 4743, \"dimwit's\": 3596, 'temp': 1388, 'lainie:': 4732, 'alfred': 4745, 'grow': 4746, 'spy': 4747, 'seductive': 4748, 'lighter': 4749, 'el': 4751, 'another': 1390, 'grabbing': 3676, 'onions': 4752, 'so-called': 1391, 'international': 5539, 'where': 1393, 'pays': 4753, 'bow': 1394, 'sea': 1395, 'sure': 2325, 'shares': 1294, 'mystery': 1396, 'it:': 5298, 'civic': 1397, 'confused': 4733, 'murderously': 4201, 'saint': 1384, 'uninhibited': 1398, 'nods': 1399, 'land': 807, 'fifth': 594, 'jimmy': 1401, '_burns_heads:': 1402, 'blind': 4755, 'urine': 4756, 'rubs': 4757, 'feet': 4202, 'realizing': 4758, 'repairman': 1404, 'solves': 1405, 'destroyed': 4759, 'watt': 1407, 'freaking': 1385, 'terrific': 4761, 'sniffing': 4762, 'whiny': 743, 'sat': 4763, 'badly': 4764, 'deep': 5191, 'bake': 808, 'crank': 809, 'arrested:': 6442, 'coming': 4766, 'queen': 4767, 'yup': 1408, 'delivery_boy:': 4768, 'sixteen': 4769, 'stick': 1409, 'cowardly': 4770, 'conditioners': 1410, 'spoon': 5141, 'low-blow': 4771, 'jack': 556, 'hell': 1411, 'grieving': 4772, 'yawns': 1412, 'feld': 4773, 'hourly': 1413, 'jackpot-thief': 1415, 'jerk-ass': 1416, 'annual': 4774, 'even': 4775, 'ne': 4776, 'inspiring': 1417, 'rookie': 4777, 'mean': 4778, 'together': 1418, 'were': 4779, 'diet': 4780, 'please': 4781, 'tanked-up': 1419, 'self-satisfied': 4783, 'black': 3679, 'togetherness': 4784, 'twenty-four': 4785, 'booze-bags': 4740, 'foam': 4787, 'assert': 4789, 'terrified': 1422, 'giggles': 3072, 'exploiter': 1423, 'faint': 3766, 'morose': 4790, 'rusty': 4791, 'natural': 1387, 'grudgingly': 1924, 'cosmetics': 1425, 'rolls': 1426, 'real': 1105, 'tapestry': 1427, 'albert': 3684, 'accidents': 4744, 'hugh:': 1428, 'funds': 1839, 'hippies': 4209, 'glasses': 4793, 'impatient': 1429, 'correction': 369, 'arms': 4794, 'hostile': 4795, 'asking': 1857, 'nasty': 4796, 'grateful': 1430, 'hanging': 1431, 'dreamily': 4359, 'novel': 3538, 'housework': 4798, 'filled': 1432, 'boring': 4799, 'super-nice': 1433, 'appear': 4800, 'suspicious': 1435, 'obama': 4801, 'culkin': 4802, 'crony': 4803, 'milhouses': 4804, 'stands': 4805, 'sissy': 1436, 'snout': 5308, 'sickly': 4621, 'stairs': 1437, 'appealing': 4806, 'tin': 1438, 'wolverines': 4750, 'gut': 1439, 'comes': 4212, 'shelbyville': 1389, 'also': 1440, 'sitar': 3690, 'whoa-ho': 1134, 'goodbye': 4808, 'sharps': 1441, 'sister': 1442, 'glitterati': 4809, 'judgments': 6452, 'bono': 3691, '_babcock:': 4810, 'sent': 4811, 'nahasapeemapetilon': 4813, 'recent': 1443, 'actress': 1444, 'reentering': 1392, 'iranian': 634, 'elephants': 1445, 'warren': 1446, 'pleading': 817, 'weapon': 4816, 'morning': 1447, '8': 6697, 'weekend': 1448, 'frink-y': 1449, 'question': 4817, 'clips': 1450, 'calculate': 1451, 'kazoo': 4819, 'ticks': 1452, 'accept': 1453, 'meaningless': 4821, 'ourselves': 1454, 'aid': 3693, 'au': 1455, 'head': 239, 'pretzels': 1456, 'blade': 1457, 'selective': 4822, 'water': 4823, 'language': 1458, 'shortcomings': 4824, 'balloon': 5859, 'jewelry': 1459, \"stallin'\": 3080, 'recommend': 4825, 'barney-type': 3321, 'hired': 1460, 'believe': 820, 'peanuts': 1461, 'sloppy': 4828, 'deliberate': 5410, 'brother-in-law': 4829, 'plastic': 1462, 'sending': 1463, 'teeth': 4831, 'sees/': 1465, 'shoots': 4832, 'kitchen': 4833, 'furniture': 1466, 'starla': 1468, 'starve': 4835, 'fires': 6603, 'nailed': 1469, 'flophouse': 1470, 'designated': 4838, 'grind': 1254, \"meanin'\": 1472, 'ears': 1474, 'male_inspector:': 4839, 'awareness': 2597, 'boxing_announcer:': 1475, 'oil': 1476, 'quebec': 1477, 'drawn': 1478, 'considering': 241, 'corner': 1479, 'cushion': 4841, 'diddilies': 2536, 'sold': 4754, 'signed': 1481, 'lose': 1482, \"tonight's\": 4844, 'paris': 4845, 'deliberately': 1937, 'chili': 1483, 'renders': 2537, 'apply': 4846, 'mid-conversation': 245, 'champ': 1484, 'wiggum': 4847, 'theatah': 1485, 'guys': 4848, 'los': 1939, 'asses': 5863, 'enterprising': 4849, 'tuna': 1486, 'dear': 1487, 'street': 1488, 'talkers': 4851, 'neanderthal': 4852, 'fifteen': 1489, 'johnny_carson:': 1490, 'attitude': 2548, 'infor': 1491, 'improved': 1492, 'browns': 1400, 'liver': 982, 'micronesian': 5315, 'today/': 4853, 'widow': 4854, 'generally': 1493, 'captain': 1494, 'joey': 4855, 'tv-station_announcer:': 249, 'organ': 1495, 'punching': 1496, 'sweetest': 4858, 'share': 1497, 'ho-ly': 4859, 'dignity': 4860, 'laughs': 1498, 'beer-dorf': 4861, 'voice:': 1403, 'pointy': 1499, 'books': 2506, 'ripper': 1500, 'grope': 4862, \"secret's\": 4864, 'poin-dexterous': 4866, 'points': 1501, 'nobody': 4867, 'okay': 1504, 'skirt': 1503, 'permanent': 1505, 'save': 2540, 'urban': 4898, 'angry': 4868, 'caricature': 4870, 'greatly': 1506, 'patting': 1507, 'notorious': 4871, 'musical': 4877, 'terror': 4874, \"ma's\": 1509, 'god': 1511, 'pregnancy': 4878, 'wishes': 1512, 'don': 5149, 'crappy': 4879, 'waking-up': 4880, 'stepped': 4881, 'gator': 1513, 'my': 1514, 'delicately': 4882, 'tough': 1515, 'ancestors': 1516, 'perhaps': 1517, \"ol'\": 3086, 'sister-in-law': 1518, 'sniper': 4885, 'drag': 6395, 'fall': 4886, 'pronounce': 4887, 'coins': 4888, 'elves:': 4535, 'sometime': 1520, 'mcclure': 4889, 'anyone': 5870, 'lance': 1521, 'drive': 4890, 'mention': 1522, 'knowledge': 1523, 'roses': 4891, 'eyeing': 4893, 'sleigh-horses': 4894, 'krabappel': 3091, 'confidential': 906, 'delighted': 1524, 'cutest': 1525, \"bein'\": 4895, 'dumb': 1947, 'ehhhhhh': 4897, 'bags': 2545, 'languages': 522, 'beanbag': 4899, 'disturbance': 4900, 'ga': 1526, 'doll': 4901, 'giggle': 4760, 'larry': 1527, 'illustrates': 1528, 'pickles': 4904, \"that'll\": 4905, 'long': 4906, 'restaurants': 1529, 'shutup': 1257, 'aer': 1530, '/mr': 4908, 'muffled': 4909, 'schabadoo': 1533, 'field': 1534, 'chinese_restaurateur:': 4911, 'arm-pittish': 1535, 'x-men': 1536, 'great': 4110, 'calmly': 5320, 'lenny:': 4912, 'fast': 3094, 'application': 1283, \"'cept\": 1540, 'slim': 1541, 'seems': 1542, 'trunk': 1543, 'rainforest': 1544, 'plenty': 4914, 'burt': 4915, 'besides': 4917, 'multi-purpose': 1950, 'rasputin': 1545, 'violations': 3096, \"heat's\": 1546, 'jacks': 4431, 'lifters': 1547, \"idea's\": 1548, 'portfolium': 1549, 'hate-hugs': 3097, 'shelf': 257, 'two': 1550, 'doctor': 6439, 'empty': 1552, 'lot': 1553, 'eve': 1554, 'show': 1555, 'lips': 1556, 'handoff': 1558, 'manjula_nahasapeemapetilon:': 836, 'watered': 1559, 'aged_moe:': 1560, 'dammit': 4920, 'bullet-proof': 4921, 'turned': 3106, \"don't\": 4922, 'pre-columbian': 1954, 'back': 4923, 'bar': 4924, 'legally': 4925, 'struggling': 1562, 'sudoku': 1868, 'panties': 1563, 'sedaris': 4926, 'playhouse': 4765, 'bunch': 4927, 'vacation': 6564, 'showered': 3861, 'oblivious': 4928, 'splash': 1564, 'slice': 4929, 'france': 4930, 'pulitzer': 1565, \"town's\": 1566, 'women': 1471, 'sobo': 1567, 'outrageous': 2550, 'colorado': 1568, 'eighty-one': 1569, \"plank's\": 1570, 'car:': 1571, 'detail': 4933, \"chewin'\": 4934, 'sucker': 1572, 'wa': 1575, 'gentleman:': 1576, 'contest': 4935, 'stingy': 4936, 'bottle': 4937, 'strolled': 1577, 'collateral': 4938, 'anyhow': 1578, 'smoothly': 1579, 'cheap': 4939, 'collette:': 1580, 'pathetic': 4940, 'able': 1581, 'whoopi': 1582, 'prohibit': 4941, \"table's\": 4942, 'cats': 4943, 'composite': 4944, 'wall': 1583, 'bupkus': 1584, 'per': 1585, 'village': 1586, 'un-sults': 5648, 'crimes': 1957, 'installed': 4945, 'throws': 2749, 'sell': 4946, 'hub': 1588, 'eye': 4947, 'hurting': 5797, 'ingested': 4949, 'killer': 4950, 'donuts': 4951, 'malfeasance': 4952, 'seymour': 1589, 'nameless': 1591, 'homer_doubles:': 4953, 'kisses': 4954, 'flea:': 3008, 'appendectomy': 1592, 'sitcom': 4955, 'defiantly': 4956, 'mixed': 4957, 'waste': 1593, 'band': 4959, 'glee': 1594, 'breath': 1595, 'boozebag': 1596, 'low': 1597, 'kidneys': 4958, 'written': 1598, 'sad': 4960, \"buyin'\": 4961, 'read:': 4962, 'will': 4963, 'network': 3708, 'lately': 4964, 'baloney': 6487, 'shreda': 1600, 'passes': 4965, 'greatest': 1601, 'costume': 1960, 'day': 1602, 'wrestle': 4966, 'truck_driver:': 1604, 'deeply': 2566, 'prison': 4968, 'rub-a-dub': 4969, 'ago': 4970, 'steal': 1606, 'fact': 3627, 'over': 1414, 'lump': 4971, 'rife': 1607, 'brotherhood': 1608, 'ladies': 4972, 'minute': 4973, 'voted': 4974, 'began': 1610, \"she'd\": 4975, 'self': 4976, 'rubbed': 1611, 'provide': 4977, 'aziz': 4978, 'leftover': 3107, 'wants': 5967, 'brainiac': 1612, 'fan': 1613, 'merchants': 1614, 'deals': 4982, 'repressed': 1615, 'used': 4983, 'serum': 3711, 'fonzie': 4984, 'barney-shaped_form:': 4257, 'prayer': 4985, 'boxing': 4986, 'not': 4987, 'k': 4988, 'cliff': 5366, \"can'tcha\": 2499, 'exclusive:': 4989, 'air': 1619, 'sooo': 4992, 'thoughtful': 4991, 'hotel': 4993, 'venom': 4994, 'telegraph': 3713, 'checking': 5881, 'soaps': 6441, 'stalwart': 4996, 'double': 1620, 'anderson': 1621, 'hand': 4997, 'flexible': 1622, 'zoomed': 1623, 'hoagie': 4998, 'adjust': 4999, 'sign': 1624, 'remaining': 5000, 'cigars': 5001, 'sap': 1625, \"when's\": 1626, \"father's\": 5002, 'sing-song': 5003, 'agreement': 1629, 'nah': 1630, 'gently': 1420, 'scatter': 5004, 'card': 5005, 'statues': 5006, 'warily': 1631, 'did': 3112, 'ref': 1632, 'jovial': 1633, 'count': 1636, 'picked': 1635, 'non-american': 5007, 'groin': 5008, 'personal': 4237, 'milk': 1637, 'government': 1638, 'forever': 5009, 'wolveriskey': 5010, 'exhibit': 2301, 'much': 1640, 'ear': 1642, 'medicine': 4240, 'sack': 1643, 'pinball': 5011, 'fat': 5012, 'slip': 1645, 'wash': 4786, 'maher': 1647, 'reminds': 1969, 'favor': 5013, 'jail': 5804, 'manatee': 5014, 'patron_#2:': 5015, 'salvador': 5016, 'life:': 1649, 'stuck': 5018, 'lincoln': 1650, 'dead': 1652, 'ummmmmmmmm': 5020, 'nuclear': 5021, 'consulting': 5022, 'onassis': 5023, 'spending': 850, 'wondering': 5024, 'hillbillies': 5025, \"he's\": 1653, 'town': 1654, 'spiritual': 5026, 'acquitted': 5027, 'smokes': 2561, \"we're\": 5028, 'l': 5029, 'ech': 1655, 'tofu': 1656, 'hyper-credits': 6498, 'faiths': 5030, 'raise': 1657, 'crowbar': 4788, 'cesss': 1658, 'nope': 1971, 'fish': 5032, 'starters': 5033, 'annoying': 5034, 'booze': 1844, 'spied': 1661, 'aw': 1662, 'animals': 5035, 'teacher': 5036, 'wiener': 1664, 'andrew': 5037, 'conditioning': 5334, 'fail': 5038, 'slight': 4246, 'meaning': 1665, 'sorry': 5039, 'hibachi': 5040, 'stagy': 5041, 'feast': 5042, 'champignons': 1666, 'action': 5043, 'lush': 1667, 'renew': 247, '2nd_voice_on_transmitter:': 1668, 'bothered': 1669, 'war': 1671, 'a-a-b-b-a': 1672, 'lighting': 1673, 'b': 1674, 'balls': 1675, 'too': 1677, 'phase': 5044, 'won': 5045, 'hank_williams_jr': 5046, 'pepper': 1678, 'faces': 1679, 'alcohol': 5047, 'naturally': 1680, 'fayed': 5048, 'kennedy': 5049, 'strategy': 4782, 'tradition': 4896, 'jasper_beardly:': 1681, 'ha-ha': 1424, 'publish': 3123, 'noticing': 1682, 'yogurt': 1683, 'driveability': 1684, 'aboard': 1685, 'talk-sings': 5050, 'safe': 4792, 'presto:': 5051, 'mad': 5052, 'high': 5053, 'wondered': 1687, 'them': 1688, 'groveling': 3124, 'ratio': 5054, 'cobra': 5055, 'raking': 5056, 'presumir': 1691, \"carl's\": 5057, 'either': 3305, 'delicate': 5058, 'endorse': 1192, 'sweat': 5340, 'coy': 5061, \"monroe's\": 5062, 'of': 5063, 'ohmygod': 1735, 'drives': 5064, 'leak': 5065, 'shutting': 1695, \"stayin'\": 1696, 'attention': 5066, 'yesterday': 5342, 'homers': 5067, 'flown': 1697, 'crunch': 5068, 'figures': 1698, 'sorts': 1699, 'talking': 1700, 'dirge-like': 1702, 'brockman': 5069, 'padres': 1704, 'brakes': 5071, 'drummer': 1705, 'sidekick': 6178, 'teddy': 1706, 'teriyaki': 860, 'duh': 5072, 'wind': 1707, 'heartily': 3732, \"treatin'\": 5073, 'crow': 1710, 'parents': 5074, 'cage': 5075, 'beyond': 5076, \"they'd\": 5891, 'relaxing': 1712, 'unattended': 1713, 'being': 2993, 'specific': 5077, 'cross-country': 1715, 'hootie': 5078, 'goodwill': 5079, 'bide': 280, 'theme': 1716, 'limits': 1717, 'bye': 5081, 'writer:': 1718, 'fellow': 5082, 'replace': 5083, \"fightin'\": 863, 'sieben-gruben': 5084, 'forward': 1720, 'grumpy': 1721, 'incarcerated': 1722, 'forgotten': 5085, 'payback': 1727, 'crowd:': 1724, 'fat_tony:': 1725, \"b-52's:\": 1726, 'patty_bouvier:': 5086, 'ale': 1728, 'irish': 5087, 'grandmother': 5088, 'arab_man:': 283, 'bold': 1731, 'cooking': 5089, 'disapproving': 5090, 'inflated': 6510, 'refiero': 1733, 'effervescent': 1734, 'catch': 5091, 'b-day': 5092, 'johnny': 1736, 'crumble': 5095, 'musta': 1737, 'broad': 5097, 'charity': 5894, 'scram': 1740, 'spanish': 5895, 'meant': 4424, 'hah': 4797, 'stalking': 5098, 'coincidentally': 1742, 'einstein': 2682, 'rich': 5099, 'bloodball': 287, 'clothespins': 5100, 'wild': 1743, 'ineffective': 5101, 'drove': 1744, 'clinton': 1745, 'hillary': 1747, 'w': 5102, 'heroism': 5104, 'book': 5105, 'outstanding': 5106, 'go': 1749, 'comedies': 5108, 'naegle': 3737, 'illegal': 5109, 'applicant': 1751, 'solved': 5111, 'marguerite:': 1752, 'washouts': 291, 'turkey': 1753, 'hampstead-on-cecil-cecil': 5112, 'undated': 3740, 'alma': 5113, 'teenage_barney:': 5114, 'tropical': 5115, 'sheepish': 1755, 'carefully': 1760, \"man's_voice:\": 1757, 'searching': 1759, \"time's\": 5117, 'chauffeur:': 1979, 'roy': 1762, 'chief_wiggum:': 2942, 'studied': 5118, 'mcbain': 5119, 'strategizing': 1763, 'baby': 5120, 'ancient': 1764, 'tease': 1765, 'martini': 5900, 'wolfcastle': 1766, 'rope': 5121, 'needy': 5122, \"calf's\": 1767, 'friendship': 5123, 'singing': 5124, 'peace': 5125, 'exactly': 2562, 'burt_reynolds:': 1768, 'sick': 5126, 'equal': 5127, \"how're\": 1769, 'breathalyzer': 5128, 'soaking': 1770, 'madman': 5129, 'shareholder': 4263, 'agent': 5130, 'coney': 6658, 'weep': 1771, 'washed': 5131, 'supervising': 5132, \"pullin'\": 1984, 'uglier': 5133, 'byrne': 5134, 'jewish': 5135, 'television': 1773, \"let's\": 3144, 'brain': 1774, 'cakes': 5136, 'careful': 1775, 'cost': 5137, 'donor': 5138, 'vampire': 5139, 'fights': 5140, 'frontrunner': 1776, 'bonding': 1985, 'voice_on_transmitter:': 5142, 'speed': 5143, 'actually': 5145, 'dealie': 1779, \"c'mom\": 5146, 'treats': 5147, 'paid': 1781, 'recall': 5148, 'manchego': 1782, 'quotes': 1784, 'reynolds': 5150, 'mouth': 1785, 'loathe': 1786, 'curiosity': 1787, 'peter_buck:': 1788, 'said': 1789, 'calm': 5151, 'smiles': 5152, 'suave': 5153, 'forty-seven': 1791, 'charlie': 3120, 'turning': 5154, 'sincerely': 1986, 'joke': 5155, 'mugs': 1792, 'dracula': 1793, 'uh-oh': 1794, 'changed': 1796, 'graves': 5156, 'belt': 5157, 'non-losers': 5159, 'dramatically': 5160, 'protestantism': 5161, 'tells': 1799, 'barflies': 5162, 'saturday': 5164, 'move': 5165, '_marvin_monroe:': 1800, 'stripes': 5166, \"soakin's\": 5167, 'enforced': 5168, 'wacky': 5169, 'runners': 5171, 'lenny': 5172, 'sudden': 5173, 'fat_in_the_hat:': 1801, 'flaking': 3149, 'f': 5175, 'ehhhhhhhhh': 5176, 'homer': 2585, 'world': 5177, 'line': 1988, 'brother': 5178, 'bad-mouth': 5179, 'thought': 1803, 'wayne': 5180, 'bought': 1805, 'bonfire': 5182, 'reliable': 5183, 'abusive': 1806, 'nfl_narrator:': 5184, 'boyhood': 5185, 'shyly': 5186, 'suds': 1808, 'roz:': 5187, 'remain': 5188, 'insist': 5193, 'pop': 5190, 'exited': 1811, 'coal': 1812, 'tow-joes': 1813, 'nucular': 5194, 'nevada': 5195, \"we'd\": 1816, 'underwear': 302, 'devastated': 5196, 'west': 5198, 'ya': 5199, \"they're\": 1817, 'penny': 5200, 'camp': 1818, 'pointed': 5201, 'plans': 5202, 'whaaaa': 1820, 'competitive': 5203, \"queen's\": 5204, 'heh': 1748, 'kicks': 1822, 'conclusions': 5206, 'strongly': 5911, 'kadlubowski': 5208, 'often': 1824, 'cheer': 5209, 'encouraging': 307, 'week': 1825, 'purveyor': 5210, 'how': 5211, 'never': 5212, 'must': 1827, 'mudflap': 5213, 'pigs': 5214, 'sang': 1828, 'sight': 1829, 'patty': 1830, 'reaction': 3250, 'register': 5215, 'juan': 5216, 'domestic': 5217, 'announcer:': 5218, \"ball's\": 5219, 'owes': 5220, 'speak': 1833, 'marriage': 1835, 'march': 5221, 'assassination': 5222, 'hellhole': 1837, 'actor': 5223, 'helped': 2882, 'je': 5224, 'button': 5225, 'batmobile': 5227, 'freedom': 1840, 'gabriel:': 5228, 'sense': 5229, 'burg': 6481, 'unforgettable': 3751, 'moustache': 5914, 'plotz': 5363, 'ah-ha': 1843, 'duty': 5230, 'amber_dempsey:': 1994, 'navy': 1846, 'gabriel': 5231, 'squishee': 1847, 'mimes': 5232, 'trivia': 1848, 'earth': 1850, 'recorder': 5233, 'butter': 1996, 'surprised': 1851, 'survive': 1852, 'startled': 5234, 'dyspeptic': 1853, 'knowing': 1854, 'nearly': 5235, 'stocking': 1855, 'ihop': 5236, 'country-fried': 2860, 'arabs': 3757, 'lovelorn': 5237, 'health': 5239, \"jackpot's\": 5367, 'predecessor': 1856, 'ohhhh': 5240, 'lotsa': 5241, 'shush': 1858, 'innocent': 1859, 'frogs': 5243, 'island': 5244, 'restless': 5246, 'live': 5247, 'add': 1860, 'premiering': 4275, 'bail': 5248, 'seek': 1862, 'examines': 1863, 'alone': 1139, 'think': 5249, 'hoping': 5250, \"tramp's\": 5251, 'hoax': 4812, 'value': 3762, \"america's\": 890, 'sneering': 6379, 'jelly': 1864, 'dice': 1865, 'dennis_conroy:': 312, 'pay': 1866, 'yourse': 5253, 'usual': 5254, 'introduce': 4277, 'predictable': 5255, 'tavern': 5256, 'couple': 3166, \"tony's\": 1867, 'ask': 5257, 'raggie': 1869, 'freak': 1870, 'log': 1871, 'jay': 3167, 'jeff_gordon:': 1872, 'feat': 1873, 'dogs': 1874, 'incredulous': 5260, 'ball': 5261, 'lofty': 1876, 'wagering': 5262, 'fatso': 1877, 'we': 5263, 'looking': 5264, 'cops': 5265, 'choke': 1878, \"one's\": 5266, 'refresh': 1879, 'came': 5267, 'powerful': 5269, 'ways': 1881, 'pre-game': 5926, 'drop': 5270, 'throw': 5271, 'yours': 5272, 'prep': 5273, 'blamed': 5274, 'strips': 4815, 'design': 1884, 'wars': 1885, 'sit': 4281, 'sugar-free': 1886, 'octa-': 1887, 'counting': 1888, 'triangle': 3332, 'adventure': 5276, 'i-i': 2002, 'marmaduke': 1889, 'simp-sonnnn': 897, 'voters': 1891, 'moonnnnnnnn': 1892, 'bourbon': 1893, 'seeing': 5277, 'beaumarchais': 5278, 'jailbird': 1894, 'except': 1895, 'straighten': 1896, 'life-sized': 1897, 'rig': 5279, 'stay': 5280, 'entertainer': 2853, 'bar-boy': 1898, '_zander:': 5281, 'need': 5282, 'unusual': 5283, 'gel': 1899, 'words': 1901, \"ladies'\": 5284, \"bettin'\": 5285, 'simple': 5286, 'limericks': 6541, 'moesy': 1902, 'sales': 1903, 'moe-clone:': 1906, 'traitors': 5288, 'chunky': 1909, 'admiration': 5289, 'cocoa': 5290, 'happier': 5291, 'play': 1911, 'pillows': 5292, 'perverted': 1912, 'along': 1913, 'spews': 5377, 'fritz': 5293, 'friend': 5294, 'fixed': 5295, 'fica': 1915, 'halloween': 4818, 'clipped': 1916, \"y'know\": 1917, 'jury': 5296, 'links': 5932, 'faith': 3173, \"hasn't\": 1918, 'refreshment': 1919, 'planned': 1920, 'carny:': 5297, 'kill': 5299, 'fausto': 1921, 'harm': 5300, 'conversation': 1922, 'stopped': 4820, 'raining': 5301, 'bowie': 5302, 'connor-politan': 1923, 'snitch': 5304, 'anguished': 5305, 'surprised/thrilled': 5306, 'products': 5307, 'rafters': 3134, 'libido': 1926, 'mid-seventies': 4315, 'stewart': 1927, 'coaster': 1928, 'emotion': 5309, 'guns': 1929, 'none': 1930, 'cracked': 1931, 'regretted': 1932, 'hook': 1933, 'closer': 5310, 'birth': 5311, 're-al': 5312, 'ow': 5313, 'oughta': 1934, 'bashir': 1935, 'booger': 1936, 'edna_krabappel-flanders:': 3176, \"coffee'll\": 5314, \"money's\": 1938, 'disillusioned': 1940, 'society_matron:': 1941, 'mobile': 3177, 'training': 5316, 'express': 1942, 'texan': 1944, 'manfred': 1945, 'gardens': 5317, 'summer': 5318, 'generously': 5319, 'test-': 1946, 'al': 2603, 'frescas': 1948, 'faded': 1949, 'solo': 5322, 'scared': 5321, 'modest': 5323, 'names': 905, 'up-bup-bup': 1951, 'hearts': 1953, \"stabbin'\": 4288, 'rhode': 1955, 'goes': 979, 'fiction': 5324, 'africa': 1956, 'tha': 5325, 'naked': 5938, 'front': 5326, 'trip': 5328, 'bras': 5939, 'bumped': 3182, 'honeys': 1958, 'terrifying': 1959, \"playin'\": 1961, 'specified': 1962, 'expose': 1963, 'asleep': 3184, 'three-man': 1964, 'desperately': 1965, 'love': 1966, 'apart': 5329, 'conclude': 1967, 'gimme': 852, 'grin': 1968, 'cap': 5330, 'killarney': 5331, 'schemes': 3952, 'experiments': 1970, 'darjeeling': 5332, 'creepy': 5333, 'orders': 5386, 'compressions': 4650, 'administration': 3308, 'cricket': 5335, 'cowboy': 5336, 'poisoning': 5337, 'approval': 5338, \"d'ya\": 5339, 'product': 5341, 'flustered': 760, 'fbi_agent:': 5343, 'jacques': 1972, 'apu_nahasapeemapetilon:': 5344, 'colossal': 5345, 'tv_father:': 5346, 'scoffs': 5347, 'gay': 3777, \"thinkin'\": 5348, 'actors': 1974, 'reserve': 1975, \"jimbo's_dad:\": 5349, 'fun': 1976, 'bubble': 5944, 'yee-haw': 1977, \"dolph's_dad:\": 1978, 'permitting': 5350, 'pack': 911, 'cranberry': 1973, 'shower': 2746, 'place': 1980, 'realized': 4826, 'trying': 5389, 'check': 5351, 'alls': 1982, \"workin'\": 1983, 'ring': 5352, 'marshmallow': 5354, 'miss': 5355, 'enough': 5946, 'jamaican': 5356, 'tapered': 3188, 'bitter': 5948, 'file': 1987, 'blossoming': 5357, 'gutenberg': 4827, \"tatum'll\": 2015, 'broken:': 5358, 'depressant': 1991, \"dad's\": 5359, 'short': 5360, 'kemi': 5361, 'station': 5362, 'doreen:': 1992, 'spot': 2017, 'puke-holes': 1993, 'nelson': 5364, 'further': 5365, 'sacrilicious': 1995, 'nicer': 1997, 'wayne:': 1998, 'bigger': 5368, 'greedy': 5369, 'stiffening': 5370, 'theater': 5952, '||comma||': 5371, 'fwooof': 1999, \"world's\": 5372, 'south': 4830, 'phlegm': 2000, 'suing': 2001, 'stagey': 5373, 'len-ny': 2003, 'j': 5374, 'effect': 2004, 'soap': 3368, \"gettin'\": 6559, 'court': 5375, 'enter': 2005, 'pumping': 5376, 'crayola': 5094, 'sunny': 2006, 'own': 5378, 'sob': 4294, 'mechanical': 6561, 'choking': 5394, 'online': 2007, 'chunk': 2008, 'compliment': 5379, 'donut-shaped': 5380, 'towed': 5381, 'palm': 5382, 'boxer': 2163, 'had': 5383, 'their': 5384, 'oh-so-sophisticated': 4834, 'wildfever': 5385, 'dishrag': 1421, 'wednesday': 2009, 'wiping': 2010, 'dizer': 2011, 'he': 5387, 'diaper': 2012, 'enjoyed': 5388, 'hard': 5390, \"they've\": 5391, 'chanting': 2013, 'alarm': 3786, 'hostages': 2014, 'sings': 2016, 'startup': 2022, 'willy': 2018, 'natured': 2020, 'doug:': 5393, 'house': 2021, 'bottles': 5395, 'cockroaches': 5396, 'compadre': 5397, 'presently': 5398, 'throwing': 5399, 'cutting': 5400, 'bush': 5401, 'guard': 3161, 'formico': 2023, 'touched': 5402, 'mither': 5403, 'rage': 3202, 'before': 5404, 'chuckles': 5405, 'equivalent': 2024, 'southern': 5406, \"everyone's\": 4836, 'kicked': 2025, 'bounced': 5407, 'original': 917, 'jeff': 5408, 'labels': 5409, 'foundation': 2027, 'lucky': 5412, \"soundin'\": 5413, 'peanut': 2028, 'side:': 2029, 'forgive': 2030, 'revenge': 5414, 'gimmick': 2033, 'parking': 2034, 'nonchalantly': 2035, 'keys': 6220, 'picture': 2036, 'prizefighters': 2037, 'thing': 2038, 'compliments': 5417, 'swell': 5419, 'quick-like': 5420, 'vodka': 2039, 'sickened': 2040, 'pronto': 2041, 'virile': 2042, 'growing': 5423, 'difficult': 5424, 'football_announcer:': 2043, 'nbc': 5427, 'calling': 2044, 'aristotle:': 2046, 'anywhere': 2047, 'hose': 2048, 'our': 5431, 'ghouls': 5432, 'dynamite': 5433, 'without:': 5434, 'limited': 2049, 'those': 5435, 'portuguese': 2050, 'chase': 2051, 'feisty': 2052, 'coffee': 2053, 'leans': 5437, 'dan_gillick:': 5438, 'cozy': 2058, 'missed': 2055, 'basement': 2057, 'beauty': 5439, 'third': 5440, \"g'on\": 6391, 'done:': 3788, 'host': 5441, 'suffering': 2060, 'superhero': 841, 'by': 5962, 'royal': 2061, 'mis-statement': 2062, 'shakespeare': 2063, 'passion': 4502, 'bite': 3213, 'lights': 5443, 'pancakes': 2064, 'pontiff': 2026, 'venture': 5963, 'kiss': 5444, 'jerk': 2065, 'afternoon': 4174, '_eugene_blatz:': 5446, 'erasers': 2067, 'developed': 2068, 'railroad': 2069, 'puts': 2070, 'customers': 5448, 'million': 2071, 'night-crawlers': 2074, 'disgraceful': 2073, \"moe's_thoughts:\": 2076, 'ironic': 2079, 'fbi': 2078, 'money': 305, 'deal': 2081, 'gear-head': 4840, 'private': 2082, 'chow': 2083, 'twentieth': 5449, 'such': 2084, 'wanted': 2085, 'vacations': 2086, 'close': 2623, 'benefits': 1480, 'hitler': 2089, 'cold': 2090, 'hospital': 2091, 'kirk_voice_milhouse:': 5970, 'near': 5450, 'drinking:': 5451, 'butterball': 2092, 'sheet': 5454, 'changes': 2094, 'helpless': 2095, 'funniest': 5455, 'upgrade': 5456, 'see': 4003, 'egg': 5457, 'excuse': 5458, 'challenge': 2096, 'valley': 5459, 'hotline': 2097, 'fustigation': 2098, \"speakin'\": 2099, 'fight': 5460, 'obvious': 2100, 'quite': 5461, 'forced': 2101, 'geez': 2102, 'someday': 5462, 'high-definition': 2626, 'huge': 2103, 'gumbel': 6570, 'splattered': 3793, 'paint': 2627, 'omit': 2031, 'accent': 930, 'joining': 2104, 'intruding': 5464, 'running': 5465, 'become': 5466, 'casual': 2107, 'anxious': 5467, 'macaulay': 2108, 'damage': 2109, 'whaddya': 2110, 'dilemma': 931, 'filth': 2111, 'information': 5468, \"elmo's\": 5470, 'monorails': 2112, 'sleeps': 2113, 'scratching': 5471, '4x4': 2115, 'sincere': 5415, 'pretzel': 2116, 'person': 2117, 'blurbs': 2118, 'shades': 2119, 'right': 5472, 'cheered': 2120, 'de': 5971, 'hey': 2121, 'hours': 5473, 'nonchalant': 1711, 'cool': 5474, 'wish-meat': 5475, \"pickin'\": 5416, 'duff': 2122, 'investor': 5477, \"tester's\": 2123, 'believer': 2124, 'germs': 5479, 'became': 5480, 'scratcher': 2835, 'first': 5481, 'slaps': 2125, 'louder': 2126, 'ungrateful': 5482, \"'tis\": 2127, 'dna': 5483, 'insults': 3217, 'voyager': 5485, 'germans': 5418, 'sam:': 2128, 'blackjack': 2129, 'dismissive': 5488, 'schnapps': 2130, 'hair': 2131, 'service': 2132, 'according': 3797, 'guff': 2133, 'xx': 5489, 'slurred': 2059, 'kidding': 2134, 'babar': 2135, 'dressed': 2136, 'full-blooded': 5491, 'hammy': 5492, 'official': 5421, 'bears': 3941, 'seminar': 5493, 'underpants': 2137, 'uncomfortable': 5496, 'please/': 2138, 'julienne': 2139, 'memory': 2140, 'key': 2141, 'weirder': 2142, 'misfire': 5498, 'smooth': 2143, 'lise:': 2144, \"can't\": 5499, 'worried': 2145, 'always': 2146, 'senators:': 2147, 'bride': 5501, 'resenting': 2148, 'realize': 5503, 'teams': 5978, 'dozen': 5504, 'ninety-nine': 5505, 'michael_stipe:': 5507, 'proud': 2149, 'candidate': 5508, 'moments': 2150, 'dig': 2151, 'later': 2152, 'smells': 2153, 'pulls': 5426, 'eye-gouger': 5509, 'zero': 2154, 'felt': 5510, \"wouldn't\": 2155, 'courage': 5511, 'contemptuous': 5512, 'tobacky': 5513, 'figure': 2156, 'witty': 2157, 'toxins': 5514, \"you'd\": 2158, 'lily-pond': 5428, 'apron': 2160, 'quietly': 5515, 'jaegermeister': 2161, 'skoal': 2162, 'fold': 5516, 'rockers': 2164, \"'kay-zugg'\": 5517, 'trusted': 2165, 'neck': 2166, 'for': 5520, 'simpsons': 2168, \"burnin'\": 2169, 'ad': 5523, 'nantucket': 2170, 'dies': 2171, \"sittin'\": 2172, 'depressed': 2173, 'snake': 5524, 'walks': 2174, 'nagurski': 5526, 'crapmore': 2175, 'lover': 2176, 'sniffs': 2177, 'tying': 5528, 'pulling': 3550, 'tones': 2178, 'surgeonnn': 5530, 'modestly': 5531, 'loafers': 5532, 'tv_daughter:': 2179, '||semicolon||': 2180, 'east': 5535, 'alec_baldwin:': 2181, \"somethin'\": 6581, 'flynt': 2182, \"lookin'\": 2183, 'ever': 2184, 'threatening': 2185, 'embarrassed': 5536, 'snow': 5538, 'anthony_kiedis:': 2186, 'someone': 5540, 'screw': 2187, 'feminine': 5542, 'colonel:': 5543, 'stools': 5544, 'spit-backs': 3228, 'hunting': 2188, 'plaintive': 2190, 'remains': 2191, 'common': 2192, 'dateline:': 2193, 'physical': 5546, 'corn': 2194, 'decent': 5547, 'murdoch': 5548, 'nash': 5110, 'sale': 2195, 'unfortunately': 2196, 'cecil_terwilliger:': 2197, '7g': 5549, 'courteous': 2198, 'doors': 5550, 'surprise': 2199, 'enthusiastically': 2200, 'grade': 3230, 'gossipy': 2201, 'sun': 5551, \"bartender's\": 3394, 'indeed': 1328, 'comeback': 2203, 'british': 5552, 'plants': 5553, 'disguise': 5554, 'inexorable': 2205, 'hands': 2206, 'shesh': 5555, 'feedbag': 5556, 'type': 2207, 'orifice': 5557, \"man's\": 2375, 'ma': 5558, 'rather': 5559, 'dive': 2208, 'divine': 5561, 'everybody': 2209, 'lookalike': 2210, 'gumbo': 3809, \"cupid's\": 5563, 'imitating': 5985, 'kent_brockman:': 2211, 'huddle': 2212, 'young_barfly:': 5564, 'giving': 5566, 'till': 3271, \"who'da\": 5567, 'blank': 2213, 'cocking': 2214, 'muhammad': 1573, 'serious': 5568, 'drederick': 5570, 'dramatic': 5571, 'viva': 1026, 'herself': 4857, 'america': 5573, 'rent': 945, 'tracks': 5574, '91': 5576, 'moving': 2215, 'thousand-year': 5577, 'shocked': 3810, 'pitcher': 2216, 'mariah': 2219, \"lovers'\": 2220, 'injury': 2221, 'curds': 5436, 'squad': 5578, 'benjamin:': 3811, 'dealer': 2222, 'wolfe': 4316, 'bleak': 5580, 'eyesore': 2648, 'repay': 2225, 'tiny': 5581, 'dumbass': 2226, \"football's\": 2227, 'marjorie': 2228, 'owner': 2229, 'doom': 2054, 'overhearing': 2230, 'her': 2231, 'pissed': 5583, 'pfft': 3234, 'tabs': 2234, 'sector': 2235, 'sighs': 2236, 'grace': 5584, 'stones': 2237, 'half-back': 5585, 'libraries': 2238, 'chocolate': 2239, 'windex': 2240, 'shill': 2241, 'cell-ee': 372, 'mayor_joe_quimby:': 2242, 'rims': 952, 'shrieks': 2243, \"fans'll\": 2244, 'possibly': 2245, 'then': 5588, 'earlier': 2247, \"hobo's\": 2248, 'misconstrue': 2249, 'having': 2250, 'children': 2251, 'broadway': 2252, '||right_parentheses': 2253, 'listened': 5589, 'thankful': 2254, 'domed': 2255, 'gargoyle': 5590, 'wound': 5442, 'incapable': 2256, 'vigilante': 2257, 'steak': 5591, 'lowering': 5592, 'declan': 2258, 'eyeballs': 2651, 'toe': 5593, 'solely': 2259, 'starts': 2260, 'eddie:': 5599, 'ye': 5596, 'pain': 5598, 'gestated': 2263, 'remembered': 2264, 'market': 5600, 'ivory': 5602, 'gotta': 2265, 'fox': 5603, \"plaster's\": 2266, \"aren't\": 5605, 'lecture': 376, 'crossed': 5995, 'rekindle': 2267, 'coast': 378, 'kent': 2268, 'reach': 5606, 'praise': 5607, 'comic_book_guy:': 2269, 'der': 2270, \"ain't\": 2271, 'carlotta:': 2272, 'volunteer': 2273, 'son-of-a': 5610, 'most:': 2274, 'youse': 2276, 'eyes': 5611, \"bladder's\": 2277, 'pro': 2278, 'decide': 5612, 'maintenance': 2279, 'powers': 2284, 'laugh': 2281, 'outside': 2282, 'murmurs': 5615, 'hat': 5614, 'prejudice': 2285, 'deadly': 2286, 'hanh': 2288, 'nightmare': 5616, 'defected': 5617, 'presses': 4856, \"friend's\": 5618, '10:15': 2289, 'disco_stu:': 5619, \"drexel's\": 5620, 'local': 3060, 'depending': 5622, 'rebuttal': 1502, 'gosh': 2290, 'single-mindedness': 3517, 'clown-like': 5624, 'whistling': 2291, 'although': 6598, 'love-matic': 5625, 'leno': 2293, 'mint': 2294, 'finance': 5626, 'nigeria': 2653, 'omigod': 5627, 'motor': 2296, 'lazy': 2297, 'priest': 5628, 'beards': 5629, 'ought': 5630, 'game': 2298, 'gol-dangit': 2299, 'mike_mills:': 5631, 'tyson/secretariat': 2300, 'snackie': 2302, 'stalin': 5633, 'sauce': 2303, 'ralphie': 2304, 'lame': 5634, 'raging': 5635, 'the': 2305, 'frozen': 5636, \"moe's\": 5637, 'extra': 5639, 'abe': 2019, 'frosty': 3427, 'eaters': 4872, 'thirsty': 5640, 'moe-lennium': 2306, 'drinking': 2307, 'dude': 4873, 'heals': 962, 'open-casket': 5641, 'kim_basinger:': 5642, 'spinning': 383, 'ads': 2308, 'cake': 5643, 'reptile': 5644, 'bannister': 5645, 'huhza': 5646, 'data': 1510, 'simon': 5647, 'show-off': 2309, 'ping-pong': 2310, 'richer': 2311, 'felony': 5650, 'junior': 2314, 'you-need-man': 5651, 'assistant': 2315, 'blend': 5652, 'players': 2316, 'works': 5653, 'brown': 5654, 'stage': 2066, 'anyhoo': 5655, 'pulled': 2318, 'agnes_skinner:': 385, 'grains': 2319, 'plane': 3242, 'geysir': 5656, 'touches': 2320, 'tester': 5659, 'rob': 5660, 'background': 2322, 'shop': 2323, 'gayer': 2327, 'knocks': 2326, 'temple': 5663, 'onion': 5664, 'gorgeous': 5665, 'tempting': 6606, 'tsking': 2328, 'salt': 3244, 'causes': 2329, 'yourself': 5667, 'complaint': 5668, \"team's\": 5669, 'built': 5670, 'crisis': 5671, 'wish': 5673, 'sanitary': 2332, 'source': 5675, 'rhyme': 2333, 'palmerston': 5676, 'watched': 2334, 'bus': 3956, 'treasure': 5677, 'material': 5678, 'p': 2335, 'whatcha': 4883, 'capuchin': 2336, 'dad': 2337, \"writin'\": 5679, 'solid': 4884, 'bubbles-in-my-nose-y': 470, 'carve': 5447, 'extremely': 2338, 'jerky': 2339, 'politics': 5392, 'elder': 2340, 'based': 2341, 'dallas': 5680, 'oughtta': 2342, 'superpower': 2344, \"snappin'\": 2345, 'ingredient': 2346, 'cattle': 3245, 'care': 5681, 'japanese': 5682, 'electronic': 5683, 'jacksons': 5685, 'ze-ro': 5686, 'dance': 6611, 'positive': 5687, 'sucks': 2349, 'lock': 3386, 'latin': 1174, \"i'm\": 2072, 'list': 2350, 'politician': 2351, \"life's\": 5688, 'iddilies': 2352, 'sketch': 2032, \"son's\": 2353, 'beeps': 5689, 'himself': 5690, 'malabar': 2354, 'anonymous': 2355, 'ignoring': 5691, 'rounds': 2075, 'any': 2077, 'girlfriend': 2356, 'releasing': 5693, 'pine': 5694, 'law-abiding': 5695, 'ruby-studded': 2080, 'seemed': 5696, 'website': 5697, 'generosity': 2358, 'mall': 2359, 'reunion': 2361, 'crestfallen': 5698, 'attractive_woman_#2:': 2362, 'mistake': 5699, 'let': 5700, 'job': 5701, 'frenchman': 2363, 'reluctantly': 2364, 'gregor': 3248, 'ointment': 2365, 'restroom': 2366, 'terrible': 2367, 'nibble': 5708, 'passports': 2368, 'hang': 2369, 'weird': 5709, 'little_man:': 5710, 'lighten': 3832, 'sinkhole': 2371, 'bed': 395, 'taste': 5711, 'weak': 2372, 'pointing': 5712, 'cover': 2373, 'swill': 2374, 'vegas': 5713, 'there': 2376, 'capitalists': 2377, 'carl': 6620, 'marched': 5714, 'shindig': 2378, 'years': 2379, 'bird': 5715, 'presided': 2380, 'dungeon': 5716, 'kearney_zzyzwicz:': 2382, 'exits': 5718, 'champion': 4892, 'rosey': 2383, 'santa': 5719, 'festival': 5720, 'sketching': 5721, 'confession': 5724, 'is': 2384, 'frankie': 2385, 'concentrate': 2386, 'bachelor': 4342, 'frightened': 2387, 'bar:': 2388, 'sponsoring': 2389, 'convinced': 2390, 'caholic': 5725, 'sickens': 5726, \"cuckold's\": 2391, 'detecting': 5727, 'diablo': 5728, 'luckily': 3104, 'bam': 3029, 'alpha-crow': 5729, \"valentine's\": 2395, 'shard': 2396, 'poulet': 5730, 'wizard': 2398, 'runaway': 5731, 'eurotrash': 2399, 'hooters': 3252, \"didn't\": 2400, 'sweet': 2401, 'followed': 2402, 'heaven': 2403, 'twenty-five': 2404, 'history': 5732, 'reluctant': 5733, 'busted': 5734, 'moonlight': 2406, 'glitz': 2407, 'pep': 2408, 'dollface': 3461, 'recap:': 5735, 'fired': 5736, 'staying': 5737, 'slogan': 1048, 'loneliness': 5738, 'sideshow_mel:': 5739, 'hears': 5740, 'slop': 5741, 'wise': 5453, 'compare': 2410, 'occurs': 2411, 'suspended': 5742, 'halvsies': 2413, 'blob': 2929, 'cop': 5597, 'answered': 5743, \"knockin'\": 2414, 'gator:': 2415, 'boxcars': 5744, 'sassy': 5745, 'disco': 5746, 'mirror': 2417, 'thank': 2418, \"rentin'\": 2419, 'refund': 5747, 'expense': 2420, \"maggie's\": 5748, 'half-beer': 2421, 'popping': 4902, \"wonderin'\": 2422, 'nectar': 5749, 'then:': 3840, 'buying': 2423, 'pal': 5751, 'patented': 2424, 'prime': 5752, 'dreamy': 3841, 'irishman': 4349, 'jesus': 5753, 'grunts': 4903, 'stu': 5755, 'edelbrock': 2426, 'candles': 2427, 'errrrrrr': 2428, \"changin'\": 2429, 'cuddling': 2430, 'intakes': 1981, 'worked': 2431, 'six-barrel': 2432, 'its': 2433, 'e-z': 5758, 'glorious': 5759, 'newsweek': 5761, 'babe': 5762, 'invited': 5702, 'twice': 5763, 'certainly': 2436, 'remembers': 2437, 'louisiana': 2438, 'dee-fense': 5767, 'site': 5537, 'à': 4907, 'wikipedia': 2439, 'forty-nine': 2440, 'committing': 3260, \"crawlin'\": 2441, 'fletcherism': 5770, 'crippling': 5771, 'fears': 2443, 'ginger': 5772, 'gr-aargh': 2444, 'flourish': 5773, 'refinanced': 2445, 'terrorizing': 5774, 'tears': 3118, \"haven't\": 2447, 'drawer': 5775, 'voicemail': 2449, 'pin': 5776, 'ninety-eight': 5777, 'slipped': 5778, 'municipal': 2450, 'promised': 5779, 'perfume': 5780, 'scrutinizes': 2453, 'zack': 5782, 'privacy': 2454, \"family's\": 5783, 'henry': 3262, 'anger': 2455, 'use': 2456, 'bart': 5784, \"y'money's\": 5785, 'insured': 5787, 'larry:': 5788, 'flat': 5789, 'capitol': 5790, 'president': 5791, 'quitcher': 5792, 'thirty-nine': 2457, 'weirded-out': 5793, 'spare': 5794, 'thighs': 2459, 'buds': 5795, \"i've\": 2748, 'mozzarella': 5796, 'delivery_man:': 2460, 'fox_mulder:': 3456, 'lloyd:': 5798, 'defeated': 5799, 'flag': 5800, 'other': 1537, 'carl:': 2462, 'professor': 2463, 'sanitation': 4354, 'bike': 2466, 'chinua': 2468, 'lurleen_lumpkin:': 5803, 'nudge': 6143, 'woo-hoo': 2470, 'leg': 2472, \"cleanin'\": 2473, 'nothing': 5805, 'cadillac': 2474, 'allegiance': 1538, 'patterns': 2475, 'yep': 5806, 'lanes': 4355, 'delts': 2476, 'lovers': 5808, 'push': 2477, \"this'll\": 2479, 'droning': 5809, 'trouble': 5810, 'fanciest': 2481, 'gordon': 2483, 'cecil': 2484, \"doctor's\": 2485, \"tomorrow's\": 5811, 'souped': 2486, 'guide': 5813, 'blur': 3226, 'man': 2487, 'boston': 5814, 'horrified': 2489, 'necessary': 5815, 'brunch': 5816, 'notice': 5463, \"wallet's\": 5817, 'screws': 6637, 'furiously': 2490, 'crystal': 2491, 'borrow': 2492, 'u': 5818, \"d'\": 5820, 'simplest': 5821, \"others'\": 2105, 'afterglow': 2494, 'betty:': 5822, 'trapped': 2496, 'with': 2497, 'somebody': 5823, 'effects': 2498, 'wobbly': 2106, 'makes': 2500, 'limber': 4916, 'age': 5824, 'rainier_wolfcastle:': 5825, 'supermodel': 2501, 'boyfriend': 5826, 'movie': 5827, 'yellow': 2502, 'says': 5828, 'young_moe:': 5829, 'clean': 5830, 'falsetto': 2504, 'sounds': 3164, 'steinbrenner': 5831, 'michelin': 5832, 'gunter': 1345, 'aside': 5833, 'die': 2505, 'mind-numbing': 5834, \"nothin's\": 5835, 'christian': 5836, 'avenue': 3854, 'yelling': 5837, 'different': 5838, 'intoxicants': 5839, 'figured': 2507, \"games'd\": 4362, 'undies': 5840, 'huh': 6641, 'platinum': 3856, 'newsies': 2056, 'when': 2510, 'amber': 2512, 'rutabaga': 3269, 'cow': 5842, 'pick': 2513, 'brain-switching': 2515, 'reopen': 2516, 'larson': 2517, 'closes': 5844, 'warned': 5845, 'driver': 2520, 'beard': 5846, 'bits': 5847, \"puttin'\": 928, 'fudd': 5848, 'kidney': 3857, 'fresco': 4918, 'loaded': 3859, 'vengeful': 1348, 'talkative': 5849, 'verticality': 5850, 'itchy': 3798, 'baritone': 5469, 'bottoms': 2521, 'jazz': 4919, 'elect': 2522, 'ignorance': 2523, 'better': 5851, 'pepsi': 2524, 'force': 2525, 'safecracker': 2526, 'aggie': 5852, 'brockelstein': 5853, 'attend': 2527, 'crooks': 5854, 'pint': 2528, 'dollar': 5855, 'email': 2529, 'quiet': 5856, 'flayvin': 2530, 'authenticity': 2531, 'gifts': 5857, 'clone': 5858, 'changing': 2532, 'infatuation': 5860, 'continuing': 2533, 'squirrel': 2534, 'microwave': 2535, 'stirring': 5861, 'twenty': 5862, 'barbed': 2538, 'evergreen': 5864, 'aged': 5865, 'kick': 2539, 'sympathetic': 5866, 'fry': 5867, 'uncle': 2541, 'menace': 1557, 'seem': 5868, 'pockets': 5869, 'lady-free': 995, \"'pu\": 2542, 'stole': 2543, 'hurry': 2544, 'problemo': 5871, \"'round\": 2677, 'soul': 2546, 'evils': 5872, 'advance': 6650, 'mccarthy': 5873, 'cough': 2547, 'pizza': 5874, 'twerpy': 3865, 'boat': 1861, 'lobster': 2549, \"brockman's\": 5875, 'mock': 2680, 'looting': 2551, 'index': 5877, \"o'clock\": 2552, 'peppers': 2553, 'unexplained': 2554, 'extended': 2555, 'feelings': 2556, 'finding': 3868, 'democrats': 5878, 'video': 5879, 'manipulation': 5880, 'telemarketing': 2557, 'cheerleaders:': 3869, 'kind': 5883, 'kirk_van_houten:': 2558, 'until': 2559, 'religious': 3734, \"tootin'\": 5884, 'whaaa': 1925, 'discriminate': 1002, 'idea': 4499, 'offense': 2683, 'boxers': 2560, 'project': 1561, 'reasons': 2563, 'bitterly': 2564, 'vulgar': 1193, 'maximum': 2565, 'county': 5476, \"tellin'\": 5886, 'goods': 6038, 'crinkly': 2567, 'owe': 2568, 'credit': 5887, 'ho': 2954, 'century': 3356, 'mediterranean': 5478, 'ahhh': 5888, 'lessee': 5889, 'tentative': 2232, 'been': 4374, 'grrrreetings': 5890, 'billy_the_kid:': 2569, 'rickles': 2570, 'folks': 2571, 'troy': 2573, 'wally': 2574, 'sadistic_barfly:': 2575, 'bobo': 2576, 'opens': 4142, 'knock-up': 2577, 'thomas': 5893, 'dropping': 5897, 'amiable': 5896, 'fridge': 2578, 'deeper': 5898, 'joined': 2580, 'politicians': 1377, 'breaks': 5899, 'entering': 6041, 'playful': 5901, '2': 2581, 'alcoholism': 5902, 'disappointment': 2582, 'rule': 5903, 'shuts': 5904, 'bright': 3872, 'ebullient': 4814, 'who-o-oa': 5905, 'donated': 3198, 'bald': 2583, 'brothers': 2584, 'damn': 5906, 'craft': 5907, 'catty': 2586, 'laws': 5908, 'nor': 5909, 'jernt': 5484, 'ford': 5910, 'considers': 2587, 'whip': 2588, 'chicks': 2589, 'minors': 3280, 'notices': 1011, 'round': 5912, 'wine': 5913, 'employees': 5915, 'notch': 2590, 'karaoke_machine:': 5916, 'truth': 5917, 'awed': 2591, 'season': 5918, 'self-esteem': 5487, 'straight': 5919, 'potatoes': 5486, 'gluten': 5920, 'drinks': 5921, 'tear': 5923, 'title': 5924, 'funeral': 5925, 'deserve': 2592, 'wussy': 2593, 'brusque': 2594, '_powers:': 5927, 'schedule': 6073, 'partners': 2595, 'kept': 2596, 'interested': 5928, 'stein-stengel-': 6044, 'massive': 5422, \"mother's\": 5425, 'murmur': 5929, 'nine': 5930, 'earpiece': 5931, 'ironed': 2598, 'press': 2599, 'join': 5933, 'stinks': 2600, 'courthouse': 3876, 'straining': 2601, 'planning': 5934, 'expecting': 2602, 'dejected_barfly:': 5935, 'cheated': 5936, 'bono:': 5937, 'commit': 2604, 'tolerance': 2605, 'thought_bubble_lenny:': 5940, 'troy:': 5941, 'aisle': 5942, \"'morning\": 2606, 'chastity': 2607, 'freely': 5943, 'kucinich': 5632, 'alright': 5945, 'grab': 2609, 'machine': 5947, 'crawl': 2610, 'ideal': 816, 'scrutinizing': 5949, 'seat': 5950, 'wallet': 5951, 'stretches': 3325, 'forecast': 5953, 'white': 5954, \"who'll\": 2611, 'girls': 4931, 'else': 5955, 'normals': 5956, 'so-ng': 5957, 'bowled': 2612, 'imported-sounding': 3880, \"mo'\": 2613, 'forbidden': 5958, 'bread': 2614, 'cocks': 2615, 'investment': 2616, 'mansions': 5959, 'hushed': 5490, 'woman': 2617, 'wife': 5960, 'suppose': 5961, 'ruint': 2620, 'beat': 2621, 'jeers': 2622, 'reflected': 5964, 'these': 5965, 'inherent': 5966, 'insecure': 5968, 'moe_szyslak:': 2624, 'barn': 5969, 'moment': 2625, 'broke': 2330, 'magic': 2628, 'wrote': 2629, \"'roids\": 2630, 'religion': 2631, \"feelin's\": 2632, 'fuzzlepitch': 2633, 'kid': 5972, 'games': 5973, 'chorus:': 2635, 'youngsters': 5974, 'watch': 2636, 'gig': 2637, 'belly-aching': 5975, 'upn': 5976, 'grabs': 5977, 'spreads': 5979, \"nothin'\": 1574, 'pats': 5192, 'remodel': 2638, 'specializes': 2639, \"doin'\": 2640, 'finish': 2641, 'indignant': 5980, \"sat's\": 5981, 'gambler': 5982, 'bust': 2643, 'four': 5983, 'lumpa': 3285, 'suck': 5984, 'kings': 4392, 'test-lady': 3033, 'event': 2644, 'exultant': 5986, 'sagely': 2645, 'boisterous': 5987, 'shhh': 3316, 'eighteen': 3109, 'hurts': 5988, '_julius_hibbert:': 2698, 'clothes': 5989, \"usin'\": 2495, 'slit': 2649, 'woodchucks': 5990, 'holy': 2650, 'offer': 5991, 'leprechaun': 5992, 'wraps': 6052, 'h': 5993, 'radioactive': 5494, 'rug': 2652, 'smithers': 5994, 'microphone': 5996, 'harmony': 4144, 'gasps': 5495, 'stupidly': 2343, 'zone': 2948, 'read': 5997, '||quotation_mark||': 5998, \"who's\": 5999, 'ninety-six': 2654, 'order': 6000, 'unhappy': 2655, 'encore': 6001, 'peeved': 2656, 'sweden': 6002, 'say': 6537, 'soup': 2657, \"i'd\": 2658, \"i-i'll\": 5545, 'bartender': 2659, 'tied': 2660, 'regulars': 5497, 'free': 6003, 'voodoo': 6004, 'sentimonies': 6005, \"it's\": 6006, 'computer_voice_2:': 2661, 'lindsay': 2662, 'sky': 6345, 'peaked': 2663, \"'n'\": 2664, 'plywood': 6007, 'sideshow_bob:': 2665, 'civil': 6289, 'clear': 2189, 'arrange': 6008, 'hates': 4394, 'thru': 6009, 'musses': 6010, 'universe': 6011, \"edna's\": 6012, 'elite': 6013, 'company': 6014, 'allow': 5353, 'senator': 3916, 'sideshow': 6015, 'remorseful': 6016, 'surprising': 2666, 'jubilant': 6018, 'mountain': 2667, 'flame': 6019, 'hosting': 6020, 'radiator': 3192, 'charm': 2669, 'eight': 6021, 'try': 2670, 'supermarket': 6022, 'noble': 2671, 'mathis': 2672, 'somehow': 6023, \"mopin'\": 3288, 'delicious': 6024, 'refill': 2673, 'relationship': 6526, 'stats': 909, 'travel': 3680, \"homer's\": 6025, 'dreamed': 6063, 'mini-beret': 2674, 'couch': 2675, 'given': 6026, 'blood': 6027, 'helllp': 6028, 'sobs': 6029, 'expensive': 6030, 'whup': 5500, 'teenage': 2676, 'federal': 6031, 'ons': 6032, 'between': 6033, '||dash||': 2678, 'bindle': 2679, 'kay': 2681, 'thought_bubble_homer:': 6034, 'settlement': 6035, 'andy': 6036, 'choice:': 6037, 'chained': 3291, 'maggie': 2684, 'protecting': 2685, 'all-star': 2686, 'sumatran': 4043, 'access': 6039, 'nickels': 1027, 'ocean': 6040, 'plucked': 448, 'scooter': 2687, 'radishes': 2688, 'bless': 596, 'trade': 6042, 'cruel': 450, 'maya': 2689, 'cherry': 2690, 'smitty:': 2691, 'want': 6043, 'na': 6045, 'career': 1587, 'advertising': 1068, 'class': 6046, 'clandestine': 2692, 'cable': 2693, 'compared': 6047, 'lovely': 2694, 'ones': 6048, 'bid': 3295, 'klingon': 5502, 'address': 6049, 'woman_bystander:': 4948, 'othello': 6050, 'jumps': 2695, 'pusillanimous': 2696, 'fainted': 2697, 'fuhgetaboutit': 6051, 'ventriloquism': 2699, 'awww': 2700, 'otherwise': 6053, 'flush': 6054, 'bag': 4403, 'poplar': 6055, \"wearin'\": 6056, 'danny': 2702, 'wenceslas': 6057, 'aidens': 6058, 'squirrels': 2703, 'just': 3004, 'effervescence': 6059, 'skinner': 2704, 'helping': 6060, 'adult': 2705, 'seconds': 6061, 'gasp': 6062, 'transmission': 2706, 'measurements': 5506, \"hadn't\": 2708, 'prayers': 3095, 'pair': 6064, 'ugliness': 6065, 'fills': 454, 'wife-swapping': 2710, 'dryer': 2711, 'princesses': 3300, 'good': 2712, 'hangs': 6066, 'villanova': 2713, 'nigerian': 2714, 'crazy': 6069, 'trench': 6071, 'losers': 1590, \"shouldn't\": 2715, 'touchdown': 2716, 'relative': 6075, 'gotten': 2718, 'icy': 6077, 'true': 6078, 'drinker': 2719, 'told': 2720, 'bump': 3896, 'charlie:': 6079, 'massachusetts': 2721, 'denser': 2723, 'cannot': 2724, 'scum-sucking': 6072, 'mason': 2725, 'eighty-six': 6080, 'certified': 6081, 'poured': 2727, 'rods': 1035, 'example': 6082, \"nick's\": 6083, '21': 2729, 's': 2730, 'concerned': 6087, 'gary_chalmers:': 2731, 'usually': 2732, 'turns': 2717, 'homie': 2734, 'amazed': 2735, 'build': 4376, 'in-ground': 6089, 'cursed': 6090, 'shark': 6091, 'telephone': 6092, 'ruin': 6093, 'bum:': 2736, '_hooper:': 6095, 'threw': 2737, 'nerve': 2738, 'tomatoes': 6097, 'shoo': 2739, 'achebe': 6675, 'fantasy': 2740, 'reaches': 6098, 'nap': 6099, 'switched': 2741, 'beats': 6100, 'witches': 2742, \"buffalo's\": 6076, 'twelve': 1203, 'eighty-five': 5411, 'leave': 2743, 'welcome': 6101, 'abolish': 2744, 'du': 6102, 'heart-broken': 2745, 'bills': 2747, \"that'd\": 6103, 'problems': 6104, 'lay': 6105, 'wally:': 4408, \"battin'\": 3293, 'alternative': 6106, 'barf': 2750, 'aunt': 6107, 'prefer': 6108, 'wrong': 6109, 'comedy': 4668, 'statesmanlike': 2752, 'kissed': 2753, 'socratic': 2754, 'letters': 2755, 'consoling': 6110, 'spooky': 6111, 'famous': 6112, \"hangin'\": 6113, 'since': 2756, 'kick-ass': 2757, 'yoink': 6680, 'eyed': 3903, 'ken:': 6117, 'enthused': 2758, 'tries': 2759, 'unbelievably': 2760, 'ducked': 3309, 'tick': 2761, 'cobbling': 462, 'appointment': 2762, 'hilarious': 6118, 'whee': 2763, 'astronauts': 2722, 'occupation': 2159, 'scrape': 1043, 'sharity': 2764, 'ran': 2765, 'jerking': 6119, 'woo': 4410, 'wad': 6120, 'waylon': 2766, 'fad': 2767, 'eighty-three': 2768, 'pharmaceutical': 2771, \"homer'll\": 2770, 'mister': 4932, 'sarcastic': 2773, 'tigers': 3616, 'listen': 2774, 'literature': 6122, 'disappointing': 2775, 'fireball': 4413, 'sweetly': 3432, 'happily': 2776, 'choked-up': 2777, 'activity': 6123, 'cleaner': 2778, 'shut': 6124, 'jets': 6125, 'dutch': 6126, 'sweater': 2780, 'beginning': 2781, 'glyco-load': 6128, 'fishing': 5518, 'peppy': 2783, 'easy-going': 1599, 'buzz': 6130, 'w-a-3-q-i-zed': 2784, \"ridin'\": 2785, 'fortensky': 2786, 'har': 2787, 'captain:': 6132, 'hmmmm': 6133, 'indeedy': 2788, 'keeps': 2726, 'maybe': 6134, 'wrestling': 5519, 'win': 6135, 'blobbo': 3375, 'fill': 2789, 'ends': 1686, 'gruesome': 6137, 'directions': 2790, 'numeral': 1814, 'muttering': 6085, 'joking': 2791, 'neighbor': 6138, 'bulletin': 2792, 'should': 2794, 'beam': 6139, 'puke-pail': 3311, '||question_mark||': 4097, \"bart'd\": 2434, 'prettiest': 2795, 'gums': 2796, 'control': 6086, 'arise': 2797, \"tab's\": 6142, 'parrot': 2798, 'flush-town': 1519, \"barney's\": 2799, 'screams': 6145, 'wishful': 3907, 'minimum': 3314, 'idealistic': 6147, 'playing': 6148, 'mike': 2800, 'malibu': 622, 'picky': 6149, 'kinds': 889, 'safety': 2802, 'shoulda': 6151, 'find': 2733, 'taxes': 3315, 'meals': 5522, \"pope's\": 6088, 'renee': 6152, 'hygienically': 2805, 'soot': 6153, 'denver': 1603, 'lorre': 2806, 'seamstress': 2807, 'upset': 2809, 'price': 1605, 'um': 438, 'possessions': 6156, 'matter-of-fact': 6155, 'slick': 2813, 'updated': 4967, 'opening': 3860, 'tom': 3908, 'scores': 2815, \"duff's\": 6689, 'hmmm': 6157, 'body': 4418, 'head-gunk': 2818, 'sticking-place': 2819, 'reason': 2820, 'gang': 4419, 'hooray': 6158, 'hero': 473, 'checks': 2821, 'ding-a-ding-ding-ding-ding-ding-ding': 4863, \"city's\": 6160, 'size': 2822, 'prompting': 2824, \"scammin'\": 2825, 'indifferent': 2826, 'slays': 5613, 'miserable': 2827, 'dory': 5525, 'grease': 6162, \"daughter's\": 6094, 'acceptance': 6163, 'last': 6164, 'looser': 2828, \"breakin'\": 6166, 'painted': 2829, 'certain': 6167, 'menlo': 2830, 'samples': 6170, 'underbridge': 6169, 'chip': 3207, 'kidnaps': 6171, 'steel': 2831, \"what'sa\": 2832, 'breathless': 6172, 'brainheaded': 2833, 'satisfied': 2834, 'was': 6173, 'op': 2836, 'broom': 2837, 'bookie': 6175, 'troubles': 6176, 'espousing': 6177, 'cruise': 6096, 'chug-monkeys': 2839, 'shrugging': 3912, 'impressed': 2840, 'sympathizer': 2841, 'movement': 6180, 'connection': 2842, 'customer': 2843, 'befouled': 2844, 'laney_fontaine:': 6181, 'choked': 6182, 'goblins': 1330, \"disrobin'\": 5189, 'awwww': 1609, 'furious': 5529, 'turlet': 6183, 'are': 6067, 'kentucky': 2846, 'hit': 2847, 'nervous': 6184, 'canyonero': 6185, 'audience:': 6186, 'ten': 6187, 'wiggle': 6188, 'dashes': 6189, 'wildest': 4913, 'hugh': 4425, 'barney': 6190, 'ha': 6191, 'trapping': 6698, 'kyoto': 6192, 'winded': 2850, 'wheeeee': 6193, 'less': 2852, 'effigy': 6194, 'bluff': 1532, 'life-extension': 6195, 'ballot': 6196, 'pretending': 5527, 'script': 2855, 'haw': 2857, 'jebediah': 6197, 'bugging': 6198, 'risqué': 6199, 'suburban': 6200, 'pitch': 6201, 'absorbent': 5533, 'puff': 6700, 'rugged': 2859, \"murphy's\": 5070, 'refreshingness': 6202, 'hispanic_crowd:': 6203, 'bret:': 2861, 'cigarettes': 2862, 'polishing': 2863, 'retired': 2864, 'fancy': 5252, 'thanking': 2866, 'noises': 2867, 'arse': 2868, 'subscriptions': 2869, 'six': 6701, 'subject': 6204, 'forget-me-drinks': 6205, 'locked': 6208, 'sadly': 6207, 'illegally': 6209, 'fledgling': 2871, 'wrapped': 4062, 'english': 6210, 'writers': 2872, 'bully': 6211, 'ohh': 2873, 'sacajawea': 6213, 'ned': 5534, 'cream': 1434, 'boy': 2874, 'old': 2875, 'minus': 6214, 'pantry': 2877, 'be': 2878, 'democracy': 2879, 'grain': 2880, 'embarrassing': 4979, 'spacey': 6215, 'tax': 6216, 'cuckoo': 2883, 'be-stainèd': 2884, 'spits': 6217, 'walther': 5170, 'groan': 4980, 'legs': 6219, 'wave': 2885, 'louie:': 4429, \"c'mere\": 6221, 'hmf': 6222, 'sleep': 6223, 'some': 6224, 'latour': 2887, \"drivin'\": 2888, 'luck': 6226, 'anybody': 6227, 'kisser': 6228, 'umm': 6229, \"choosin'\": 2890, 'woe:': 3746, 'swig': 3472, 'eu': 1062, 'foot': 6231, 'percent': 6232, 'james': 6233, 'clap': 160, 'clientele': 6234, 'jam': 6235, 'selma_bouvier:': 2891, 'silent': 6236, \"that's\": 6237, 'gold': 2893, 'pained': 2894, 'sued': 2895, 'license': 2897, 'phony': 2898, 'him': 6238, 'suddenly': 1066, 'whining': 6239, \"g'night\": 5541, 'clammy': 6240, 'helen': 6241, 'unearth': 2899, 'buttons': 6242, 'visas': 6243, 'badmouth': 6244, 'am': 6245, 'listens': 2900, 'as': 2901, 'proposition': 6246, 'barter': 6247, 'linda': 2904, 'partially': 6249, 'swimming': 1616, \"where's\": 2906, 'marry': 6250, \"car's\": 2907, 'p-k': 2908, 'wow': 2909, 'however': 1832, 'diapers': 6251, 'gets': 1071, 'robbers': 2911, 'hats': 2912, 'on': 6252, 'alive': 6253, 'ooh': 2913, 'needs': 6254, 'daaaaad': 6255, 'amused': 4435, 'vengeance': 6256, 'discuss': 3328, 'celeste': 5658, 'vermont': 2915, 'joint': 1914, 'moxie': 2917, 'planet': 6257, 'dejected': 1278, 'dum-dum': 6258, 'humanity': 6259, 'williams': 6260, 'bucks': 6261, 'ticket': 2918, 'course': 6262, 'examples': 2919, 'girl-bart': 4405, 'roll': 3331, 'heavyset': 2920, 'doing': 2921, 'yet': 1617, 'chilly': 1074, '1-800-555-hugs': 1618, 'righ': 6263, 'remote': 2751, 'backwards': 2924, 'contract': 6266, 'flack': 6265, 'very': 6267, 'marvelous': 492, 'plow': 6268, 'easily': 1943, 'table': 6269, 'getcha': 2927, 'blues': 2928, 'envy-tations': 6270, 'shtick': 2930, 'timbuk-tee': 2931, \"gentleman's\": 2932, 'death': 6271, 'north': 6272, 'kemi:': 6273, \"liberty's\": 6274, 'mistresses': 6276, 'cameras': 6277, 'burger': 6278, 'boo': 3922, 'authorized': 2933, 'hitchhike': 2934, 'hideous': 2936, 'bathing': 6280, 'appropriate': 2938, 'torn': 3334, 'absentminded': 6281, 'atlanta': 4990, 'minutes': 2939, 'squabbled': 2940, 'new': 6282, 'darn': 6283, 'bursts': 2943, \"donatin'\": 6284, 'bragging': 2944, 'blubberino': 6285, 'sly': 6286, 'beaumont': 6287, 'bolting': 2945, 'tips': 6288, 'led': 2947, 'richard': 6290, 'prove': 6291, 'bleacher': 6293, 'deacon': 1080, 'snail': 6295, 'string': 6296, 'safer': 2949, 'nursemaid': 6297, 'tasty': 2950, 'asked': 6298, 'funny': 2951, 'flips': 2952, 'wade_boggs:': 6299, 'nail': 500, 'cheaped': 6300, 'standards': 4995, 'jay:': 1795, 'escort': 6302, 'tomahto': 1890, 'depression': 6114, 'rome': 3337, 'species': 2956, \"o'\": 6304, 'going': 2957, 'nurse': 6305, \"'ere\": 6306, 'squeeze': 2958, 'sodas': 2959, 'attraction': 6116, 'earrings': 6307, 'met': 2961, 'woulda': 6308, 'dizzy': 2962, 'begging': 6309, 'thirty-five': 2963, 'chief': 2964, 'proves': 2967, 'stink': 2968, 'gin': 2969, 'beligerent': 6310, 'kansas': 5801, 'relax': 6311, 'hm': 2971, 'sounded': 6312, 'wobble': 6313, \"wino's\": 6314, 'maitre': 2972, 'mural': 2973, 'hateful': 1539, 'reserved': 6315, 'familiar': 6316, 'cappuccino': 6317, \"s'pose\": 6318, 'end': 2975, 'eva': 6319, 'enabling': 6320, 'justice': 6321, 'easier': 1831, 'moans': 2978, 'rat-like': 6323, 'lives': 6324, 'femininity': 3111, 'decision': 6325, 'pip': 6326, 'bon': 2980, 'settles': 6327, 'life': 2981, 'looks': 6328, 'harrowing': 1307, 'perfunctory': 6329, 'carlson': 3928, 'regret': 6330, 'releases': 2982, 'streetlights': 6333, 'paramedic:': 6334, 'bones': 2509, \"boy's\": 6336, 'bachelorhood': 6337, 'locklear': 2202, 'hoped': 4500, 'but': 6338, 'faulkner': 2984, 'aghast': 5242, 'fantastic': 2985, 'placed': 6339, 'wordloaf': 6340, 'sponsor': 6341, 'conditioner': 2986, 'assent': 2987, 'pickled': 6342, 'sees': 2204, 'edna': 6344, 'from': 1990, 'handling': 6346, 'medieval': 3342, 'meanwhile': 6347, \"collector's\": 3294, 'pee': 2990, 'attempting': 6715, 'mmmm': 2991, 'news': 6348, 'laughter': 2992, 'wiggle-frowns': 6349, 'hawking:': 6350, 'ore': 2955, 'eliminate': 6353, \"wouldn't-a\": 6354, 'legend': 6355, 'instead': 2995, 'macbeth': 2996, 'lobster-politans': 6356, \"ma'am\": 4716, 'goodnight': 6358, 'contemporary': 4033, 'whatsit': 6361, 'whose': 6360, 'frazier': 6362, 'soothing': 5560, 'uh-huh': 2769, 'advantage': 6363, 'appeals': 6364, 'helicopter': 3933, 'detective_homer_simpson:': 2999, 'edner': 5922, 'resolution': 6719, 'jogging': 3000, 'stand': 3001, 'offensive': 2772, 'insightful': 3002, 'barely': 6365, 'billboard': 3003, \"school's\": 3548, 'fast-paced': 6366, 'squashing': 6367, \"industry's\": 3005, \"messin'\": 3006, 'cards': 5562, 'buried': 6368, 'slab': 3009, 'uncreeped-out': 3010, 'conference': 514, 'drown': 6369, 'across': 3011, 'like': 6370, 'syrup': 6371, 'days': 3012, 'daddy': 6218, 'heading': 6373, 'glen': 3013, 'brawled': 6374, 'minister': 6375, 'practically': 6376, 'de-scramble': 3015, 'five': 3016, 'distraught': 4060, 'ooo': 6377, 'desperate': 6378, 'distributor': 3017, \"he'll\": 1628, 'knit': 6380, 'dana_scully:': 6381, 'worry': 6722, 'both': 3018, 'meditative': 6382, 'really': 3934, 'industry': 6383, 'get': 6384, 'dumpster': 6385, 'fair': 4678, 'spent': 6386, 'break-up': 6387, 'phone': 3021, 'begins': 3022, 'knows': 3935, 'gunk': 3023, 'joe': 6388, 'payday': 6389, 'dumbest': 6392, 'lou:': 1072, 'triumphantly': 3025, 'tasimeter': 6393, 'investigating': 6394, 'quero': 6396, 'motto': 3026, 'strain': 6397, 'luv': 6398, 'stool': 6399, '7-year-old_brockman:': 6400, 'invisible': 6401, 'fuss': 3027, 'knew': 6402, 'perón': 3030, 'gift': 5565, 'spectacular': 3032, 'incriminating': 6405, 'hero-phobia': 6404, 'forty': 6074, 'unavailable': 6406, 'heartless': 6407, 'bars': 6408, 'busy': 6409, 'rocks': 3036, 'warmly': 456, 'owns': 2779, 'stayed': 3037, 'businessman_#1:': 2348, 'duffed': 6410, 'without': 6411, 'does': 3039, 'scanning': 5569, 'mayor': 3040, 'supplying': 1096, 'rotten': 3041, 'represent': 6412, 'stealings': 6413, 'pus-bucket': 6414, 'nordiques': 6415, 'swimmers': 3042, 'lenford': 527, 'image': 5892, 'mock-up': 3044, 'boxer:': 6416, 'margarita': 3045, 'thoughtless': 3046, \"fun's\": 3047, 'bathroom': 3048, 'las': 6417, 'shag': 5572, 'broken': 6418, 'sandwich': 6419, \"man'd\": 3944, 'stop': 6420, 'superdad': 3049, 'con': 2093, 'ahead': 6421, 'a': 4303, 'wakede': 3051, 'ahem': 4454, 'handing': 6422, 'bob': 6423, 'rainbows': 6424, 'habit': 3053, 'amid': 6425, 'wuss': 6426, 'idioms': 3054, 'and': 6427, 'army': 1641, 'briefly': 3055, 'swan': 3056, 'informant': 2782, 'which': 6428, 'shoulder': 6429, 'sec_agent_#1:': 3058, 'mines': 3059, 'hottest': 5575, 'mix': 6430, 'lisa_simpson:': 6431, 'punishment': 6432, 'smoker': 3061, 'valuable': 3062, 'proper': 3063, 'sprawl': 6433, 'hubub': 6434, 'nightmares': 3064, \"waitin'\": 3131, \"summer's\": 3065, 'morning-after': 6435, 'muertos': 6436, 'supply': 6437, 'handler': 4459, 'ballclub': 3068, 'mellow': 6438, 'professor_jonathan_frink:': 6440, 'other_player:': 1644, 'suspenders': 6443, \"goin'\": 6131, 'interesting': 3070, 'thumb': 3071, 'occupied': 6444, 'moron': 2634, 'lie': 6445, 'sue': 6446, 'tribute': 3073, 'spend': 6447, 'quimbys:': 6448, 'distract': 3074, 'birthday': 6449, 'flames': 6450, 'looooooooooooooooooong': 3075, 'stood': 3362, 'muslim': 6451, 'character': 3299, 'caper': 1838, 'criminal': 6453, 'midge:': 6454, 'cavern': 6455, 'congoleum': 3949, 'twenty-six': 3076, 'layer': 3077, \"'your\": 3078, 'ugliest': 4876, 'secrets': 6456, 'incognito': 3079, 'sabermetrics': 6457, 'consciousness': 6458, 'swishkabobs': 6459, 'dennis_kucinich:': 6460, 'metal': 6461, 'twelveball': 6462, 'burnside': 6136, 'code': 6463, 'bedroom': 3081, 'kirk': 2903, 'grammy': 6464, 'orgasmville': 6465, 'yee-ha': 3082, 'at': 6466, 'pardon': 6467, 'neil_gaiman:': 3083, \"renovatin'\": 6468, 'catholic': 6470, \"stealin'\": 3084, 'when-i-get-a-hold-of-you': 3085, 'curious': 3364, 'snapping': 3087, 'conspiracy': 6471, 'ew': 6472, 'duff_announcer:': 3088, 'labor': 3089, 'dint': 6473, 'stan': 3092, 'alphabet': 3093, 'breaking': 1648, 'buddies': 6474, 'or': 6475, 'son': 6476, 'flash': 3951, 'evil': 6477, 'held': 6478, 'recruiter': 6479, 'marge_simpson:': 6480, 'rude': 3098, 'bidet': 3099, 'whim': 2223, 'geyser': 6483, 'gentlemen': 6482, 'watching': 5579, 'the_rich_texan:': 154, 'i': 6484, 'upsetting': 5017, 'whoo': 3100, \"kid's\": 3101, 'al_gore:': 6485, 'occurred': 3102, 'ditched': 3953, 'work': 1804, 'switch': 6486, 'laney': 1651, 'ripping': 3103, 'guttural': 6488, 'intelligent': 5019, 'faceful': 2224, 'lady_duff:': 3105, 'fools': 6489, 'carney': 6490, 'friends': 6491, 'bet': 5430, 'score': 6492, 'disgrace': 6493, 'life-partner': 3954, 'snake_jailbird:': 6494, \"'til\": 3108, 'pleased': 6495, \"we've\": 1107, 'break': 1200, 'drivers': 3110, 'm': 6496, 'than': 3113, \"could've\": 1508, 'skydiving': 3114, 'bret': 3115, 'gulps': 3116, 'improv': 6115, 'turn': 3261, 'take-back': 3117, 'principles': 6497, 'laramie': 3119, 'frat': 6499, 'grampa_simpson:': 2707, 'savings': 477, \"challengin'\": 6500, 'jerks': 3121, 'skinny': 6501, 'rainier': 3122, '$42': 6502, 'bliss': 3125, 'is:': 6503, 'shirt': 3126, 'sexton': 6504, 'mop': 6505, 'mustard': 6506, 'shaky': 3127, 'swine': 3128, 'almond': 3827, 'e': 3129, 'can': 3130, 'stops': 3066, 'knives': 6507, 'stripe': 6508, 'gonna': 3132, 'life-threatening': 3133, 'punch': 6509, 'shaved': 3135, 'recreate': 6511, 'skeptical': 6512, 'dancing': 3136, 'carey': 3137, 'cutie': 987, 'hopeful': 6141, 'vicious': 3138, 'walk': 6513, 'knowingly': 4843, 'shipment': 3140, 'hardhat': 3141, 'grubby': 3142, 'cheery': 6515, 'occasional': 3143, 'tree_hoper:': 951, 'random': 6516, 'influence': 6517, 'accusing': 5144, 'cousin': 6518, 'eat': 3145, 'cannoli': 3146, 'gheet': 3147, 'states': 6519, 'dank': 6520, 'wire': 6521, 'away': 3492, 'distance': 3148, 'lingus': 6144, 'dials': 6522, 'crew': 6523, '35': 3961, 'far': 6524, 'pews': 3150, 'tie': 6525, 'super': 3376, 'sangre': 6527, 'beers': 6146, 'title:': 3151, 'dr': 3152, 'prince': 6528, 'legal': 6529, 'fustigate': 3153, 'slurps': 3154, 'test': 6530, 'down': 3155, 'two-thirds-empty': 6531, 'desire': 5582, 'shout': 6532, \"callin'\": 6533, \"shan't\": 3156, 'car': 3157, 'confidence': 3158, 'french': 3159, 'eight-year-old': 542, 'technical': 3378, \"blowin'\": 3160, 'reads': 1659, \"bo's\": 3162, 'heard': 3163, 'ivy-covered': 6534, 'jer': 3165, 'awesome': 2233, 'pawed': 6535, \"game's\": 1115, 'halfway': 3168, 'decadent': 6536, 'successful': 4467, 'contemplates': 6538, '_montgomery_burns:': 6539, 'us': 3963, 'skins': 3169, 'insensitive': 6540, 'somewhere': 1039, 'meaningfully': 3381, 'indicates': 3170, 'sass': 6542, 'tooth': 3171, 'soft': 6543, 'griffith': 3172, 'territorial': 3249, 'granted': 1355, 'lachrymose': 2292, 'bull': 547, 'cartoons': 6544, \"drawin'\": 6545, 'population': 6546, 'stars': 6547, 'future': 3174, 'koi': 3175, '70': 6548, 'liability': 3178, 'lou': 3179, 'elocution': 3180, 'apartment': 6550, 'lenses': 3385, 'harvesting': 3181, 'fiiiiile': 6551, 'crayon': 2801, 'hawaii': 3183, 'store': 6552, 'vampires': 6553, 'sells': 4469, 'employment': 3185, 'woozy': 6554, 'distinct': 6150, 'memories': 3186, 'stuff': 3187, 'available': 6688, 'dumb-asses': 6555, 'disguised': 3190, 'boys': 6556, 'winning': 6557, 'inspire': 3191, 'chill': 2295, 'calvin': 3193, 'crowded': 3194, 'cares': 6558, 'freed': 2998, 'mice': 6560, 'interrupting': 3196, 'flaming': 3197, 'novelty': 4662, 'whoa': 1119, 'fly': 3195, 'ali': 2811, \"guy's\": 3199, 'swooning': 3200, 'nuked': 4360, 'chairman': 2803, 'hare-brained': 3201, 'blame': 6563, 'designer': 3203, 'pinchpenny': 5205, 'cock': 3204, 'name': 3205, 'chapstick': 3206, 'draw': 3208, 'showed': 3209, 'patient': 6566, 'tipsy': 1121, 'ease': 4715, 'arts': 6567, 'prettied': 3210, 'drug': 3211, 'wake': 3212, 'não': 4475, 'tang': 2854, 'plan': 6568, 'anti-intellectualism': 6569, 'therefore': 3214, 'grants': 6572, 'taking': 6571, 'doppler': 3215, 'once': 3216, 'carb': 6573, 'dinks': 6574, 'miss_lois_pennycandy:': 6575, 'easy': 6576, 'lease': 3218, 'fastest': 3219, 'dull': 3220, 'blokes': 3221, 'yak': 3222, 'bee': 3223, 'unable': 6579, 'flower': 6578, 'nominated': 3224, 'itself': 3225, 'officials': 6580, 'heatherton': 5586, 'affects': 3227, 'hunky': 6584, 'mm': 6582, 'swigmore': 6583, 'button-pusher': 6585, 'referee': 6586, 'barstools': 3229, 'yell': 6587, 'outs': 6588, 'extreme': 6589, 'wittgenstein': 2808, \"squeezin'\": 6590, 'beans': 6591, 'beneath': 3231, 'super-genius': 3232, 'marquee': 3233, 'dea-d-d-dead': 5287, 'fountain': 6592, 'hits': 6593, 'bart_simpson:': 5452, 'snort': 4480, 'drunk': 3701, 'donate': 6594, 'though': 3235, 'mayan': 5882, 'breakfast': 3236, 'showing': 3967, 'poster': 6595, 'fink': 6596, 'ziff': 6597, 'unattractive': 2381, 'ladder': 3237, 'brought': 3390, 'meyerhof': 3238, 'smell': 2246, 'agent_miller:': 6599, 'cash': 3240, 'rain': 3341, 'floor': 6600, 'tenor:': 6601, \"high-falutin'\": 6602, 'term': 3241, 'genius': 2814, 'encores': 6604, 'rid': 3243, 'rafter': 6605, 'perfected': 3069, 'eh': 6607, 'space': 6608, 'karaoke': 1128, \"doesn't\": 6609, 'sweetie': 3392, 'wreck': 6610, 'portentous': 6612, 'darkness': 1079, 'hardwood': 2816, 'pity': 3246, \"year's\": 6613, 'miles': 3247, 'malted': 6614, \"countin'\": 6615, 'part-time': 6616, 'spouses': 6617, 'stickers': 6618, 'through': 6619, 'tap': 6621, 'dang': 1670, 'pall': 6622, 'lloyd': 6623, 'whisper': 2817, 'mr': 3251, 'computer': 6624, 'bender:': 3254, 'kenny': 3253, 'soon': 6625, 'year': 6264, 'brandy': 2804, 'verdict': 3255, 'inserted': 3256, 'chest': 6626, 'most': 521, 'wanna': 1098, \"nixon's\": 3257, \"hawkin'\": 3972, 'forget': 3258, 'each': 6627, 'toss': 6628, 'lovejoy': 3259, 'past': 1676, 'months': 1116, 'expired': 6629, 'cajun': 6630, 'rotch': 6631, 'fulla': 3263, 'playoff': 6632, 'la': 6633, 'sweeter': 6634, 'ab': 3264, 'four-star': 6636, 'difference': 3265, 'attractive': 3266, 'wrecking': 561, 'cheerier': 6638, 'maiden': 3267, 'kissing': 947, 'boozy': 3268, 'pushing': 6639, 'gees': 3067, 'that': 6640, 'mirthless': 6642, 'garbage': 6750, 'piano': 6643, 'officer': 6644, 'catch-phrase': 6645, 'spine': 2114, 'kneeling': 3270, \"askin'\": 6646, \"springfield's\": 6647, 'awkward': 6648, 'belch': 6649, 'pleasure': 563, 'and:': 6651, 'female_inspector:': 6652, 'soul-crushing': 3272, 'tablecloth': 6653, 'few': 6753, 'reciting': 3273, 'winks': 6654, 'kwik-e-mart': 3682, 'bottom': 3274, 'sexy': 6755, 'kodos:': 3275, 'ambrosia': 6655, 'horns': 6656, 'barbara': 6657, 'billingsley': 6159, 'terminated': 3536, 'roach': 3276, 'toys': 3277, 'whether': 3278, 'vulnerable': 6659, 'shall': 3279, 'dreams': 6660, 'argue': 3677, 'tragedy': 2503, 'lugs': 1136, \"phone's\": 3281, 'ho-la': 2823, 'pause': 3282, 'sniffles': 6661, 'almost': 6161, 'affectations': 6331, 'eating': 3283, 'trainers': 3284, 'boneheaded': 6662, 'all-all-all': 3977, 'o': 5158, 'bees': 6663, 'handwriting': 6664, 'bumbling': 6665, 'fatty': 3287, 'sinister': 3979, 'romance': 6565, 'flash-fry': 6279, 'nation': 6666, 'freshened': 6667, \"o'reilly\": 568, 'rewound': 3289, 'windelle': 6668, 'adrift': 3290, 'parasol': 6669, 'bellyaching': 819, 'railroads': 3292, 'fluoroscope': 4875, 'exit': 6248, 'waters': 6670, 'enhance': 5594, 'small': 6671, 'squeezed': 3296, 'waterfront': 3297, 'fritz:': 3298, 'wowww': 3301, 'clench': 3302, 'combines': 6672, 'fonda': 2261, 'distaste': 3303, \"ya'\": 6673, 'fierce': 6674, 'community': 3304, 'cent': 3306, 'during': 6676, 'unlocked': 2262, 'si-lent': 6678, 'pledge': 6679, 'cronies': 3307, 'mexican': 2642, 'recently': 3367, 'ireland': 6681, 'lee': 3310, 'skinheads': 5521, 'motorcycle': 6682, 'cell': 5601, 'habitrail': 6683, 'pool': 6165, 'howya': 3312, 'heavens': 3313, 'row': 6684, 'jackass': 573, \"s'cuse\": 6685, 'against': 6686, 'swings': 6687, 'soaked': 6677, \"people's\": 2409, 'divorced': 6690, 'mailbox': 6691, 'shaken': 3317, 'relieved': 6693, 'hangover': 6694, 'tee': 3318, 'blue': 6695, 'imaginary': 6696, 'lifestyle': 6699, 'well-wisher': 3319, 'looked': 5666, 'newest': 6562, 'lennyy': 6702, 'stock': 883, \"couldn't\": 6703, 'single': 3320, 'mags': 6704, 'toilet': 3322, \"y'see\": 5107, 'cat': 5604, 'wasted': 4496, 'fingers': 3324, 'veux': 3326, 'poetics': 6705, 'bedbugs': 6635, 'indecipherable': 6168, 'wheels': 6706, 'reader': 3329, 'y-you': 6707, 'floating': 3330, 'stirrers': 5769, 'publishers': 6708, 'grub': 2519, 'nerd': 2088, 'shotgun': 6121, 'shriners': 3333, 'left': 1145, 'warm_female_voice:': 3335, 'dateline': 3336, 'hotenhoffer': 6390, 'sheets': 6709, 'dearest': 3338, 'koholic': 3339, '||period||': 3340, \"clancy's\": 5819, 'sensitivity': 6710, 'lushmore': 6711, '_kissingher:': 6712, 'swelling': 4501, 'researching': 6713, 'good-looking': 6714, 'gasoline': 640, 'strawberry': 6716, 'yo': 1689, 'means': 5608, 'cab_driver:': 1464, 'hail': 3344, 'presents': 6717, 'lis': 6720, 'mumble': 6721, 'derek': 3345, 'putting': 6225, 'enthusiasm': 3346, 'clincher': 1849, 'snotball': 6723, 'fifty': 3347, 'dames': 3348, 'bedtime': 3349, 'pull': 1690, 'noise': 3350, 'indigenous': 6724, 'contact': 2480, 'rub': 3352, 'hour': 5609, 'patron_#1:': 3353, 'numbers': 6174, 'speech': 3355, 'invulnerable': 6725, 'willing': 1085, 'consider': 6726, 'european': 3383, 'overturned': 3357, 'lowest': 3358, 'firm': 3359, 'charged': 3360, 'squadron': 3361, 'what-for': 1989, 'lager': 575, 'involving': 6727, 'sec': 6769, 'tv_announcer:': 2838, 'slyly': 3366, 'pushes': 3407, 'father': 2608, 'puffy': 1692, 'mind': 6729, 'happens': 3369, 'poke': 3370, 'dumbbell': 3371, 'hidden': 203, 'smuggled': 5238, 'stern': 1845, 'mona_simpson:': 3372, 'creature': 3373, \"watchin'\": 3374, 'pizzicato': 6731, 'period': 2275, 'reporter:': 6732, 'reactions': 3377, 'winch': 6733, 'badmouths': 1150, 'i-i-i': 3379, 'buy': 3380, 'stinky': 6735, 'mexicans': 5661, 'hello': 3382, 'taylor': 6736, 'folk': 6737, 'dog': 3384, 'lizard': 6738, 'lousy': 5429, 'classy': 6739, 'appreciated': 6740, 'dean': 6129, 'anymore': 5060, 'despite': 6179, 'fella': 6741, 'professional': 1241, 'warn': 1693, 'washer': 6692, 'dough': 6742, 'gangrene': 1152, 'poorer': 3710, 'sets': 1694, 'unusually': 3387, 'choice': 6549, 'buddha': 3388, \"now's\": 3389, 'wood': 4696, 'take': 6743, \"poisonin'\": 2280, 'engraved': 6744, 'hydrant': 3391, 'booth': 3393, 'noosey': 6745, 'taken': 6746, 'gum': 5781, 'blissful': 6748, 'england': 6749, 'toledo': 3396, 'guessing': 2283, 'director': 6751, 'formico:': 6752, 'coin': 3397, 'moe_recording:': 3398, \"sippin'\": 6754, 'brag': 4506, 'case': 6756, 'fever': 3399, 'african': 3400, 'softer': 6757, 'longer': 6758, 'conspiratorial': 2937, 'committee': 3401, 'duke': 6759, 'slender': 4508, 'vin': 6760, 'detective': 6359, 'clams': 3402, 'shoe': 2287, 'savagely': 3403, 'szyslak': 3800, 'agents': 3991, 'a-b-': 6761, 'sour': 6762, 'f-l-a-n-r-d-s': 2812, ':': 6763, 'view': 3404, 'leaving': 5445, 'wudgy': 6764, 'chips': 6765, 'gives': 3405, 'mount': 6766, 'everyday': 6767, 'doll-baby': 6768, 'wholeheartedly': 6771, \"patrick's\": 6770, 'yoo': 6772, 'happy': 3408, 'quit': 6773, 'hear': 2845, 'michael': 6774, 'next': 1952, 'rump': 6775, 'unjustly': 853, 'danish': 3409, 'tip': 3410, 'honest': 6776, \"aren'tcha\": 2709, 'campaign': 3411, 'uhhhh': 6734, 'named': 6777, 'unintelligent': 3412, 'uses': 6778, 'liable': 3413, 'various': 5327}\n"
     ]
    }
   ],
   "source": [
    "print(int_text[:500])\n",
    "print('\\n')\n",
    "print(vocab_to_int)"
   ]
  },
  {
   "cell_type": "markdown",
   "metadata": {
    "deletable": true,
    "editable": true
   },
   "source": [
    "## Build the Neural Network\n",
    "You'll build the components necessary to build a RNN by implementing the following functions below:\n",
    "- get_inputs\n",
    "- get_init_cell\n",
    "- get_embed\n",
    "- build_rnn\n",
    "- build_nn\n",
    "- get_batches\n",
    "\n",
    "### Check the Version of TensorFlow and Access to GPU"
   ]
  },
  {
   "cell_type": "code",
   "execution_count": 129,
   "metadata": {
    "collapsed": false,
    "deletable": true,
    "editable": true
   },
   "outputs": [
    {
     "name": "stdout",
     "output_type": "stream",
     "text": [
      "TensorFlow Version: 1.0.0\n",
      "Default GPU Device: /gpu:0\n"
     ]
    }
   ],
   "source": [
    "\"\"\"\n",
    "DON'T MODIFY ANYTHING IN THIS CELL\n",
    "\"\"\"\n",
    "from distutils.version import LooseVersion\n",
    "import warnings\n",
    "import tensorflow as tf\n",
    "\n",
    "# Check TensorFlow Version\n",
    "assert LooseVersion(tf.__version__) >= LooseVersion('1.0'), 'Please use TensorFlow version 1.0 or newer'\n",
    "print('TensorFlow Version: {}'.format(tf.__version__))\n",
    "\n",
    "# Check for a GPU\n",
    "if not tf.test.gpu_device_name():\n",
    "    warnings.warn('No GPU found. Please use a GPU to train your neural network.')\n",
    "else:\n",
    "    print('Default GPU Device: {}'.format(tf.test.gpu_device_name()))"
   ]
  },
  {
   "cell_type": "markdown",
   "metadata": {
    "deletable": true,
    "editable": true
   },
   "source": [
    "### Input\n",
    "Implement the `get_inputs()` function to create TF Placeholders for the Neural Network.  It should create the following placeholders:\n",
    "- Input text placeholder named \"input\" using the [TF Placeholder](https://www.tensorflow.org/api_docs/python/tf/placeholder) `name` parameter.\n",
    "- Targets placeholder\n",
    "- Learning Rate placeholder\n",
    "\n",
    "Return the placeholders in the following the tuple `(Input, Targets, LearingRate)`"
   ]
  },
  {
   "cell_type": "code",
   "execution_count": 130,
   "metadata": {
    "collapsed": false,
    "deletable": true,
    "editable": true
   },
   "outputs": [
    {
     "name": "stdout",
     "output_type": "stream",
     "text": [
      "Tests Passed\n"
     ]
    }
   ],
   "source": [
    "def get_inputs():\n",
    "    \"\"\"\n",
    "    Create TF Placeholders for input, targets, and learning rate.\n",
    "    :return: Tuple (input, targets, learning rate)\n",
    "    \"\"\"\n",
    "    # TODO: Implement Function\n",
    "    input = tf.placeholder(tf.int32, [None, None], name='input')\n",
    "    targets = tf.placeholder(tf.int32, [None, None], name='targets')\n",
    "    learning_rate = tf.placeholder(tf.float32, name='learning_rate')\n",
    "    return (input, targets, learning_rate)\n",
    "\n",
    "\n",
    "\"\"\"\n",
    "DON'T MODIFY ANYTHING IN THIS CELL THAT IS BELOW THIS LINE\n",
    "\"\"\"\n",
    "tests.test_get_inputs(get_inputs)"
   ]
  },
  {
   "cell_type": "markdown",
   "metadata": {
    "deletable": true,
    "editable": true
   },
   "source": [
    "### Build RNN Cell and Initialize\n",
    "Stack one or more [`BasicLSTMCells`](https://www.tensorflow.org/api_docs/python/tf/contrib/rnn/BasicLSTMCell) in a [`MultiRNNCell`](https://www.tensorflow.org/api_docs/python/tf/contrib/rnn/MultiRNNCell).\n",
    "- The Rnn size should be set using `rnn_size`\n",
    "- Initalize Cell State using the MultiRNNCell's [`zero_state()`](https://www.tensorflow.org/api_docs/python/tf/contrib/rnn/MultiRNNCell#zero_state) function\n",
    "    - Apply the name \"initial_state\" to the initial state using [`tf.identity()`](https://www.tensorflow.org/api_docs/python/tf/identity)\n",
    "\n",
    "Return the cell and initial state in the following tuple `(Cell, InitialState)`"
   ]
  },
  {
   "cell_type": "code",
   "execution_count": 131,
   "metadata": {
    "collapsed": false,
    "deletable": true,
    "editable": true
   },
   "outputs": [
    {
     "name": "stdout",
     "output_type": "stream",
     "text": [
      "Tests Passed\n"
     ]
    }
   ],
   "source": [
    "def get_init_cell(batch_size, rnn_size):\n",
    "    \"\"\"\n",
    "    Create an RNN Cell and initialize it.\n",
    "    :param batch_size: Size of batches\n",
    "    :param rnn_size: Size of RNNs\n",
    "    :return: Tuple (cell, initialize state)\n",
    "    \"\"\"\n",
    "    # TODO: Implement Function\n",
    "    lstm = tf.contrib.rnn.BasicLSTMCell(rnn_size)\n",
    "    drop = tf.contrib.rnn.DropoutWrapper(lstm, output_keep_prob=0.8)\n",
    "    cell = tf.contrib.rnn.MultiRNNCell([drop] * 2)\n",
    "    input_ = cell.zero_state(batch_size, tf.float32)\n",
    "    initial_state = tf.identity(input_, name='initial_state')\n",
    "    return (cell, initial_state)\n",
    "\n",
    "\n",
    "\"\"\"\n",
    "DON'T MODIFY ANYTHING IN THIS CELL THAT IS BELOW THIS LINE\n",
    "\"\"\"\n",
    "tests.test_get_init_cell(get_init_cell)"
   ]
  },
  {
   "cell_type": "markdown",
   "metadata": {
    "deletable": true,
    "editable": true
   },
   "source": [
    "### Word Embedding\n",
    "Apply embedding to `input_data` using TensorFlow.  Return the embedded sequence."
   ]
  },
  {
   "cell_type": "code",
   "execution_count": 132,
   "metadata": {
    "collapsed": false,
    "deletable": true,
    "editable": true
   },
   "outputs": [
    {
     "name": "stdout",
     "output_type": "stream",
     "text": [
      "Tests Passed\n"
     ]
    }
   ],
   "source": [
    "def get_embed(input_data, vocab_size, embed_dim):\n",
    "    \"\"\"\n",
    "    Create embedding for <input_data>.\n",
    "    :param input_data: TF placeholder for text input.\n",
    "    :param vocab_size: Number of words in vocabulary.\n",
    "    :param embed_dim: Number of embedding dimensions\n",
    "    :return: Embedded input.\n",
    "    \"\"\"\n",
    "    # TODO: Implement Function\n",
    "    embedding = tf.Variable(tf.random_uniform((vocab_size, embed_dim), -1, 1))\n",
    "    embed = tf.nn.embedding_lookup(embedding, input_data)\n",
    "    return embed\n",
    "\n",
    "\n",
    "\"\"\"\n",
    "DON'T MODIFY ANYTHING IN THIS CELL THAT IS BELOW THIS LINE\n",
    "\"\"\"\n",
    "tests.test_get_embed(get_embed)"
   ]
  },
  {
   "cell_type": "markdown",
   "metadata": {
    "deletable": true,
    "editable": true
   },
   "source": [
    "### Build RNN\n",
    "You created a RNN Cell in the `get_init_cell()` function.  Time to use the cell to create a RNN.\n",
    "- Build the RNN using the [`tf.nn.dynamic_rnn()`](https://www.tensorflow.org/api_docs/python/tf/nn/dynamic_rnn)\n",
    " - Apply the name \"final_state\" to the final state using [`tf.identity()`](https://www.tensorflow.org/api_docs/python/tf/identity)\n",
    "\n",
    "Return the outputs and final_state state in the following tuple `(Outputs, FinalState)` "
   ]
  },
  {
   "cell_type": "code",
   "execution_count": 133,
   "metadata": {
    "collapsed": false,
    "deletable": true,
    "editable": true
   },
   "outputs": [
    {
     "name": "stdout",
     "output_type": "stream",
     "text": [
      "Tests Passed\n"
     ]
    }
   ],
   "source": [
    "def build_rnn(cell, inputs):\n",
    "    \"\"\"\n",
    "    Create a RNN using a RNN Cell\n",
    "    :param cell: RNN Cell\n",
    "    :param inputs: Input text data\n",
    "    :return: Tuple (Outputs, Final State)\n",
    "    \"\"\"\n",
    "    # TODO: Implement Function\n",
    "    outputs, state = tf.nn.dynamic_rnn(cell, inputs, dtype=tf.float32)\n",
    "    final_state = tf.identity(state, name='final_state')\n",
    "    return (outputs, final_state)\n",
    "\n",
    "\n",
    "\"\"\"\n",
    "DON'T MODIFY ANYTHING IN THIS CELL THAT IS BELOW THIS LINE\n",
    "\"\"\"\n",
    "tests.test_build_rnn(build_rnn)"
   ]
  },
  {
   "cell_type": "markdown",
   "metadata": {
    "deletable": true,
    "editable": true
   },
   "source": [
    "### Build the Neural Network\n",
    "Apply the functions you implemented above to:\n",
    "- Apply embedding to `input_data` using your `get_embed(input_data, vocab_size, embed_dim)` function.\n",
    "- Build RNN using `cell` and your `build_rnn(cell, inputs)` function.\n",
    "- Apply a fully connected layer with a linear activation and `vocab_size` as the number of outputs.\n",
    "\n",
    "Return the logits and final state in the following tuple (Logits, FinalState) "
   ]
  },
  {
   "cell_type": "code",
   "execution_count": 134,
   "metadata": {
    "collapsed": false,
    "deletable": true,
    "editable": true
   },
   "outputs": [
    {
     "name": "stdout",
     "output_type": "stream",
     "text": [
      "Tests Passed\n"
     ]
    }
   ],
   "source": [
    "def build_nn(cell, rnn_size, input_data, vocab_size):\n",
    "    \"\"\"\n",
    "    Build part of the neural network\n",
    "    :param cell: RNN cell\n",
    "    :param rnn_size: Size of rnns\n",
    "    :param input_data: Input data\n",
    "    :param vocab_size: Vocabulary size\n",
    "    :return: Tuple (Logits, FinalState)\n",
    "    \"\"\"\n",
    "    # TODO: Implement Function\n",
    "    embedded = get_embed(input_data, vocab_size, 300)\n",
    "    \n",
    "    outputs, final_state = build_rnn(cell, embedded)\n",
    "\n",
    "    logits = tf.contrib.layers.fully_connected(outputs, vocab_size, activation_fn=None)\n",
    "    \n",
    "    return logits, final_state\n",
    "\n",
    "\n",
    "\"\"\"\n",
    "DON'T MODIFY ANYTHING IN THIS CELL THAT IS BELOW THIS LINE\n",
    "\"\"\"\n",
    "tests.test_build_nn(build_nn)"
   ]
  },
  {
   "cell_type": "markdown",
   "metadata": {
    "deletable": true,
    "editable": true
   },
   "source": [
    "### Batches\n",
    "Implement `get_batches` to create batches of input and targets using `int_text`.  The batches should be a Numpy array with the shape `(number of batches, 2, batch size, sequence length)`. Each batch contains two elements:\n",
    "- The first element is a single batch of **input** with the shape `[batch size, sequence length]`\n",
    "- The second element is a single batch of **targets** with the shape `[batch size, sequence length]`\n",
    "\n",
    "If you can't fill the last batch with enough data, drop the last batch.\n",
    "\n",
    "For exmple, `get_batches([1, 2, 3, 4, 5, 6, 7, 8, 9, 10, 11, 12, 13, 14, 15], 2, 3)` would return a Numpy array of the following:\n",
    "```\n",
    "[\n",
    "  # First Batch\n",
    "  [\n",
    "    # Batch of Input\n",
    "    [[ 1  2  3], [ 7  8  9]],\n",
    "    # Batch of targets\n",
    "    [[ 2  3  4], [ 8  9 10]]\n",
    "  ],\n",
    " \n",
    "  # Second Batch\n",
    "  [\n",
    "    # Batch of Input\n",
    "    [[ 4  5  6], [10 11 12]],\n",
    "    # Batch of targets\n",
    "    [[ 5  6  7], [11 12 13]]\n",
    "  ]\n",
    "]\n",
    "```"
   ]
  },
  {
   "cell_type": "code",
   "execution_count": 135,
   "metadata": {
    "collapsed": false,
    "deletable": true,
    "editable": true
   },
   "outputs": [
    {
     "name": "stdout",
     "output_type": "stream",
     "text": [
      "Tests Passed\n"
     ]
    }
   ],
   "source": [
    "def get_batches(int_text, batch_size, seq_length):\n",
    "    \"\"\"\n",
    "    Return batches of input and target\n",
    "    :param int_text: Text with the words replaced by their ids\n",
    "    :param batch_size: The size of batch\n",
    "    :param seq_length: The length of sequence\n",
    "    :return: Batches as a Numpy array\n",
    "    \"\"\"\n",
    "    # TODO: Implement Function\n",
    "    n_batches = len(int_text)//(batch_size * seq_length)\n",
    "    int_text = int_text[:n_batches*batch_size*seq_length+1]\n",
    "    \n",
    "    outcome = np.ndarray(shape=(n_batches, 2, batch_size, seq_length), dtype=int)\n",
    "    skip = n_batches * seq_length\n",
    "    \n",
    "    for i in range(n_batches):\n",
    "        b_idx = i * seq_length\n",
    "        x, y = [], []\n",
    "        for ii in range(batch_size):\n",
    "            idx = b_idx + (ii + skip)\n",
    "            x_idx = idx\n",
    "            y_idx = idx +1\n",
    "            outcome[i][0][ii] = int_text[x_idx:x_idx+seq_length]\n",
    "            outcome[i][1][ii] = int_text[y_idx:y_idx+seq_length]\n",
    "        \n",
    "    return outcome\n",
    "\n",
    "\n",
    "\"\"\"\n",
    "DON'T MODIFY ANYTHING IN THIS CELL THAT IS BELOW THIS LINE\n",
    "\"\"\"\n",
    "tests.test_get_batches(get_batches)"
   ]
  },
  {
   "cell_type": "markdown",
   "metadata": {
    "deletable": true,
    "editable": true
   },
   "source": [
    "## Neural Network Training\n",
    "### Hyperparameters\n",
    "Tune the following parameters:\n",
    "\n",
    "- Set `num_epochs` to the number of epochs.\n",
    "- Set `batch_size` to the batch size.\n",
    "- Set `rnn_size` to the size of the RNNs.\n",
    "- Set `seq_length` to the length of sequence.\n",
    "- Set `learning_rate` to the learning rate.\n",
    "- Set `show_every_n_batches` to the number of batches the neural network should print progress."
   ]
  },
  {
   "cell_type": "code",
   "execution_count": 136,
   "metadata": {
    "collapsed": true,
    "deletable": true,
    "editable": true
   },
   "outputs": [],
   "source": [
    "# Number of Epochs\n",
    "num_epochs = 100\n",
    "# Batch Size\n",
    "batch_size = 100\n",
    "rnn_size = 250\n",
    "# Sequence Length\n",
    "seq_length = 10\n",
    "# Learning Rate\n",
    "learning_rate = 0.01\n",
    "# Show stats for every n number of batches\n",
    "show_every_n_batches = 25\n",
    "\n",
    "\"\"\"\n",
    "DON'T MODIFY ANYTHING IN THIS CELL THAT IS BELOW THIS LINE\n",
    "\"\"\"\n",
    "save_dir = './save'"
   ]
  },
  {
   "cell_type": "markdown",
   "metadata": {
    "deletable": true,
    "editable": true
   },
   "source": [
    "### Build the Graph\n",
    "Build the graph using the neural network you implemented."
   ]
  },
  {
   "cell_type": "code",
   "execution_count": 137,
   "metadata": {
    "collapsed": false,
    "deletable": true,
    "editable": true
   },
   "outputs": [],
   "source": [
    "\"\"\"\n",
    "DON'T MODIFY ANYTHING IN THIS CELL\n",
    "\"\"\"\n",
    "from tensorflow.contrib import seq2seq\n",
    "\n",
    "train_graph = tf.Graph()\n",
    "with train_graph.as_default():\n",
    "    vocab_size = len(int_to_vocab)\n",
    "    input_text, targets, lr = get_inputs()\n",
    "    input_data_shape = tf.shape(input_text)\n",
    "    cell, initial_state = get_init_cell(input_data_shape[0], rnn_size)\n",
    "    logits, final_state = build_nn(cell, rnn_size, input_text, vocab_size)\n",
    "\n",
    "    # Probabilities for generating words\n",
    "    probs = tf.nn.softmax(logits, name='probs')\n",
    "\n",
    "    # Loss function\n",
    "    cost = seq2seq.sequence_loss(\n",
    "        logits,\n",
    "        targets,\n",
    "        tf.ones([input_data_shape[0], input_data_shape[1]]))\n",
    "\n",
    "    # Optimizer\n",
    "    optimizer = tf.train.AdamOptimizer(lr)\n",
    "\n",
    "    # Gradient Clipping\n",
    "    gradients = optimizer.compute_gradients(cost)\n",
    "    capped_gradients = [(tf.clip_by_value(grad, -1., 1.), var) for grad, var in gradients]\n",
    "    train_op = optimizer.apply_gradients(capped_gradients)"
   ]
  },
  {
   "cell_type": "markdown",
   "metadata": {
    "deletable": true,
    "editable": true
   },
   "source": [
    "## Train\n",
    "Train the neural network on the preprocessed data.  If you have a hard time getting a good loss, check the [forms](https://discussions.udacity.com/) to see if anyone is having the same problem."
   ]
  },
  {
   "cell_type": "code",
   "execution_count": 138,
   "metadata": {
    "collapsed": false,
    "deletable": true,
    "editable": true
   },
   "outputs": [
    {
     "name": "stdout",
     "output_type": "stream",
     "text": [
      "Epoch   0 Batch    0/69   train_loss = 8.823\n",
      "Epoch   0 Batch   25/69   train_loss = 8.393\n",
      "Epoch   0 Batch   50/69   train_loss = 7.269\n",
      "Epoch   1 Batch    6/69   train_loss = 4.416\n",
      "Epoch   1 Batch   31/69   train_loss = 4.095\n",
      "Epoch   1 Batch   56/69   train_loss = 3.069\n",
      "Epoch   2 Batch   12/69   train_loss = 2.926\n",
      "Epoch   2 Batch   37/69   train_loss = 2.465\n",
      "Epoch   2 Batch   62/69   train_loss = 1.698\n",
      "Epoch   3 Batch   18/69   train_loss = 1.448\n",
      "Epoch   3 Batch   43/69   train_loss = 1.242\n",
      "Epoch   3 Batch   68/69   train_loss = 1.526\n",
      "Epoch   4 Batch   24/69   train_loss = 1.098\n",
      "Epoch   4 Batch   49/69   train_loss = 0.957\n",
      "Epoch   5 Batch    5/69   train_loss = 1.008\n",
      "Epoch   5 Batch   30/69   train_loss = 0.710\n",
      "Epoch   5 Batch   55/69   train_loss = 0.611\n",
      "Epoch   6 Batch   11/69   train_loss = 0.561\n",
      "Epoch   6 Batch   36/69   train_loss = 0.460\n",
      "Epoch   6 Batch   61/69   train_loss = 0.553\n",
      "Epoch   7 Batch   17/69   train_loss = 0.492\n",
      "Epoch   7 Batch   42/69   train_loss = 0.438\n",
      "Epoch   7 Batch   67/69   train_loss = 0.485\n",
      "Epoch   8 Batch   23/69   train_loss = 0.358\n",
      "Epoch   8 Batch   48/69   train_loss = 0.384\n",
      "Epoch   9 Batch    4/69   train_loss = 0.402\n",
      "Epoch   9 Batch   29/69   train_loss = 0.292\n",
      "Epoch   9 Batch   54/69   train_loss = 0.292\n",
      "Epoch  10 Batch   10/69   train_loss = 0.276\n",
      "Epoch  10 Batch   35/69   train_loss = 0.278\n",
      "Epoch  10 Batch   60/69   train_loss = 0.296\n",
      "Epoch  11 Batch   16/69   train_loss = 0.253\n",
      "Epoch  11 Batch   41/69   train_loss = 0.261\n",
      "Epoch  11 Batch   66/69   train_loss = 0.373\n",
      "Epoch  12 Batch   22/69   train_loss = 0.294\n",
      "Epoch  12 Batch   47/69   train_loss = 0.306\n",
      "Epoch  13 Batch    3/69   train_loss = 0.352\n",
      "Epoch  13 Batch   28/69   train_loss = 0.234\n",
      "Epoch  13 Batch   53/69   train_loss = 0.280\n",
      "Epoch  14 Batch    9/69   train_loss = 0.271\n",
      "Epoch  14 Batch   34/69   train_loss = 0.262\n",
      "Epoch  14 Batch   59/69   train_loss = 0.267\n",
      "Epoch  15 Batch   15/69   train_loss = 0.262\n",
      "Epoch  15 Batch   40/69   train_loss = 0.258\n",
      "Epoch  15 Batch   65/69   train_loss = 0.330\n",
      "Epoch  16 Batch   21/69   train_loss = 0.266\n",
      "Epoch  16 Batch   46/69   train_loss = 0.295\n",
      "Epoch  17 Batch    2/69   train_loss = 0.339\n",
      "Epoch  17 Batch   27/69   train_loss = 0.238\n",
      "Epoch  17 Batch   52/69   train_loss = 0.261\n",
      "Epoch  18 Batch    8/69   train_loss = 0.273\n",
      "Epoch  18 Batch   33/69   train_loss = 0.232\n",
      "Epoch  18 Batch   58/69   train_loss = 0.256\n",
      "Epoch  19 Batch   14/69   train_loss = 0.246\n",
      "Epoch  19 Batch   39/69   train_loss = 0.247\n",
      "Epoch  19 Batch   64/69   train_loss = 0.302\n",
      "Epoch  20 Batch   20/69   train_loss = 0.265\n",
      "Epoch  20 Batch   45/69   train_loss = 0.302\n",
      "Epoch  21 Batch    1/69   train_loss = 0.347\n",
      "Epoch  21 Batch   26/69   train_loss = 0.237\n",
      "Epoch  21 Batch   51/69   train_loss = 0.275\n",
      "Epoch  22 Batch    7/69   train_loss = 0.264\n",
      "Epoch  22 Batch   32/69   train_loss = 0.233\n",
      "Epoch  22 Batch   57/69   train_loss = 0.259\n",
      "Epoch  23 Batch   13/69   train_loss = 0.237\n",
      "Epoch  23 Batch   38/69   train_loss = 0.245\n",
      "Epoch  23 Batch   63/69   train_loss = 0.272\n",
      "Epoch  24 Batch   19/69   train_loss = 0.260\n",
      "Epoch  24 Batch   44/69   train_loss = 0.280\n",
      "Epoch  25 Batch    0/69   train_loss = 0.412\n",
      "Epoch  25 Batch   25/69   train_loss = 0.233\n",
      "Epoch  25 Batch   50/69   train_loss = 0.270\n",
      "Epoch  26 Batch    6/69   train_loss = 0.278\n",
      "Epoch  26 Batch   31/69   train_loss = 0.238\n",
      "Epoch  26 Batch   56/69   train_loss = 0.253\n",
      "Epoch  27 Batch   12/69   train_loss = 0.233\n",
      "Epoch  27 Batch   37/69   train_loss = 0.240\n",
      "Epoch  27 Batch   62/69   train_loss = 0.276\n",
      "Epoch  28 Batch   18/69   train_loss = 0.226\n",
      "Epoch  28 Batch   43/69   train_loss = 0.267\n",
      "Epoch  28 Batch   68/69   train_loss = 0.345\n",
      "Epoch  29 Batch   24/69   train_loss = 0.237\n",
      "Epoch  29 Batch   49/69   train_loss = 0.277\n",
      "Epoch  30 Batch    5/69   train_loss = 0.276\n",
      "Epoch  30 Batch   30/69   train_loss = 0.226\n",
      "Epoch  30 Batch   55/69   train_loss = 0.254\n",
      "Epoch  31 Batch   11/69   train_loss = 0.251\n",
      "Epoch  31 Batch   36/69   train_loss = 0.258\n",
      "Epoch  31 Batch   61/69   train_loss = 0.264\n",
      "Epoch  32 Batch   17/69   train_loss = 0.220\n",
      "Epoch  32 Batch   42/69   train_loss = 0.255\n",
      "Epoch  32 Batch   67/69   train_loss = 0.338\n",
      "Epoch  33 Batch   23/69   train_loss = 0.243\n",
      "Epoch  33 Batch   48/69   train_loss = 0.277\n",
      "Epoch  34 Batch    4/69   train_loss = 0.278\n",
      "Epoch  34 Batch   29/69   train_loss = 0.216\n",
      "Epoch  34 Batch   54/69   train_loss = 0.252\n",
      "Epoch  35 Batch   10/69   train_loss = 0.241\n",
      "Epoch  35 Batch   35/69   train_loss = 0.240\n",
      "Epoch  35 Batch   60/69   train_loss = 0.268\n",
      "Epoch  36 Batch   16/69   train_loss = 0.213\n",
      "Epoch  36 Batch   41/69   train_loss = 0.242\n",
      "Epoch  36 Batch   66/69   train_loss = 0.327\n",
      "Epoch  37 Batch   22/69   train_loss = 0.248\n",
      "Epoch  37 Batch   47/69   train_loss = 0.288\n",
      "Epoch  38 Batch    3/69   train_loss = 0.321\n",
      "Epoch  38 Batch   28/69   train_loss = 0.211\n",
      "Epoch  38 Batch   53/69   train_loss = 0.254\n",
      "Epoch  39 Batch    9/69   train_loss = 0.243\n",
      "Epoch  39 Batch   34/69   train_loss = 0.245\n",
      "Epoch  39 Batch   59/69   train_loss = 0.247\n",
      "Epoch  40 Batch   15/69   train_loss = 0.230\n",
      "Epoch  40 Batch   40/69   train_loss = 0.248\n",
      "Epoch  40 Batch   65/69   train_loss = 0.308\n",
      "Epoch  41 Batch   21/69   train_loss = 0.251\n",
      "Epoch  41 Batch   46/69   train_loss = 0.273\n",
      "Epoch  42 Batch    2/69   train_loss = 0.295\n",
      "Epoch  42 Batch   27/69   train_loss = 0.211\n",
      "Epoch  42 Batch   52/69   train_loss = 0.251\n",
      "Epoch  43 Batch    8/69   train_loss = 0.255\n",
      "Epoch  43 Batch   33/69   train_loss = 0.232\n",
      "Epoch  43 Batch   58/69   train_loss = 0.258\n",
      "Epoch  44 Batch   14/69   train_loss = 0.231\n",
      "Epoch  44 Batch   39/69   train_loss = 0.241\n",
      "Epoch  44 Batch   64/69   train_loss = 0.288\n",
      "Epoch  45 Batch   20/69   train_loss = 0.255\n",
      "Epoch  45 Batch   45/69   train_loss = 0.294\n",
      "Epoch  46 Batch    1/69   train_loss = 0.336\n",
      "Epoch  46 Batch   26/69   train_loss = 0.229\n",
      "Epoch  46 Batch   51/69   train_loss = 0.272\n",
      "Epoch  47 Batch    7/69   train_loss = 0.257\n",
      "Epoch  47 Batch   32/69   train_loss = 0.231\n",
      "Epoch  47 Batch   57/69   train_loss = 0.245\n",
      "Epoch  48 Batch   13/69   train_loss = 0.225\n",
      "Epoch  48 Batch   38/69   train_loss = 0.246\n",
      "Epoch  48 Batch   63/69   train_loss = 0.287\n",
      "Epoch  49 Batch   19/69   train_loss = 0.243\n",
      "Epoch  49 Batch   44/69   train_loss = 0.273\n",
      "Epoch  50 Batch    0/69   train_loss = 0.386\n",
      "Epoch  50 Batch   25/69   train_loss = 0.232\n",
      "Epoch  50 Batch   50/69   train_loss = 0.261\n",
      "Epoch  51 Batch    6/69   train_loss = 0.272\n",
      "Epoch  51 Batch   31/69   train_loss = 0.234\n",
      "Epoch  51 Batch   56/69   train_loss = 0.257\n",
      "Epoch  52 Batch   12/69   train_loss = 0.229\n",
      "Epoch  52 Batch   37/69   train_loss = 0.234\n",
      "Epoch  52 Batch   62/69   train_loss = 0.289\n",
      "Epoch  53 Batch   18/69   train_loss = 0.224\n",
      "Epoch  53 Batch   43/69   train_loss = 0.258\n",
      "Epoch  53 Batch   68/69   train_loss = 0.356\n",
      "Epoch  54 Batch   24/69   train_loss = 0.241\n",
      "Epoch  54 Batch   49/69   train_loss = 0.270\n",
      "Epoch  55 Batch    5/69   train_loss = 0.263\n",
      "Epoch  55 Batch   30/69   train_loss = 0.214\n",
      "Epoch  55 Batch   55/69   train_loss = 0.243\n",
      "Epoch  56 Batch   11/69   train_loss = 0.240\n",
      "Epoch  56 Batch   36/69   train_loss = 0.246\n",
      "Epoch  56 Batch   61/69   train_loss = 0.271\n",
      "Epoch  57 Batch   17/69   train_loss = 0.233\n",
      "Epoch  57 Batch   42/69   train_loss = 0.284\n",
      "Epoch  57 Batch   67/69   train_loss = 0.412\n",
      "Epoch  58 Batch   23/69   train_loss = 0.402\n",
      "Epoch  58 Batch   48/69   train_loss = 0.693\n",
      "Epoch  59 Batch    4/69   train_loss = 1.102\n",
      "Epoch  59 Batch   29/69   train_loss = 1.037\n",
      "Epoch  59 Batch   54/69   train_loss = 1.013\n",
      "Epoch  60 Batch   10/69   train_loss = 0.881\n",
      "Epoch  60 Batch   35/69   train_loss = 0.826\n",
      "Epoch  60 Batch   60/69   train_loss = 0.736\n",
      "Epoch  61 Batch   16/69   train_loss = 0.465\n",
      "Epoch  61 Batch   41/69   train_loss = 0.598\n",
      "Epoch  61 Batch   66/69   train_loss = 0.571\n",
      "Epoch  62 Batch   22/69   train_loss = 0.402\n",
      "Epoch  62 Batch   47/69   train_loss = 0.398\n",
      "Epoch  63 Batch    3/69   train_loss = 0.386\n",
      "Epoch  63 Batch   28/69   train_loss = 0.242\n",
      "Epoch  63 Batch   53/69   train_loss = 0.307\n",
      "Epoch  64 Batch    9/69   train_loss = 0.268\n",
      "Epoch  64 Batch   34/69   train_loss = 0.284\n",
      "Epoch  64 Batch   59/69   train_loss = 0.290\n",
      "Epoch  65 Batch   15/69   train_loss = 0.260\n",
      "Epoch  65 Batch   40/69   train_loss = 0.251\n",
      "Epoch  65 Batch   65/69   train_loss = 0.374\n",
      "Epoch  66 Batch   21/69   train_loss = 0.274\n",
      "Epoch  66 Batch   46/69   train_loss = 0.278\n",
      "Epoch  67 Batch    2/69   train_loss = 0.319\n",
      "Epoch  67 Batch   27/69   train_loss = 0.233\n",
      "Epoch  67 Batch   52/69   train_loss = 0.256\n",
      "Epoch  68 Batch    8/69   train_loss = 0.258\n",
      "Epoch  68 Batch   33/69   train_loss = 0.226\n",
      "Epoch  68 Batch   58/69   train_loss = 0.257\n",
      "Epoch  69 Batch   14/69   train_loss = 0.246\n",
      "Epoch  69 Batch   39/69   train_loss = 0.250\n",
      "Epoch  69 Batch   64/69   train_loss = 0.311\n",
      "Epoch  70 Batch   20/69   train_loss = 0.265\n",
      "Epoch  70 Batch   45/69   train_loss = 0.285\n",
      "Epoch  71 Batch    1/69   train_loss = 0.335\n",
      "Epoch  71 Batch   26/69   train_loss = 0.240\n",
      "Epoch  71 Batch   51/69   train_loss = 0.281\n",
      "Epoch  72 Batch    7/69   train_loss = 0.241\n",
      "Epoch  72 Batch   32/69   train_loss = 0.235\n",
      "Epoch  72 Batch   57/69   train_loss = 0.243\n",
      "Epoch  73 Batch   13/69   train_loss = 0.243\n",
      "Epoch  73 Batch   38/69   train_loss = 0.236\n",
      "Epoch  73 Batch   63/69   train_loss = 0.286\n",
      "Epoch  74 Batch   19/69   train_loss = 0.249\n",
      "Epoch  74 Batch   44/69   train_loss = 0.265\n",
      "Epoch  75 Batch    0/69   train_loss = 0.380\n",
      "Epoch  75 Batch   25/69   train_loss = 0.237\n",
      "Epoch  75 Batch   50/69   train_loss = 0.247\n",
      "Epoch  76 Batch    6/69   train_loss = 0.261\n",
      "Epoch  76 Batch   31/69   train_loss = 0.224\n",
      "Epoch  76 Batch   56/69   train_loss = 0.238\n",
      "Epoch  77 Batch   12/69   train_loss = 0.234\n",
      "Epoch  77 Batch   37/69   train_loss = 0.235\n",
      "Epoch  77 Batch   62/69   train_loss = 0.261\n",
      "Epoch  78 Batch   18/69   train_loss = 0.224\n",
      "Epoch  78 Batch   43/69   train_loss = 0.257\n",
      "Epoch  78 Batch   68/69   train_loss = 0.354\n",
      "Epoch  79 Batch   24/69   train_loss = 0.234\n",
      "Epoch  79 Batch   49/69   train_loss = 0.261\n",
      "Epoch  80 Batch    5/69   train_loss = 0.253\n",
      "Epoch  80 Batch   30/69   train_loss = 0.217\n",
      "Epoch  80 Batch   55/69   train_loss = 0.237\n",
      "Epoch  81 Batch   11/69   train_loss = 0.236\n",
      "Epoch  81 Batch   36/69   train_loss = 0.242\n",
      "Epoch  81 Batch   61/69   train_loss = 0.260\n",
      "Epoch  82 Batch   17/69   train_loss = 0.223\n",
      "Epoch  82 Batch   42/69   train_loss = 0.242\n",
      "Epoch  82 Batch   67/69   train_loss = 0.321\n",
      "Epoch  83 Batch   23/69   train_loss = 0.228\n",
      "Epoch  83 Batch   48/69   train_loss = 0.268\n",
      "Epoch  84 Batch    4/69   train_loss = 0.260\n",
      "Epoch  84 Batch   29/69   train_loss = 0.209\n",
      "Epoch  84 Batch   54/69   train_loss = 0.239\n",
      "Epoch  85 Batch   10/69   train_loss = 0.221\n",
      "Epoch  85 Batch   35/69   train_loss = 0.228\n",
      "Epoch  85 Batch   60/69   train_loss = 0.245\n",
      "Epoch  86 Batch   16/69   train_loss = 0.211\n",
      "Epoch  86 Batch   41/69   train_loss = 0.227\n",
      "Epoch  86 Batch   66/69   train_loss = 0.285\n",
      "Epoch  87 Batch   22/69   train_loss = 0.235\n",
      "Epoch  87 Batch   47/69   train_loss = 0.274\n",
      "Epoch  88 Batch    3/69   train_loss = 0.301\n",
      "Epoch  88 Batch   28/69   train_loss = 0.204\n",
      "Epoch  88 Batch   53/69   train_loss = 0.250\n",
      "Epoch  89 Batch    9/69   train_loss = 0.233\n",
      "Epoch  89 Batch   34/69   train_loss = 0.228\n",
      "Epoch  89 Batch   59/69   train_loss = 0.239\n",
      "Epoch  90 Batch   15/69   train_loss = 0.221\n",
      "Epoch  90 Batch   40/69   train_loss = 0.229\n",
      "Epoch  90 Batch   65/69   train_loss = 0.288\n",
      "Epoch  91 Batch   21/69   train_loss = 0.233\n",
      "Epoch  91 Batch   46/69   train_loss = 0.264\n",
      "Epoch  92 Batch    2/69   train_loss = 0.279\n",
      "Epoch  92 Batch   27/69   train_loss = 0.204\n",
      "Epoch  92 Batch   52/69   train_loss = 0.240\n",
      "Epoch  93 Batch    8/69   train_loss = 0.246\n",
      "Epoch  93 Batch   33/69   train_loss = 0.206\n",
      "Epoch  93 Batch   58/69   train_loss = 0.236\n",
      "Epoch  94 Batch   14/69   train_loss = 0.222\n",
      "Epoch  94 Batch   39/69   train_loss = 0.223\n",
      "Epoch  94 Batch   64/69   train_loss = 0.278\n",
      "Epoch  95 Batch   20/69   train_loss = 0.244\n",
      "Epoch  95 Batch   45/69   train_loss = 0.265\n",
      "Epoch  96 Batch    1/69   train_loss = 0.313\n",
      "Epoch  96 Batch   26/69   train_loss = 0.212\n",
      "Epoch  96 Batch   51/69   train_loss = 0.250\n",
      "Epoch  97 Batch    7/69   train_loss = 0.238\n",
      "Epoch  97 Batch   32/69   train_loss = 0.210\n",
      "Epoch  97 Batch   57/69   train_loss = 0.236\n",
      "Epoch  98 Batch   13/69   train_loss = 0.219\n",
      "Epoch  98 Batch   38/69   train_loss = 0.224\n",
      "Epoch  98 Batch   63/69   train_loss = 0.263\n",
      "Epoch  99 Batch   19/69   train_loss = 0.235\n",
      "Epoch  99 Batch   44/69   train_loss = 0.250\n",
      "Model Trained and Saved\n"
     ]
    }
   ],
   "source": [
    "\"\"\"\n",
    "DON'T MODIFY ANYTHING IN THIS CELL\n",
    "\"\"\"\n",
    "batches = get_batches(int_text, batch_size, seq_length)\n",
    "\n",
    "with tf.Session(graph=train_graph) as sess:\n",
    "    sess.run(tf.global_variables_initializer())\n",
    "\n",
    "    for epoch_i in range(num_epochs):\n",
    "        state = sess.run(initial_state, {input_text: batches[0][0]})\n",
    "\n",
    "        for batch_i, (x, y) in enumerate(batches):\n",
    "            feed = {\n",
    "                input_text: x,\n",
    "                targets: y,\n",
    "                initial_state: state,\n",
    "                lr: learning_rate}\n",
    "            train_loss, state, _ = sess.run([cost, final_state, train_op], feed)\n",
    "\n",
    "            # Show every <show_every_n_batches> batches\n",
    "            if (epoch_i * len(batches) + batch_i) % show_every_n_batches == 0:\n",
    "                print('Epoch {:>3} Batch {:>4}/{}   train_loss = {:.3f}'.format(\n",
    "                    epoch_i,\n",
    "                    batch_i,\n",
    "                    len(batches),\n",
    "                    train_loss))\n",
    "\n",
    "    # Save Model\n",
    "    saver = tf.train.Saver()\n",
    "    saver.save(sess, save_dir)\n",
    "    print('Model Trained and Saved')"
   ]
  },
  {
   "cell_type": "markdown",
   "metadata": {
    "deletable": true,
    "editable": true
   },
   "source": [
    "## Save Parameters\n",
    "Save `seq_length` and `save_dir` for generating a new TV script."
   ]
  },
  {
   "cell_type": "code",
   "execution_count": 139,
   "metadata": {
    "collapsed": false,
    "deletable": true,
    "editable": true
   },
   "outputs": [],
   "source": [
    "\"\"\"\n",
    "DON'T MODIFY ANYTHING IN THIS CELL\n",
    "\"\"\"\n",
    "# Save parameters for checkpoint\n",
    "helper.save_params((seq_length, save_dir))"
   ]
  },
  {
   "cell_type": "markdown",
   "metadata": {
    "deletable": true,
    "editable": true
   },
   "source": [
    "# Checkpoint"
   ]
  },
  {
   "cell_type": "code",
   "execution_count": 140,
   "metadata": {
    "collapsed": false,
    "deletable": true,
    "editable": true
   },
   "outputs": [],
   "source": [
    "\"\"\"\n",
    "DON'T MODIFY ANYTHING IN THIS CELL\n",
    "\"\"\"\n",
    "import tensorflow as tf\n",
    "import numpy as np\n",
    "import helper\n",
    "import problem_unittests as tests\n",
    "\n",
    "_, vocab_to_int, int_to_vocab, token_dict = helper.load_preprocess()\n",
    "seq_length, load_dir = helper.load_params()"
   ]
  },
  {
   "cell_type": "markdown",
   "metadata": {
    "deletable": true,
    "editable": true
   },
   "source": [
    "## Implement Generate Functions\n",
    "### Get Tensors\n",
    "Get tensors from `loaded_graph` using the function [`get_tensor_by_name()`](https://www.tensorflow.org/api_docs/python/tf/Graph#get_tensor_by_name).  Get the tensors using the following names:\n",
    "- \"input:0\"\n",
    "- \"initial_state:0\"\n",
    "- \"final_state:0\"\n",
    "- \"probs:0\"\n",
    "\n",
    "Return the tensors in the following tuple `(InputTensor, InitialStateTensor, FinalStateTensor, ProbsTensor)` "
   ]
  },
  {
   "cell_type": "code",
   "execution_count": 141,
   "metadata": {
    "collapsed": false,
    "deletable": true,
    "editable": true
   },
   "outputs": [
    {
     "name": "stdout",
     "output_type": "stream",
     "text": [
      "Tests Passed\n"
     ]
    }
   ],
   "source": [
    "def get_tensors(loaded_graph):\n",
    "    \"\"\"\n",
    "    Get input, initial state, final state, and probabilities tensor from <loaded_graph>\n",
    "    :param loaded_graph: TensorFlow graph loaded from file\n",
    "    :return: Tuple (InputTensor, InitialStateTensor, FinalStateTensor, ProbsTensor)\n",
    "    \"\"\"\n",
    "    # TODO: Implement Function\n",
    "    InputTensor = loaded_graph.get_tensor_by_name(\"input:0\")\n",
    "    InitialStateTensor = loaded_graph.get_tensor_by_name(\"initial_state:0\")\n",
    "    FinalStateTensor = loaded_graph.get_tensor_by_name(\"final_state:0\")\n",
    "    ProbsTensor = loaded_graph.get_tensor_by_name(\"probs:0\")\n",
    "    return (InputTensor, InitialStateTensor, FinalStateTensor, ProbsTensor)\n",
    "\n",
    "\n",
    "\"\"\"\n",
    "DON'T MODIFY ANYTHING IN THIS CELL THAT IS BELOW THIS LINE\n",
    "\"\"\"\n",
    "tests.test_get_tensors(get_tensors)"
   ]
  },
  {
   "cell_type": "markdown",
   "metadata": {
    "deletable": true,
    "editable": true
   },
   "source": [
    "### Choose Word\n",
    "Implement the `pick_word()` function to select the next word using `probabilities`."
   ]
  },
  {
   "cell_type": "code",
   "execution_count": 142,
   "metadata": {
    "collapsed": false,
    "deletable": true,
    "editable": true
   },
   "outputs": [
    {
     "name": "stdout",
     "output_type": "stream",
     "text": [
      "Tests Passed\n"
     ]
    }
   ],
   "source": [
    "def pick_word(probabilities, int_to_vocab):\n",
    "    \"\"\"\n",
    "    Pick the next word in the generated text\n",
    "    :param probabilities: Probabilites of the next word\n",
    "    :param int_to_vocab: Dictionary of word ids as the keys and words as the values\n",
    "    :return: String of the predicted word\n",
    "    \"\"\"\n",
    "    # TODO: Implement Function\n",
    "    words = np.random.choice(list(int_to_vocab.values()), p=probabilities)\n",
    "    return words\n",
    "\n",
    "\n",
    "\"\"\"\n",
    "DON'T MODIFY ANYTHING IN THIS CELL THAT IS BELOW THIS LINE\n",
    "\"\"\"\n",
    "tests.test_pick_word(pick_word)"
   ]
  },
  {
   "cell_type": "markdown",
   "metadata": {
    "deletable": true,
    "editable": true
   },
   "source": [
    "## Generate TV Script\n",
    "This will generate the TV script for you.  Set `gen_length` to the length of TV script you want to generate."
   ]
  },
  {
   "cell_type": "code",
   "execution_count": 143,
   "metadata": {
    "collapsed": false,
    "deletable": true,
    "editable": true
   },
   "outputs": [
    {
     "name": "stdout",
     "output_type": "stream",
     "text": [
      "moe_szyslak: uh, let me check the lost and found.\n",
      "moe_szyslak: what do we got here, bowie knife, troll doll, glass eye...\n",
      "moe_szyslak: oh. here we are.\n",
      "moe_szyslak: it's not without its charm.\n",
      "homer_simpson: try lighting it on fire.\n",
      "moe_szyslak:(smiling) whoa! homer, it's like there's a party in my mouth and everyone's invited.\n",
      "larry: hey, your love tester's busted. i want my nickel back.(coughs)\n",
      "moe_szyslak: hey, buddy. have one on the house.\n",
      "larry: hey, hey, this drink is delicious! and my phlegm feels looser. what do you call it?\n",
      "homer_simpson: a\" flaming homer\".\n",
      "moe_szyslak: okay, why don't you make us up a couple of\" flaming homers\"?\n",
      "homer_simpson: hey moe, you got any cough syrup?\n",
      "moe_szyslak: uh, let me check the lost and found.\n",
      "moe_szyslak: what do we got here, bowie knife, troll doll, glass eye...\n",
      "moe_szyslak: oh. here\n"
     ]
    }
   ],
   "source": [
    "gen_length = 200\n",
    "# homer_simpson, moe_szyslak, or Barney_Gumble\n",
    "prime_word = 'moe_szyslak'\n",
    "\n",
    "\"\"\"\n",
    "DON'T MODIFY ANYTHING IN THIS CELL THAT IS BELOW THIS LINE\n",
    "\"\"\"\n",
    "loaded_graph = tf.Graph()\n",
    "with tf.Session(graph=loaded_graph) as sess:\n",
    "    # Load saved model\n",
    "    loader = tf.train.import_meta_graph(load_dir + '.meta')\n",
    "    loader.restore(sess, load_dir)\n",
    "\n",
    "    # Get Tensors from loaded model\n",
    "    input_text, initial_state, final_state, probs = get_tensors(loaded_graph)\n",
    "\n",
    "    # Sentences generation setup\n",
    "    gen_sentences = [prime_word + ':']\n",
    "    prev_state = sess.run(initial_state, {input_text: np.array([[1]])})\n",
    "\n",
    "    # Generate sentences\n",
    "    for n in range(gen_length):\n",
    "        # Dynamic Input\n",
    "        dyn_input = [[vocab_to_int[word] for word in gen_sentences[-seq_length:]]]\n",
    "        dyn_seq_length = len(dyn_input[0])\n",
    "\n",
    "        # Get Prediction\n",
    "        probabilities, prev_state = sess.run(\n",
    "            [probs, final_state],\n",
    "            {input_text: dyn_input, initial_state: prev_state})\n",
    "        \n",
    "        pred_word = pick_word(probabilities[dyn_seq_length-1], int_to_vocab)\n",
    "\n",
    "        gen_sentences.append(pred_word)\n",
    "    \n",
    "    # Remove tokens\n",
    "    tv_script = ' '.join(gen_sentences)\n",
    "    for key, token in token_dict.items():\n",
    "        ending = ' ' if key in ['\\n', '(', '\"'] else ''\n",
    "        tv_script = tv_script.replace(' ' + token.lower(), key)\n",
    "    tv_script = tv_script.replace('\\n ', '\\n')\n",
    "    tv_script = tv_script.replace('( ', '(')\n",
    "        \n",
    "    print(tv_script)"
   ]
  },
  {
   "cell_type": "markdown",
   "metadata": {
    "deletable": true,
    "editable": true
   },
   "source": [
    "# The TV Script is Nonsensical\n",
    "It's ok if the TV script doesn't make any sense.  We trained on less than a megabyte of text.  In order to get good results, you'll have to use a smaller vocabulary or get more data.  Luckly there's more data!  As we mentioned in the begging of this project, this is a subset of [another dataset](https://www.kaggle.com/wcukierski/the-simpsons-by-the-data).  We didn't have you train on all the data, because that would take too long.  However, you are free to train your neural network on all the data.  After you complete the project, of course.\n",
    "# Submitting This Project\n",
    "When submitting this project, make sure to run all the cells before saving the notebook. Save the notebook file as \"dlnd_tv_script_generation.ipynb\" and save it as a HTML file under \"File\" -> \"Download as\". Include the \"helper.py\" and \"problem_unittests.py\" files in your submission."
   ]
  }
 ],
 "metadata": {
  "kernelspec": {
   "display_name": "Python 3",
   "language": "python",
   "name": "python3"
  },
  "language_info": {
   "codemirror_mode": {
    "name": "ipython",
    "version": 3
   },
   "file_extension": ".py",
   "mimetype": "text/x-python",
   "name": "python",
   "nbconvert_exporter": "python",
   "pygments_lexer": "ipython3",
   "version": "3.5.3"
  }
 },
 "nbformat": 4,
 "nbformat_minor": 0
}
